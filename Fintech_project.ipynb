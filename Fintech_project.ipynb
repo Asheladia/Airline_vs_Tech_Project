{
 "cells": [
  {
   "cell_type": "code",
 Alpa
   "execution_count": 45,

   "execution_count": 31,
 main
   "metadata": {},
   "outputs": [
    {
     "data": {
      "text/plain": [
       "True"
      ]
     },
 Alpa
     "execution_count": 45,

     "execution_count": 31,
 main
     "metadata": {},
     "output_type": "execute_result"
    }
   ],
   "source": [
    "from dotenv import load_dotenv\n",
    "import os\n",
    "import pandas as pd\n",
    "import alpaca_trade_api as tradeapi\n",
    "import requests\n",
    "import json\n",
    "load_dotenv(\"alphavantage_api_key.env\")"
   ]
  },
  {
   "cell_type": "code",
 Alpa
   "execution_count": 46,

   "execution_count": 32,
 main
   "metadata": {},
   "outputs": [],
   "source": [
    "key = \"XJFZZSGKZRF2210L\""
   ]
  },
  {
   "cell_type": "code",
 Alpa
   "execution_count": 49,
   "metadata": {},
   "outputs": [],
   "source": [
    "os.chdir(\"Fintech_Project_1/\")"

   "execution_count": 70,
   "metadata": {},
   "outputs": [],
   "source": [
    "symbol_list = [\"AAL\", \"UAL\", \"LUV\", \"DAL\", \"AL\"]\n",
    "tech_list = [\"AAPL\", \"GOOGL\", \"AMZN\", \"MSFT\", \"FB\"]\n",
    "\n",
    "for symbol in tech_list:\n",
    "    content = requests.get(url= \"https://www.alphavantage.co/query?\",  params = {\"function\":\"BALANCE_SHEET\", \"symbol\": symbol, \"apikey\": key})\n",
    "    data = content.json()\n",
    "    data_test=data['quarterlyReports']\n",
    "    df = pd.DataFrame.from_dict(data_test)\n",
    "    df.set_index('fiscalDateEnding', inplace=True)\n",
    "    file_name = f'Data/Tech/{symbol}_quarterly_reports.csv'\n",
    "    df.to_csv(file_name)\n"
 main
   ]
  },
  {
   "cell_type": "code",
 Alpa
   "execution_count": 50,

   "execution_count": 56,
 main
   "metadata": {},
   "outputs": [
    {
     "data": {
      "text/plain": [
 Alpa
       "'C:\\\\Users\\\\mshel\\\\Desktop\\\\Fintech_Project_1'"
      ]
     },
     "execution_count": 50,

       "'{\"fiscalDateEnding\": \"2019-12-31\", \"reportedCurrency\": \"USD\", \"totalAssets\": \"21709155000\", \"intangibleAssets\": \"None\", \"earningAssets\": \"None\", \"otherCurrentAssets\": \"270173000\", \"totalLiabilities\": \"16085611000\", \"totalShareholderEquity\": \"5623544000\", \"deferredLongTermLiabilities\": \"749495000\", \"otherCurrentLiabilities\": \"None\", \"commonStock\": \"1134000\", \"retainedEarnings\": \"2846106000\", \"otherLiabilities\": \"1990248000\", \"goodwill\": \"None\", \"otherAssets\": \"21065094000\", \"cash\": \"338061000\", \"totalCurrentLiabilities\": \"1757250000\", \"shortTermDebt\": \"1240753000\", \"currentLongTermDebt\": \"None\", \"otherShareholderEquity\": \"-1397000\", \"propertyPlantEquipment\": \"1564188000\", \"totalCurrentAssets\": \"338061000\", \"longTermInvestments\": \"56400000\", \"netTangibleAssets\": \"5623444000\", \"shortTermInvestments\": \"None\", \"netReceivables\": \"None\", \"longTermDebt\": \"13578866000\", \"inventory\": \"None\", \"accountsPayable\": \"516497000\", \"totalPermanentEquity\": \"None\", \"additionalPaidInCapital\": \"None\", \"commonStockTotalEquity\": \"1134000\", \"preferredStockTotalEquity\": \"100000\", \"retainedEarningsTotalEquity\": \"2846106000\", \"treasuryStock\": \"None\", \"accumulatedAmortization\": \"None\", \"otherNonCurrrentAssets\": \"19806906000\", \"deferredLongTermAssetCharges\": \"None\", \"totalNonCurrentAssets\": \"21371094000\", \"capitalLeaseObligations\": \"None\", \"totalLongTermDebt\": \"13578866000\", \"otherNonCurrentLiabilities\": \"None\", \"totalNonCurrentLiabilities\": \"14328361000\", \"negativeGoodwill\": \"None\", \"warrants\": \"None\", \"preferredStockRedeemable\": \"None\", \"capitalSurplus\": \"2777601000\", \"liabilitiesAndShareholderEquity\": \"21709155000\", \"cashAndShortTermInvestments\": \"338061000\", \"accumulatedDepreciation\": \"None\", \"commonStockSharesOutstanding\": \"113000000\"}'"
      ]
     },
     "execution_count": 56,
 main
     "metadata": {},
     "output_type": "execute_result"
    }
   ],
   "source": [
 Alpa
    "os.getcwd()"

    "#print(data1)\n",
    "#data_test2=pd.DataFrame(data_test,index=\"fiscalDateEnding\")\n",
    "data_test2=json.dumps(data_test)\n",
    "data_test2="
 main
   ]
  },
  {
   "cell_type": "code",
   "execution_count": 51,
   "metadata": {},
   "outputs": [],
   "source": [
    "#pull data and create CSV from Json for Tech companies\n",
    "\n",
    "symbol_list = [\"AAL\", \"UAL\", \"LUV\", \"DAL\", \"AL\"]\n",
    "for symbol in symbol_list:\n",
    "    content = requests.get(url= \"https://www.alphavantage.co/query?\",  params = {\"function\":\"BALANCE_SHEET\", \"symbol\": symbol, \"apikey\": key})\n",
    "    data = content.json()\n",
    "    data_test=data['quarterlyReports']\n",
    "    df = pd.DataFrame.from_dict(data_test)\n",
    "    df.set_index('fiscalDateEnding', inplace=True)\n",
    "    file_name = f'Data/Airlines/{symbol}_quarterly_reports.csv'\n",
    "    df.to_csv(file_name)"
   ]
  },
  {
   "cell_type": "code",
   "execution_count": 53,
   "metadata": {},
   "outputs": [],
   "source": [
    "#create CSV from Json for Tech companies\n",
    "\n",
    "symbol_list = [\"AAPL\", \"GOOGL\", \"AMZN\", \"MSFT\", \"FB\"]\n",
    "for symbol in symbol_list:\n",
    "    content = requests.get(url= \"https://www.alphavantage.co/query?\",  params = {\"function\":\"BALANCE_SHEET\", \"symbol\": symbol, \"apikey\": key})\n",
    "    data = content.json()\n",
    "    data_test=data['quarterlyReports']\n",
    "    df = pd.DataFrame.from_dict(data_test)\n",
    "    df.set_index('fiscalDateEnding', inplace=True)\n",
    "    file_name = f'Data/Tech/{symbol}_quarterly_reports.csv'\n",
    "    df.to_csv(file_name)"
   ]
  },
  {
   "cell_type": "code",
   "execution_count": null,
   "metadata": {},
   "outputs": [],
   "source": []
  }
 ],
 "metadata": {
  "kernelspec": {
   "display_name": "Python 3",
   "language": "python",
   "name": "python3"
  },
  "language_info": {
   "codemirror_mode": {
    "name": "ipython",
    "version": 3
   },
   "file_extension": ".py",
   "mimetype": "text/x-python",
   "name": "python",
   "nbconvert_exporter": "python",
   "pygments_lexer": "ipython3",
   "version": "3.8.3"
  }
 },
 "nbformat": 4,
 "nbformat_minor": 4
}
