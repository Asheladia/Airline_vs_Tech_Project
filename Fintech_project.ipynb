{
 "cells": [
  {
   "cell_type": "code",
   "execution_count": 2,
   "metadata": {},
   "outputs": [],
   "source": [
    "from dotenv import load_dotenv\n",
    "import os\n",
    "import pandas as pd\n",
    "import alpaca_trade_api as tradeapi\n",
    "import numpy as np\n",
    "import hvplot.pandas\n",
    "import requests\n",
    "load_dotenv(\"alphavantage_api_key.env\")\n",
    "import pandas as pd\n",
    "import time"
   ]
  },
  {
   "cell_type": "code",
   "execution_count": 3,
   "metadata": {},
   "outputs": [
    {
     "name": "stdout",
     "output_type": "stream",
     "text": [
      "<class 'NoneType'>\n"
     ]
    }
   ],
   "source": [
    "key = os.getenv(\"alphavantage_api_key\")\n",
    "print (type(key))"
   ]
  },
  {
   "cell_type": "code",
   "execution_count": 4,
   "metadata": {},
   "outputs": [
    {
     "data": {
      "text/plain": [
       "'C:\\\\Users\\\\mshel\\\\Desktop\\\\Fintech_Project_1'"
      ]
     },
     "execution_count": 4,
     "metadata": {},
     "output_type": "execute_result"
    }
   ],
   "source": [
    "os.getcwd()"
   ]
  },
  {
   "cell_type": "code",
   "execution_count": 5,
   "metadata": {},
   "outputs": [
    {
     "ename": "KeyError",
     "evalue": "'quarterlyReports'",
     "output_type": "error",
     "traceback": [
      "\u001b[1;31m---------------------------------------------------------------------------\u001b[0m",
      "\u001b[1;31mKeyError\u001b[0m                                  Traceback (most recent call last)",
      "\u001b[1;32m<ipython-input-5-3bfeb628d7f2>\u001b[0m in \u001b[0;36m<module>\u001b[1;34m\u001b[0m\n\u001b[0;32m      5\u001b[0m     \u001b[0mcontent\u001b[0m \u001b[1;33m=\u001b[0m \u001b[0mrequests\u001b[0m\u001b[1;33m.\u001b[0m\u001b[0mget\u001b[0m\u001b[1;33m(\u001b[0m\u001b[0murl\u001b[0m\u001b[1;33m=\u001b[0m \u001b[1;34m\"https://www.alphavantage.co/query?\"\u001b[0m\u001b[1;33m,\u001b[0m  \u001b[0mparams\u001b[0m \u001b[1;33m=\u001b[0m \u001b[1;33m{\u001b[0m\u001b[1;34m\"function\"\u001b[0m\u001b[1;33m:\u001b[0m\u001b[1;34m\"BALANCE_SHEET\"\u001b[0m\u001b[1;33m,\u001b[0m \u001b[1;34m\"symbol\"\u001b[0m\u001b[1;33m:\u001b[0m \u001b[0msymbol\u001b[0m\u001b[1;33m,\u001b[0m \u001b[1;34m\"apikey\"\u001b[0m\u001b[1;33m:\u001b[0m \u001b[0mkey\u001b[0m\u001b[1;33m}\u001b[0m\u001b[1;33m)\u001b[0m\u001b[1;33m\u001b[0m\u001b[1;33m\u001b[0m\u001b[0m\n\u001b[0;32m      6\u001b[0m     \u001b[0mdata\u001b[0m \u001b[1;33m=\u001b[0m \u001b[0mcontent\u001b[0m\u001b[1;33m.\u001b[0m\u001b[0mjson\u001b[0m\u001b[1;33m(\u001b[0m\u001b[1;33m)\u001b[0m\u001b[1;33m\u001b[0m\u001b[1;33m\u001b[0m\u001b[0m\n\u001b[1;32m----> 7\u001b[1;33m     \u001b[0mdata_test\u001b[0m\u001b[1;33m=\u001b[0m\u001b[0mdata\u001b[0m\u001b[1;33m[\u001b[0m\u001b[1;34m'quarterlyReports'\u001b[0m\u001b[1;33m]\u001b[0m\u001b[1;33m\u001b[0m\u001b[1;33m\u001b[0m\u001b[0m\n\u001b[0m\u001b[0;32m      8\u001b[0m     \u001b[0mdf\u001b[0m \u001b[1;33m=\u001b[0m \u001b[0mpd\u001b[0m\u001b[1;33m.\u001b[0m\u001b[0mDataFrame\u001b[0m\u001b[1;33m.\u001b[0m\u001b[0mfrom_dict\u001b[0m\u001b[1;33m(\u001b[0m\u001b[0mdata_test\u001b[0m\u001b[1;33m)\u001b[0m\u001b[1;33m\u001b[0m\u001b[1;33m\u001b[0m\u001b[0m\n\u001b[0;32m      9\u001b[0m     \u001b[0mdf\u001b[0m\u001b[1;33m.\u001b[0m\u001b[0mset_index\u001b[0m\u001b[1;33m(\u001b[0m\u001b[1;34m'fiscalDateEnding'\u001b[0m\u001b[1;33m,\u001b[0m \u001b[0minplace\u001b[0m\u001b[1;33m=\u001b[0m\u001b[1;32mTrue\u001b[0m\u001b[1;33m)\u001b[0m\u001b[1;33m\u001b[0m\u001b[1;33m\u001b[0m\u001b[0m\n",
      "\u001b[1;31mKeyError\u001b[0m: 'quarterlyReports'"
     ]
    }
   ],
   "source": [
    "#pull data and create CSV from Json for Tech companies\n",
    "\n",
    "symbol_list = [\"AAL\", \"UAL\", \"LUV\", \"DAL\", \"ALK\"]\n",
    "for symbol in symbol_list:\n",
    "    content = requests.get(url= \"https://www.alphavantage.co/query?\",  params = {\"function\":\"BALANCE_SHEET\", \"symbol\": symbol, \"apikey\": key})\n",
    "    data = content.json()\n",
    "    data_test=data['quarterlyReports']\n",
    "    df = pd.DataFrame.from_dict(data_test)\n",
    "    df.set_index('fiscalDateEnding', inplace=True)\n",
    "    file_name = f'Data/Airlines/{symbol}_quarterly_reports.csv'\n",
    "    df.to_csv(file_name)"
   ]
  },
  {
   "cell_type": "code",
   "execution_count": 16,
   "metadata": {},
   "outputs": [
    {
     "ename": "FileNotFoundError",
     "evalue": "[Errno 2] File b'Data/SPY.csv' does not exist: b'Data/SPY.csv'",
     "output_type": "error",
     "traceback": [
      "\u001b[1;31m---------------------------------------------------------------------------\u001b[0m",
      "\u001b[1;31mFileNotFoundError\u001b[0m                         Traceback (most recent call last)",
      "\u001b[1;32m<ipython-input-16-6765a31af670>\u001b[0m in \u001b[0;36m<module>\u001b[1;34m\u001b[0m\n\u001b[0;32m     16\u001b[0m \u001b[1;33m\u001b[0m\u001b[0m\n\u001b[0;32m     17\u001b[0m \u001b[1;31m#load s&p500 data in the dataframe\u001b[0m\u001b[1;33m\u001b[0m\u001b[1;33m\u001b[0m\u001b[1;33m\u001b[0m\u001b[0m\n\u001b[1;32m---> 18\u001b[1;33m \u001b[0mspy\u001b[0m \u001b[1;33m=\u001b[0m \u001b[0mpd\u001b[0m\u001b[1;33m.\u001b[0m\u001b[0mread_csv\u001b[0m\u001b[1;33m(\u001b[0m\u001b[1;34m'Data/SPY.csv'\u001b[0m\u001b[1;33m,\u001b[0m \u001b[0mindex_col\u001b[0m\u001b[1;33m=\u001b[0m\u001b[1;34m'time'\u001b[0m\u001b[1;33m,\u001b[0m \u001b[0mparse_dates\u001b[0m\u001b[1;33m=\u001b[0m\u001b[1;32mTrue\u001b[0m\u001b[1;33m,\u001b[0m \u001b[0minfer_datetime_format\u001b[0m\u001b[1;33m=\u001b[0m\u001b[1;32mTrue\u001b[0m\u001b[1;33m)\u001b[0m\u001b[1;33m\u001b[0m\u001b[1;33m\u001b[0m\u001b[0m\n\u001b[0m",
      "\u001b[1;32m~\\anaconda3\\envs\\alpacaenv\\lib\\site-packages\\pandas\\io\\parsers.py\u001b[0m in \u001b[0;36mparser_f\u001b[1;34m(filepath_or_buffer, sep, delimiter, header, names, index_col, usecols, squeeze, prefix, mangle_dupe_cols, dtype, engine, converters, true_values, false_values, skipinitialspace, skiprows, skipfooter, nrows, na_values, keep_default_na, na_filter, verbose, skip_blank_lines, parse_dates, infer_datetime_format, keep_date_col, date_parser, dayfirst, iterator, chunksize, compression, thousands, decimal, lineterminator, quotechar, quoting, doublequote, escapechar, comment, encoding, dialect, tupleize_cols, error_bad_lines, warn_bad_lines, delim_whitespace, low_memory, memory_map, float_precision)\u001b[0m\n\u001b[0;32m    700\u001b[0m                     skip_blank_lines=skip_blank_lines)\n\u001b[0;32m    701\u001b[0m \u001b[1;33m\u001b[0m\u001b[0m\n\u001b[1;32m--> 702\u001b[1;33m         \u001b[1;32mreturn\u001b[0m \u001b[0m_read\u001b[0m\u001b[1;33m(\u001b[0m\u001b[0mfilepath_or_buffer\u001b[0m\u001b[1;33m,\u001b[0m \u001b[0mkwds\u001b[0m\u001b[1;33m)\u001b[0m\u001b[1;33m\u001b[0m\u001b[1;33m\u001b[0m\u001b[0m\n\u001b[0m\u001b[0;32m    703\u001b[0m \u001b[1;33m\u001b[0m\u001b[0m\n\u001b[0;32m    704\u001b[0m     \u001b[0mparser_f\u001b[0m\u001b[1;33m.\u001b[0m\u001b[0m__name__\u001b[0m \u001b[1;33m=\u001b[0m \u001b[0mname\u001b[0m\u001b[1;33m\u001b[0m\u001b[1;33m\u001b[0m\u001b[0m\n",
      "\u001b[1;32m~\\anaconda3\\envs\\alpacaenv\\lib\\site-packages\\pandas\\io\\parsers.py\u001b[0m in \u001b[0;36m_read\u001b[1;34m(filepath_or_buffer, kwds)\u001b[0m\n\u001b[0;32m    427\u001b[0m \u001b[1;33m\u001b[0m\u001b[0m\n\u001b[0;32m    428\u001b[0m     \u001b[1;31m# Create the parser.\u001b[0m\u001b[1;33m\u001b[0m\u001b[1;33m\u001b[0m\u001b[1;33m\u001b[0m\u001b[0m\n\u001b[1;32m--> 429\u001b[1;33m     \u001b[0mparser\u001b[0m \u001b[1;33m=\u001b[0m \u001b[0mTextFileReader\u001b[0m\u001b[1;33m(\u001b[0m\u001b[0mfilepath_or_buffer\u001b[0m\u001b[1;33m,\u001b[0m \u001b[1;33m**\u001b[0m\u001b[0mkwds\u001b[0m\u001b[1;33m)\u001b[0m\u001b[1;33m\u001b[0m\u001b[1;33m\u001b[0m\u001b[0m\n\u001b[0m\u001b[0;32m    430\u001b[0m \u001b[1;33m\u001b[0m\u001b[0m\n\u001b[0;32m    431\u001b[0m     \u001b[1;32mif\u001b[0m \u001b[0mchunksize\u001b[0m \u001b[1;32mor\u001b[0m \u001b[0miterator\u001b[0m\u001b[1;33m:\u001b[0m\u001b[1;33m\u001b[0m\u001b[1;33m\u001b[0m\u001b[0m\n",
      "\u001b[1;32m~\\anaconda3\\envs\\alpacaenv\\lib\\site-packages\\pandas\\io\\parsers.py\u001b[0m in \u001b[0;36m__init__\u001b[1;34m(self, f, engine, **kwds)\u001b[0m\n\u001b[0;32m    893\u001b[0m             \u001b[0mself\u001b[0m\u001b[1;33m.\u001b[0m\u001b[0moptions\u001b[0m\u001b[1;33m[\u001b[0m\u001b[1;34m'has_index_names'\u001b[0m\u001b[1;33m]\u001b[0m \u001b[1;33m=\u001b[0m \u001b[0mkwds\u001b[0m\u001b[1;33m[\u001b[0m\u001b[1;34m'has_index_names'\u001b[0m\u001b[1;33m]\u001b[0m\u001b[1;33m\u001b[0m\u001b[1;33m\u001b[0m\u001b[0m\n\u001b[0;32m    894\u001b[0m \u001b[1;33m\u001b[0m\u001b[0m\n\u001b[1;32m--> 895\u001b[1;33m         \u001b[0mself\u001b[0m\u001b[1;33m.\u001b[0m\u001b[0m_make_engine\u001b[0m\u001b[1;33m(\u001b[0m\u001b[0mself\u001b[0m\u001b[1;33m.\u001b[0m\u001b[0mengine\u001b[0m\u001b[1;33m)\u001b[0m\u001b[1;33m\u001b[0m\u001b[1;33m\u001b[0m\u001b[0m\n\u001b[0m\u001b[0;32m    896\u001b[0m \u001b[1;33m\u001b[0m\u001b[0m\n\u001b[0;32m    897\u001b[0m     \u001b[1;32mdef\u001b[0m \u001b[0mclose\u001b[0m\u001b[1;33m(\u001b[0m\u001b[0mself\u001b[0m\u001b[1;33m)\u001b[0m\u001b[1;33m:\u001b[0m\u001b[1;33m\u001b[0m\u001b[1;33m\u001b[0m\u001b[0m\n",
      "\u001b[1;32m~\\anaconda3\\envs\\alpacaenv\\lib\\site-packages\\pandas\\io\\parsers.py\u001b[0m in \u001b[0;36m_make_engine\u001b[1;34m(self, engine)\u001b[0m\n\u001b[0;32m   1120\u001b[0m     \u001b[1;32mdef\u001b[0m \u001b[0m_make_engine\u001b[0m\u001b[1;33m(\u001b[0m\u001b[0mself\u001b[0m\u001b[1;33m,\u001b[0m \u001b[0mengine\u001b[0m\u001b[1;33m=\u001b[0m\u001b[1;34m'c'\u001b[0m\u001b[1;33m)\u001b[0m\u001b[1;33m:\u001b[0m\u001b[1;33m\u001b[0m\u001b[1;33m\u001b[0m\u001b[0m\n\u001b[0;32m   1121\u001b[0m         \u001b[1;32mif\u001b[0m \u001b[0mengine\u001b[0m \u001b[1;33m==\u001b[0m \u001b[1;34m'c'\u001b[0m\u001b[1;33m:\u001b[0m\u001b[1;33m\u001b[0m\u001b[1;33m\u001b[0m\u001b[0m\n\u001b[1;32m-> 1122\u001b[1;33m             \u001b[0mself\u001b[0m\u001b[1;33m.\u001b[0m\u001b[0m_engine\u001b[0m \u001b[1;33m=\u001b[0m \u001b[0mCParserWrapper\u001b[0m\u001b[1;33m(\u001b[0m\u001b[0mself\u001b[0m\u001b[1;33m.\u001b[0m\u001b[0mf\u001b[0m\u001b[1;33m,\u001b[0m \u001b[1;33m**\u001b[0m\u001b[0mself\u001b[0m\u001b[1;33m.\u001b[0m\u001b[0moptions\u001b[0m\u001b[1;33m)\u001b[0m\u001b[1;33m\u001b[0m\u001b[1;33m\u001b[0m\u001b[0m\n\u001b[0m\u001b[0;32m   1123\u001b[0m         \u001b[1;32melse\u001b[0m\u001b[1;33m:\u001b[0m\u001b[1;33m\u001b[0m\u001b[1;33m\u001b[0m\u001b[0m\n\u001b[0;32m   1124\u001b[0m             \u001b[1;32mif\u001b[0m \u001b[0mengine\u001b[0m \u001b[1;33m==\u001b[0m \u001b[1;34m'python'\u001b[0m\u001b[1;33m:\u001b[0m\u001b[1;33m\u001b[0m\u001b[1;33m\u001b[0m\u001b[0m\n",
      "\u001b[1;32m~\\anaconda3\\envs\\alpacaenv\\lib\\site-packages\\pandas\\io\\parsers.py\u001b[0m in \u001b[0;36m__init__\u001b[1;34m(self, src, **kwds)\u001b[0m\n\u001b[0;32m   1851\u001b[0m         \u001b[0mkwds\u001b[0m\u001b[1;33m[\u001b[0m\u001b[1;34m'usecols'\u001b[0m\u001b[1;33m]\u001b[0m \u001b[1;33m=\u001b[0m \u001b[0mself\u001b[0m\u001b[1;33m.\u001b[0m\u001b[0musecols\u001b[0m\u001b[1;33m\u001b[0m\u001b[1;33m\u001b[0m\u001b[0m\n\u001b[0;32m   1852\u001b[0m \u001b[1;33m\u001b[0m\u001b[0m\n\u001b[1;32m-> 1853\u001b[1;33m         \u001b[0mself\u001b[0m\u001b[1;33m.\u001b[0m\u001b[0m_reader\u001b[0m \u001b[1;33m=\u001b[0m \u001b[0mparsers\u001b[0m\u001b[1;33m.\u001b[0m\u001b[0mTextReader\u001b[0m\u001b[1;33m(\u001b[0m\u001b[0msrc\u001b[0m\u001b[1;33m,\u001b[0m \u001b[1;33m**\u001b[0m\u001b[0mkwds\u001b[0m\u001b[1;33m)\u001b[0m\u001b[1;33m\u001b[0m\u001b[1;33m\u001b[0m\u001b[0m\n\u001b[0m\u001b[0;32m   1854\u001b[0m         \u001b[0mself\u001b[0m\u001b[1;33m.\u001b[0m\u001b[0munnamed_cols\u001b[0m \u001b[1;33m=\u001b[0m \u001b[0mself\u001b[0m\u001b[1;33m.\u001b[0m\u001b[0m_reader\u001b[0m\u001b[1;33m.\u001b[0m\u001b[0munnamed_cols\u001b[0m\u001b[1;33m\u001b[0m\u001b[1;33m\u001b[0m\u001b[0m\n\u001b[0;32m   1855\u001b[0m \u001b[1;33m\u001b[0m\u001b[0m\n",
      "\u001b[1;32mpandas/_libs/parsers.pyx\u001b[0m in \u001b[0;36mpandas._libs.parsers.TextReader.__cinit__\u001b[1;34m()\u001b[0m\n",
      "\u001b[1;32mpandas/_libs/parsers.pyx\u001b[0m in \u001b[0;36mpandas._libs.parsers.TextReader._setup_parser_source\u001b[1;34m()\u001b[0m\n",
      "\u001b[1;31mFileNotFoundError\u001b[0m: [Errno 2] File b'Data/SPY.csv' does not exist: b'Data/SPY.csv'"
     ]
    }
   ],
   "source": [
    "# Load airline Data in the Dataframe\n",
    "aal = pd.read_csv('Data/Airlines/AAL_quarterly_reports.csv', index_col='fiscalDateEnding', parse_dates=True, infer_datetime_format=True)\n",
    "# aal without an index column set. hacky solution, but we can easily refer to aal_tmp['fiscalDateEnding'] as the date on graphs\n",
    "aal_tmp = pd.read_csv('Data/Airlines/AAL_quarterly_reports.csv', parse_dates=True, infer_datetime_format=True)\n",
    "alk = pd.read_csv('Data/Airlines/ALK_quarterly_reports.csv', index_col='fiscalDateEnding', parse_dates=True, infer_datetime_format=True)\n",
    "dal = pd.read_csv('Data/Airlines/DAL_quarterly_reports.csv', index_col='fiscalDateEnding', parse_dates=True, infer_datetime_format=True)\n",
    "luv = pd.read_csv('Data/Airlines/LUV_quarterly_reports.csv', index_col='fiscalDateEnding', parse_dates=True, infer_datetime_format=True)\n",
    "ual = pd.read_csv('Data/Airlines/UAL_quarterly_reports.csv', index_col='fiscalDateEnding', parse_dates=True, infer_datetime_format=True)\n",
    "\n",
    "# loads tech data in the dataframes\n",
    "aapl = pd.read_csv('Data/Tech/AAPL_quarterly_reports.csv', index_col='fiscalDateEnding', parse_dates=True, infer_datetime_format=True)\n",
    "googl = pd.read_csv('Data/Tech/GOOGL_quarterly_reports.csv', index_col='fiscalDateEnding', parse_dates=True, infer_datetime_format=True)\n",
    "amzn = pd.read_csv('Data/Tech/AMZN_quarterly_reports.csv', index_col='fiscalDateEnding', parse_dates=True, infer_datetime_format=True)\n",
    "msft = pd.read_csv('Data/Tech/MSFT_quarterly_reports.csv', index_col='fiscalDateEnding', parse_dates=True, infer_datetime_format=True)\n",
    "fb = pd.read_csv('Data/Tech/FB_quarterly_reports.csv', index_col='fiscalDateEnding', parse_dates=True, infer_datetime_format=True)\n",
    "\n",
    "#load s&p500 data in the dataframe\n",
    "spy = pd.read_csv('Data/SPY.csv', index_col='time', parse_dates=True, infer_datetime_format=True)"
   ]
  },
  {
   "cell_type": "code",
   "execution_count": 10,
   "metadata": {},
   "outputs": [
    {
     "ename": "ValueError",
     "evalue": "'time' is not in list",
     "output_type": "error",
     "traceback": [
      "\u001b[1;31m---------------------------------------------------------------------------\u001b[0m",
      "\u001b[1;31mValueError\u001b[0m                                Traceback (most recent call last)",
      "\u001b[1;32m<ipython-input-10-dd2d117f483e>\u001b[0m in \u001b[0;36m<module>\u001b[1;34m\u001b[0m\n\u001b[0;32m      1\u001b[0m \u001b[1;31m# loads industries barsets\u001b[0m\u001b[1;33m\u001b[0m\u001b[1;33m\u001b[0m\u001b[1;33m\u001b[0m\u001b[0m\n\u001b[1;32m----> 2\u001b[1;33m \u001b[0maal_bs\u001b[0m \u001b[1;33m=\u001b[0m \u001b[0mpd\u001b[0m\u001b[1;33m.\u001b[0m\u001b[0mread_csv\u001b[0m\u001b[1;33m(\u001b[0m\u001b[1;34m'Data/Prices/AAL.csv'\u001b[0m\u001b[1;33m,\u001b[0m \u001b[0mindex_col\u001b[0m\u001b[1;33m=\u001b[0m\u001b[1;34m'time'\u001b[0m\u001b[1;33m,\u001b[0m \u001b[0mparse_dates\u001b[0m\u001b[1;33m=\u001b[0m\u001b[1;32mTrue\u001b[0m\u001b[1;33m,\u001b[0m \u001b[0minfer_datetime_format\u001b[0m\u001b[1;33m=\u001b[0m\u001b[1;32mTrue\u001b[0m\u001b[1;33m)\u001b[0m\u001b[1;33m\u001b[0m\u001b[1;33m\u001b[0m\u001b[0m\n\u001b[0m\u001b[0;32m      3\u001b[0m \u001b[0malk_bs\u001b[0m \u001b[1;33m=\u001b[0m \u001b[0mpd\u001b[0m\u001b[1;33m.\u001b[0m\u001b[0mread_csv\u001b[0m\u001b[1;33m(\u001b[0m\u001b[1;34m'Data/Prices/ALK.csv'\u001b[0m\u001b[1;33m,\u001b[0m \u001b[0mindex_col\u001b[0m\u001b[1;33m=\u001b[0m\u001b[1;34m'time'\u001b[0m\u001b[1;33m,\u001b[0m \u001b[0mparse_dates\u001b[0m\u001b[1;33m=\u001b[0m\u001b[1;32mTrue\u001b[0m\u001b[1;33m,\u001b[0m \u001b[0minfer_datetime_format\u001b[0m\u001b[1;33m=\u001b[0m\u001b[1;32mTrue\u001b[0m\u001b[1;33m)\u001b[0m\u001b[1;33m\u001b[0m\u001b[1;33m\u001b[0m\u001b[0m\n\u001b[0;32m      4\u001b[0m \u001b[0mdal_bs\u001b[0m \u001b[1;33m=\u001b[0m \u001b[0mpd\u001b[0m\u001b[1;33m.\u001b[0m\u001b[0mread_csv\u001b[0m\u001b[1;33m(\u001b[0m\u001b[1;34m'Data/Prices/DAL.csv'\u001b[0m\u001b[1;33m,\u001b[0m \u001b[0mindex_col\u001b[0m\u001b[1;33m=\u001b[0m\u001b[1;34m'time'\u001b[0m\u001b[1;33m,\u001b[0m \u001b[0mparse_dates\u001b[0m\u001b[1;33m=\u001b[0m\u001b[1;32mTrue\u001b[0m\u001b[1;33m,\u001b[0m \u001b[0minfer_datetime_format\u001b[0m\u001b[1;33m=\u001b[0m\u001b[1;32mTrue\u001b[0m\u001b[1;33m)\u001b[0m\u001b[1;33m\u001b[0m\u001b[1;33m\u001b[0m\u001b[0m\n\u001b[0;32m      5\u001b[0m \u001b[0mluv_bs\u001b[0m \u001b[1;33m=\u001b[0m \u001b[0mpd\u001b[0m\u001b[1;33m.\u001b[0m\u001b[0mread_csv\u001b[0m\u001b[1;33m(\u001b[0m\u001b[1;34m'Data/Prices/LUV.csv'\u001b[0m\u001b[1;33m,\u001b[0m \u001b[0mindex_col\u001b[0m\u001b[1;33m=\u001b[0m\u001b[1;34m'time'\u001b[0m\u001b[1;33m,\u001b[0m \u001b[0mparse_dates\u001b[0m\u001b[1;33m=\u001b[0m\u001b[1;32mTrue\u001b[0m\u001b[1;33m,\u001b[0m \u001b[0minfer_datetime_format\u001b[0m\u001b[1;33m=\u001b[0m\u001b[1;32mTrue\u001b[0m\u001b[1;33m)\u001b[0m\u001b[1;33m\u001b[0m\u001b[1;33m\u001b[0m\u001b[0m\n",
      "\u001b[1;32m~\\anaconda3\\envs\\alpacaenv\\lib\\site-packages\\pandas\\io\\parsers.py\u001b[0m in \u001b[0;36mparser_f\u001b[1;34m(filepath_or_buffer, sep, delimiter, header, names, index_col, usecols, squeeze, prefix, mangle_dupe_cols, dtype, engine, converters, true_values, false_values, skipinitialspace, skiprows, skipfooter, nrows, na_values, keep_default_na, na_filter, verbose, skip_blank_lines, parse_dates, infer_datetime_format, keep_date_col, date_parser, dayfirst, iterator, chunksize, compression, thousands, decimal, lineterminator, quotechar, quoting, doublequote, escapechar, comment, encoding, dialect, tupleize_cols, error_bad_lines, warn_bad_lines, delim_whitespace, low_memory, memory_map, float_precision)\u001b[0m\n\u001b[0;32m    700\u001b[0m                     skip_blank_lines=skip_blank_lines)\n\u001b[0;32m    701\u001b[0m \u001b[1;33m\u001b[0m\u001b[0m\n\u001b[1;32m--> 702\u001b[1;33m         \u001b[1;32mreturn\u001b[0m \u001b[0m_read\u001b[0m\u001b[1;33m(\u001b[0m\u001b[0mfilepath_or_buffer\u001b[0m\u001b[1;33m,\u001b[0m \u001b[0mkwds\u001b[0m\u001b[1;33m)\u001b[0m\u001b[1;33m\u001b[0m\u001b[1;33m\u001b[0m\u001b[0m\n\u001b[0m\u001b[0;32m    703\u001b[0m \u001b[1;33m\u001b[0m\u001b[0m\n\u001b[0;32m    704\u001b[0m     \u001b[0mparser_f\u001b[0m\u001b[1;33m.\u001b[0m\u001b[0m__name__\u001b[0m \u001b[1;33m=\u001b[0m \u001b[0mname\u001b[0m\u001b[1;33m\u001b[0m\u001b[1;33m\u001b[0m\u001b[0m\n",
      "\u001b[1;32m~\\anaconda3\\envs\\alpacaenv\\lib\\site-packages\\pandas\\io\\parsers.py\u001b[0m in \u001b[0;36m_read\u001b[1;34m(filepath_or_buffer, kwds)\u001b[0m\n\u001b[0;32m    427\u001b[0m \u001b[1;33m\u001b[0m\u001b[0m\n\u001b[0;32m    428\u001b[0m     \u001b[1;31m# Create the parser.\u001b[0m\u001b[1;33m\u001b[0m\u001b[1;33m\u001b[0m\u001b[1;33m\u001b[0m\u001b[0m\n\u001b[1;32m--> 429\u001b[1;33m     \u001b[0mparser\u001b[0m \u001b[1;33m=\u001b[0m \u001b[0mTextFileReader\u001b[0m\u001b[1;33m(\u001b[0m\u001b[0mfilepath_or_buffer\u001b[0m\u001b[1;33m,\u001b[0m \u001b[1;33m**\u001b[0m\u001b[0mkwds\u001b[0m\u001b[1;33m)\u001b[0m\u001b[1;33m\u001b[0m\u001b[1;33m\u001b[0m\u001b[0m\n\u001b[0m\u001b[0;32m    430\u001b[0m \u001b[1;33m\u001b[0m\u001b[0m\n\u001b[0;32m    431\u001b[0m     \u001b[1;32mif\u001b[0m \u001b[0mchunksize\u001b[0m \u001b[1;32mor\u001b[0m \u001b[0miterator\u001b[0m\u001b[1;33m:\u001b[0m\u001b[1;33m\u001b[0m\u001b[1;33m\u001b[0m\u001b[0m\n",
      "\u001b[1;32m~\\anaconda3\\envs\\alpacaenv\\lib\\site-packages\\pandas\\io\\parsers.py\u001b[0m in \u001b[0;36m__init__\u001b[1;34m(self, f, engine, **kwds)\u001b[0m\n\u001b[0;32m    893\u001b[0m             \u001b[0mself\u001b[0m\u001b[1;33m.\u001b[0m\u001b[0moptions\u001b[0m\u001b[1;33m[\u001b[0m\u001b[1;34m'has_index_names'\u001b[0m\u001b[1;33m]\u001b[0m \u001b[1;33m=\u001b[0m \u001b[0mkwds\u001b[0m\u001b[1;33m[\u001b[0m\u001b[1;34m'has_index_names'\u001b[0m\u001b[1;33m]\u001b[0m\u001b[1;33m\u001b[0m\u001b[1;33m\u001b[0m\u001b[0m\n\u001b[0;32m    894\u001b[0m \u001b[1;33m\u001b[0m\u001b[0m\n\u001b[1;32m--> 895\u001b[1;33m         \u001b[0mself\u001b[0m\u001b[1;33m.\u001b[0m\u001b[0m_make_engine\u001b[0m\u001b[1;33m(\u001b[0m\u001b[0mself\u001b[0m\u001b[1;33m.\u001b[0m\u001b[0mengine\u001b[0m\u001b[1;33m)\u001b[0m\u001b[1;33m\u001b[0m\u001b[1;33m\u001b[0m\u001b[0m\n\u001b[0m\u001b[0;32m    896\u001b[0m \u001b[1;33m\u001b[0m\u001b[0m\n\u001b[0;32m    897\u001b[0m     \u001b[1;32mdef\u001b[0m \u001b[0mclose\u001b[0m\u001b[1;33m(\u001b[0m\u001b[0mself\u001b[0m\u001b[1;33m)\u001b[0m\u001b[1;33m:\u001b[0m\u001b[1;33m\u001b[0m\u001b[1;33m\u001b[0m\u001b[0m\n",
      "\u001b[1;32m~\\anaconda3\\envs\\alpacaenv\\lib\\site-packages\\pandas\\io\\parsers.py\u001b[0m in \u001b[0;36m_make_engine\u001b[1;34m(self, engine)\u001b[0m\n\u001b[0;32m   1120\u001b[0m     \u001b[1;32mdef\u001b[0m \u001b[0m_make_engine\u001b[0m\u001b[1;33m(\u001b[0m\u001b[0mself\u001b[0m\u001b[1;33m,\u001b[0m \u001b[0mengine\u001b[0m\u001b[1;33m=\u001b[0m\u001b[1;34m'c'\u001b[0m\u001b[1;33m)\u001b[0m\u001b[1;33m:\u001b[0m\u001b[1;33m\u001b[0m\u001b[1;33m\u001b[0m\u001b[0m\n\u001b[0;32m   1121\u001b[0m         \u001b[1;32mif\u001b[0m \u001b[0mengine\u001b[0m \u001b[1;33m==\u001b[0m \u001b[1;34m'c'\u001b[0m\u001b[1;33m:\u001b[0m\u001b[1;33m\u001b[0m\u001b[1;33m\u001b[0m\u001b[0m\n\u001b[1;32m-> 1122\u001b[1;33m             \u001b[0mself\u001b[0m\u001b[1;33m.\u001b[0m\u001b[0m_engine\u001b[0m \u001b[1;33m=\u001b[0m \u001b[0mCParserWrapper\u001b[0m\u001b[1;33m(\u001b[0m\u001b[0mself\u001b[0m\u001b[1;33m.\u001b[0m\u001b[0mf\u001b[0m\u001b[1;33m,\u001b[0m \u001b[1;33m**\u001b[0m\u001b[0mself\u001b[0m\u001b[1;33m.\u001b[0m\u001b[0moptions\u001b[0m\u001b[1;33m)\u001b[0m\u001b[1;33m\u001b[0m\u001b[1;33m\u001b[0m\u001b[0m\n\u001b[0m\u001b[0;32m   1123\u001b[0m         \u001b[1;32melse\u001b[0m\u001b[1;33m:\u001b[0m\u001b[1;33m\u001b[0m\u001b[1;33m\u001b[0m\u001b[0m\n\u001b[0;32m   1124\u001b[0m             \u001b[1;32mif\u001b[0m \u001b[0mengine\u001b[0m \u001b[1;33m==\u001b[0m \u001b[1;34m'python'\u001b[0m\u001b[1;33m:\u001b[0m\u001b[1;33m\u001b[0m\u001b[1;33m\u001b[0m\u001b[0m\n",
      "\u001b[1;32m~\\anaconda3\\envs\\alpacaenv\\lib\\site-packages\\pandas\\io\\parsers.py\u001b[0m in \u001b[0;36m__init__\u001b[1;34m(self, src, **kwds)\u001b[0m\n\u001b[0;32m   1902\u001b[0m                 \u001b[0m_validate_usecols_names\u001b[0m\u001b[1;33m(\u001b[0m\u001b[0musecols\u001b[0m\u001b[1;33m,\u001b[0m \u001b[0mself\u001b[0m\u001b[1;33m.\u001b[0m\u001b[0mnames\u001b[0m\u001b[1;33m)\u001b[0m\u001b[1;33m\u001b[0m\u001b[1;33m\u001b[0m\u001b[0m\n\u001b[0;32m   1903\u001b[0m \u001b[1;33m\u001b[0m\u001b[0m\n\u001b[1;32m-> 1904\u001b[1;33m         \u001b[0mself\u001b[0m\u001b[1;33m.\u001b[0m\u001b[0m_set_noconvert_columns\u001b[0m\u001b[1;33m(\u001b[0m\u001b[1;33m)\u001b[0m\u001b[1;33m\u001b[0m\u001b[1;33m\u001b[0m\u001b[0m\n\u001b[0m\u001b[0;32m   1905\u001b[0m \u001b[1;33m\u001b[0m\u001b[0m\n\u001b[0;32m   1906\u001b[0m         \u001b[0mself\u001b[0m\u001b[1;33m.\u001b[0m\u001b[0morig_names\u001b[0m \u001b[1;33m=\u001b[0m \u001b[0mself\u001b[0m\u001b[1;33m.\u001b[0m\u001b[0mnames\u001b[0m\u001b[1;33m\u001b[0m\u001b[1;33m\u001b[0m\u001b[0m\n",
      "\u001b[1;32m~\\anaconda3\\envs\\alpacaenv\\lib\\site-packages\\pandas\\io\\parsers.py\u001b[0m in \u001b[0;36m_set_noconvert_columns\u001b[1;34m(self)\u001b[0m\n\u001b[0;32m   1984\u001b[0m             \u001b[1;32mif\u001b[0m \u001b[0misinstance\u001b[0m\u001b[1;33m(\u001b[0m\u001b[0mself\u001b[0m\u001b[1;33m.\u001b[0m\u001b[0mindex_col\u001b[0m\u001b[1;33m,\u001b[0m \u001b[0mlist\u001b[0m\u001b[1;33m)\u001b[0m\u001b[1;33m:\u001b[0m\u001b[1;33m\u001b[0m\u001b[1;33m\u001b[0m\u001b[0m\n\u001b[0;32m   1985\u001b[0m                 \u001b[1;32mfor\u001b[0m \u001b[0mk\u001b[0m \u001b[1;32min\u001b[0m \u001b[0mself\u001b[0m\u001b[1;33m.\u001b[0m\u001b[0mindex_col\u001b[0m\u001b[1;33m:\u001b[0m\u001b[1;33m\u001b[0m\u001b[1;33m\u001b[0m\u001b[0m\n\u001b[1;32m-> 1986\u001b[1;33m                     \u001b[0m_set\u001b[0m\u001b[1;33m(\u001b[0m\u001b[0mk\u001b[0m\u001b[1;33m)\u001b[0m\u001b[1;33m\u001b[0m\u001b[1;33m\u001b[0m\u001b[0m\n\u001b[0m\u001b[0;32m   1987\u001b[0m             \u001b[1;32melif\u001b[0m \u001b[0mself\u001b[0m\u001b[1;33m.\u001b[0m\u001b[0mindex_col\u001b[0m \u001b[1;32mis\u001b[0m \u001b[1;32mnot\u001b[0m \u001b[1;32mNone\u001b[0m\u001b[1;33m:\u001b[0m\u001b[1;33m\u001b[0m\u001b[1;33m\u001b[0m\u001b[0m\n\u001b[0;32m   1988\u001b[0m                 \u001b[0m_set\u001b[0m\u001b[1;33m(\u001b[0m\u001b[0mself\u001b[0m\u001b[1;33m.\u001b[0m\u001b[0mindex_col\u001b[0m\u001b[1;33m)\u001b[0m\u001b[1;33m\u001b[0m\u001b[1;33m\u001b[0m\u001b[0m\n",
      "\u001b[1;32m~\\anaconda3\\envs\\alpacaenv\\lib\\site-packages\\pandas\\io\\parsers.py\u001b[0m in \u001b[0;36m_set\u001b[1;34m(x)\u001b[0m\n\u001b[0;32m   1961\u001b[0m \u001b[1;33m\u001b[0m\u001b[0m\n\u001b[0;32m   1962\u001b[0m             \u001b[1;32mif\u001b[0m \u001b[1;32mnot\u001b[0m \u001b[0mis_integer\u001b[0m\u001b[1;33m(\u001b[0m\u001b[0mx\u001b[0m\u001b[1;33m)\u001b[0m\u001b[1;33m:\u001b[0m\u001b[1;33m\u001b[0m\u001b[1;33m\u001b[0m\u001b[0m\n\u001b[1;32m-> 1963\u001b[1;33m                 \u001b[0mx\u001b[0m \u001b[1;33m=\u001b[0m \u001b[0mnames\u001b[0m\u001b[1;33m.\u001b[0m\u001b[0mindex\u001b[0m\u001b[1;33m(\u001b[0m\u001b[0mx\u001b[0m\u001b[1;33m)\u001b[0m\u001b[1;33m\u001b[0m\u001b[1;33m\u001b[0m\u001b[0m\n\u001b[0m\u001b[0;32m   1964\u001b[0m \u001b[1;33m\u001b[0m\u001b[0m\n\u001b[0;32m   1965\u001b[0m             \u001b[0mself\u001b[0m\u001b[1;33m.\u001b[0m\u001b[0m_reader\u001b[0m\u001b[1;33m.\u001b[0m\u001b[0mset_noconvert\u001b[0m\u001b[1;33m(\u001b[0m\u001b[0mx\u001b[0m\u001b[1;33m)\u001b[0m\u001b[1;33m\u001b[0m\u001b[1;33m\u001b[0m\u001b[0m\n",
      "\u001b[1;31mValueError\u001b[0m: 'time' is not in list"
     ]
    }
   ],
   "source": [
    "# loads industries barsets\n",
    "aal_bs = pd.read_csv('Data/Prices/AAL.csv', index_col='time', parse_dates=True, infer_datetime_format=True)\n",
    "alk_bs = pd.read_csv('Data/Prices/ALK.csv', index_col='time', parse_dates=True, infer_datetime_format=True)\n",
    "dal_bs = pd.read_csv('Data/Prices/DAL.csv', index_col='time', parse_dates=True, infer_datetime_format=True)\n",
    "luv_bs = pd.read_csv('Data/Prices/LUV.csv', index_col='time', parse_dates=True, infer_datetime_format=True)\n",
    "ual_bs = pd.read_csv('Data/Prices/UAL.csv', index_col='time', parse_dates=True, infer_datetime_format=True)\n",
    "\n",
    "# loads tech dataframes\n",
    "aapl_bs = pd.read_csv('Data/AAPL.csv', index_col='time', parse_dates=True, infer_datetime_format=True)\n",
    "googl_bs = pd.read_csv('Data/GOOGL.csv', index_col='time', parse_dates=True, infer_datetime_format=True)\n",
    "amzn_bs = pd.read_csv('Data/AMZN.csv', index_col='time', parse_dates=True, infer_datetime_format=True)\n",
    "msft_bs = pd.read_csv('Data/MSFT.csv', index_col='time', parse_dates=True, infer_datetime_format=True)\n",
    "fb_bs = pd.read_csv('Data/FB.csv', index_col='time', parse_dates=True, infer_datetime_format=True)"
   ]
  },
  {
   "cell_type": "code",
   "execution_count": 7,
   "metadata": {},
   "outputs": [
    {
     "data": {
      "application/vnd.holoviews_exec.v0+json": "",
      "text/html": [
       "<div id='1001'>\n",
       "\n",
       "\n",
       "\n",
       "\n",
       "\n",
       "  <div class=\"bk-root\" id=\"f5e5a17b-9170-47b7-b3c2-50d2b0183edd\" data-root-id=\"1001\"></div>\n",
       "</div>\n",
       "<script type=\"application/javascript\">(function(root) {\n",
       "  function embed_document(root) {\n",
       "  var docs_json = {\"8a5b8b4a-8928-4489-b29c-5fc3ff5bed08\":{\"roots\":{\"references\":[{\"attributes\":{\"line_color\":\"#9367bc\",\"line_width\":2,\"x\":{\"field\":\"date\"},\"y\":{\"field\":\"value\"}},\"id\":\"1126\",\"type\":\"Line\"},{\"attributes\":{\"data_source\":{\"id\":\"1081\"},\"glyph\":{\"id\":\"1084\"},\"hover_glyph\":null,\"muted_glyph\":{\"id\":\"1086\"},\"nonselection_glyph\":{\"id\":\"1085\"},\"selection_glyph\":null,\"view\":{\"id\":\"1088\"}},\"id\":\"1087\",\"type\":\"GlyphRenderer\"},{\"attributes\":{\"line_alpha\":0.2,\"line_color\":\"#d62628\",\"line_width\":2,\"x\":{\"field\":\"date\"},\"y\":{\"field\":\"value\"}},\"id\":\"1106\",\"type\":\"Line\"},{\"attributes\":{\"data\":{\"Variable\":[\"ual\",\"ual\",\"ual\",\"ual\",\"ual\",\"ual\",\"ual\",\"ual\",\"ual\",\"ual\",\"ual\",\"ual\",\"ual\",\"ual\",\"ual\",\"ual\",\"ual\",\"ual\",\"ual\",\"ual\",\"ual\"],\"date\":[\"2020-09-30\",\"2020-06-30\",\"2020-03-31\",\"2019-12-31\",\"2019-09-30\",\"2019-06-30\",\"2019-03-31\",\"2018-12-31\",\"2018-09-30\",\"2018-06-30\",\"2018-03-31\",\"2017-12-31\",\"2017-09-30\",\"2017-06-30\",\"2017-03-31\",\"2016-12-31\",\"2016-09-30\",\"2016-06-30\",\"2016-03-31\",\"2015-12-31\",\"2015-09-30\"],\"value\":[61189000000,54901000000,53055000000,52611000000,52199000000,52150000000,50639000000,44792000000,44837000000,44691000000,44018000000,42326000000,42565000000,42307000000,41445000000,40140000000,40327000000,40476000000,40373000000,40861000000,41869000000]},\"selected\":{\"id\":\"1124\"},\"selection_policy\":{\"id\":\"1144\"}},\"id\":\"1123\",\"type\":\"ColumnDataSource\"},{\"attributes\":{},\"id\":\"1120\",\"type\":\"UnionRenderers\"},{\"attributes\":{\"factors\":[\"2020-09-30\",\"2020-06-30\",\"2020-03-31\",\"2019-12-31\",\"2019-09-30\",\"2019-06-30\",\"2019-03-31\",\"2018-12-31\",\"2018-09-30\",\"2018-06-30\",\"2018-03-31\",\"2017-12-31\",\"2017-09-30\",\"2017-06-30\",\"2017-03-31\",\"2016-12-31\",\"2016-09-30\",\"2016-06-30\",\"2016-03-31\",\"2015-12-31\",\"2015-09-30\"],\"tags\":[[[\"date\",\"date\",null]]]},\"id\":\"1003\",\"type\":\"FactorRange\"},{\"attributes\":{},\"id\":\"1023\",\"type\":\"BasicTicker\"},{\"attributes\":{\"line_alpha\":0.2,\"line_color\":\"#ff7e0e\",\"line_width\":2,\"x\":{\"field\":\"date\"},\"y\":{\"field\":\"value\"}},\"id\":\"1068\",\"type\":\"Line\"},{\"attributes\":{\"data_source\":{\"id\":\"1101\"},\"glyph\":{\"id\":\"1104\"},\"hover_glyph\":null,\"muted_glyph\":{\"id\":\"1106\"},\"nonselection_glyph\":{\"id\":\"1105\"},\"selection_glyph\":null,\"view\":{\"id\":\"1108\"}},\"id\":\"1107\",\"type\":\"GlyphRenderer\"},{\"attributes\":{\"axis_label\":\"date\",\"bounds\":\"auto\",\"formatter\":{\"id\":\"1040\"},\"major_label_orientation\":1.5707963267948966,\"ticker\":{\"id\":\"1020\"}},\"id\":\"1019\",\"type\":\"CategoricalAxis\"},{\"attributes\":{\"line_color\":\"#2ba02b\",\"line_width\":2,\"x\":{\"field\":\"date\"},\"y\":{\"field\":\"value\"}},\"id\":\"1084\",\"type\":\"Line\"},{\"attributes\":{\"line_alpha\":0.1,\"line_color\":\"#2ba02b\",\"line_width\":2,\"x\":{\"field\":\"date\"},\"y\":{\"field\":\"value\"}},\"id\":\"1085\",\"type\":\"Line\"},{\"attributes\":{\"margin\":[5,5,5,5],\"name\":\"HSpacer01659\",\"sizing_mode\":\"stretch_width\"},\"id\":\"1002\",\"type\":\"Spacer\"},{\"attributes\":{\"data\":{\"Variable\":[\"alk\",\"alk\",\"alk\",\"alk\",\"alk\",\"alk\",\"alk\",\"alk\",\"alk\",\"alk\",\"alk\",\"alk\",\"alk\",\"alk\",\"alk\",\"alk\",\"alk\",\"alk\",\"alk\",\"alk\",\"alk\"],\"date\":[\"2020-09-30\",\"2020-06-30\",\"2020-03-31\",\"2019-12-31\",\"2019-09-30\",\"2019-06-30\",\"2019-03-31\",\"2018-12-31\",\"2018-09-30\",\"2018-06-30\",\"2018-03-31\",\"2017-12-31\",\"2017-09-30\",\"2017-06-30\",\"2017-03-31\",\"2016-12-31\",\"2016-09-30\",\"2016-06-30\",\"2016-03-31\",\"2015-12-31\",\"2015-09-30\"],\"value\":[14749000000,13998000000,13363000000,12993000000,12983000000,12951000000,12640000000,10912000000,10893000000,11055000000,10848000000,10740000000,10739000000,10720000000,10302000000,9962000000,8699000000,7035000000,6829000000,6533000000,6564000000]},\"selected\":{\"id\":\"1064\"},\"selection_policy\":{\"id\":\"1078\"}},\"id\":\"1063\",\"type\":\"ColumnDataSource\"},{\"attributes\":{\"line_alpha\":0.2,\"line_color\":\"#1f77b3\",\"line_width\":2,\"x\":{\"field\":\"date\"},\"y\":{\"field\":\"value\"}},\"id\":\"1051\",\"type\":\"Line\"},{\"attributes\":{\"label\":{\"value\":\"aal\"},\"renderers\":[{\"id\":\"1052\"}]},\"id\":\"1062\",\"type\":\"LegendItem\"},{\"attributes\":{\"line_alpha\":0.1,\"line_color\":\"#ff7e0e\",\"line_width\":2,\"x\":{\"field\":\"date\"},\"y\":{\"field\":\"value\"}},\"id\":\"1067\",\"type\":\"Line\"},{\"attributes\":{\"line_alpha\":0.1,\"line_color\":\"#9367bc\",\"line_width\":2,\"x\":{\"field\":\"date\"},\"y\":{\"field\":\"value\"}},\"id\":\"1127\",\"type\":\"Line\"},{\"attributes\":{\"line_color\":\"#d62628\",\"line_width\":2,\"x\":{\"field\":\"date\"},\"y\":{\"field\":\"value\"}},\"id\":\"1104\",\"type\":\"Line\"},{\"attributes\":{\"text\":\"Airline Total Assets\",\"text_color\":{\"value\":\"black\"},\"text_font_size\":{\"value\":\"12pt\"}},\"id\":\"1011\",\"type\":\"Title\"},{\"attributes\":{\"overlay\":{\"id\":\"1031\"}},\"id\":\"1029\",\"type\":\"BoxZoomTool\"},{\"attributes\":{},\"id\":\"1059\",\"type\":\"UnionRenderers\"},{\"attributes\":{\"data_source\":{\"id\":\"1046\"},\"glyph\":{\"id\":\"1049\"},\"hover_glyph\":null,\"muted_glyph\":{\"id\":\"1051\"},\"nonselection_glyph\":{\"id\":\"1050\"},\"selection_glyph\":null,\"view\":{\"id\":\"1053\"}},\"id\":\"1052\",\"type\":\"GlyphRenderer\"},{\"attributes\":{\"label\":{\"value\":\"dal\"},\"renderers\":[{\"id\":\"1087\"}]},\"id\":\"1100\",\"type\":\"LegendItem\"},{\"attributes\":{},\"id\":\"1030\",\"type\":\"ResetTool\"},{\"attributes\":{\"line_alpha\":0.2,\"line_color\":\"#2ba02b\",\"line_width\":2,\"x\":{\"field\":\"date\"},\"y\":{\"field\":\"value\"}},\"id\":\"1086\",\"type\":\"Line\"},{\"attributes\":{},\"id\":\"1015\",\"type\":\"CategoricalScale\"},{\"attributes\":{\"source\":{\"id\":\"1046\"}},\"id\":\"1053\",\"type\":\"CDSView\"},{\"attributes\":{\"click_policy\":\"mute\",\"items\":[{\"id\":\"1062\"},{\"id\":\"1080\"},{\"id\":\"1100\"},{\"id\":\"1122\"},{\"id\":\"1146\"}],\"location\":[0,0],\"title\":\"Variable\"},\"id\":\"1061\",\"type\":\"Legend\"},{\"attributes\":{\"source\":{\"id\":\"1101\"}},\"id\":\"1108\",\"type\":\"CDSView\"},{\"attributes\":{\"margin\":[5,5,5,5],\"name\":\"HSpacer01660\",\"sizing_mode\":\"stretch_width\"},\"id\":\"1282\",\"type\":\"Spacer\"},{\"attributes\":{\"axis\":{\"id\":\"1022\"},\"dimension\":1,\"grid_line_color\":null,\"ticker\":null},\"id\":\"1025\",\"type\":\"Grid\"},{\"attributes\":{\"label\":{\"value\":\"luv\"},\"renderers\":[{\"id\":\"1107\"}]},\"id\":\"1122\",\"type\":\"LegendItem\"},{\"attributes\":{\"source\":{\"id\":\"1063\"}},\"id\":\"1070\",\"type\":\"CDSView\"},{\"attributes\":{},\"id\":\"1017\",\"type\":\"LinearScale\"},{\"attributes\":{\"line_alpha\":0.1,\"line_color\":\"#d62628\",\"line_width\":2,\"x\":{\"field\":\"date\"},\"y\":{\"field\":\"value\"}},\"id\":\"1105\",\"type\":\"Line\"},{\"attributes\":{\"label\":{\"value\":\"ual\"},\"renderers\":[{\"id\":\"1129\"}]},\"id\":\"1146\",\"type\":\"LegendItem\"},{\"attributes\":{\"active_drag\":\"auto\",\"active_inspect\":\"auto\",\"active_multi\":null,\"active_scroll\":\"auto\",\"active_tap\":\"auto\",\"tools\":[{\"id\":\"1005\"},{\"id\":\"1026\"},{\"id\":\"1027\"},{\"id\":\"1028\"},{\"id\":\"1029\"},{\"id\":\"1030\"}]},\"id\":\"1032\",\"type\":\"Toolbar\"},{\"attributes\":{\"axis_label\":\"\",\"bounds\":\"auto\",\"formatter\":{\"id\":\"1039\"},\"major_label_orientation\":\"horizontal\",\"ticker\":{\"id\":\"1023\"}},\"id\":\"1022\",\"type\":\"LinearAxis\"},{\"attributes\":{},\"id\":\"1028\",\"type\":\"WheelZoomTool\"},{\"attributes\":{\"data\":{\"Variable\":[\"dal\",\"dal\",\"dal\",\"dal\",\"dal\",\"dal\",\"dal\",\"dal\",\"dal\",\"dal\",\"dal\",\"dal\",\"dal\",\"dal\",\"dal\",\"dal\",\"dal\",\"dal\",\"dal\",\"dal\",\"dal\"],\"date\":[\"2020-09-30\",\"2020-06-30\",\"2020-03-31\",\"2019-12-31\",\"2019-09-30\",\"2019-06-30\",\"2019-03-31\",\"2018-12-31\",\"2018-09-30\",\"2018-06-30\",\"2018-03-31\",\"2017-12-31\",\"2017-09-30\",\"2017-06-30\",\"2017-03-31\",\"2016-12-31\",\"2016-09-30\",\"2016-06-30\",\"2016-03-31\",\"2015-12-31\",\"2015-09-30\"],\"value\":[79076000000,72261000000,68738000000,64532000000,63219000000,62518000000,61841000000,60266000000,55003000000,55796000000,54078000000,53292000000,51928000000,51815000000,51459000000,51261000000,50948000000,51634000000,53342000000,53134000000,53646000000]},\"selected\":{\"id\":\"1082\"},\"selection_policy\":{\"id\":\"1098\"}},\"id\":\"1081\",\"type\":\"ColumnDataSource\"},{\"attributes\":{\"data_source\":{\"id\":\"1063\"},\"glyph\":{\"id\":\"1066\"},\"hover_glyph\":null,\"muted_glyph\":{\"id\":\"1068\"},\"nonselection_glyph\":{\"id\":\"1067\"},\"selection_glyph\":null,\"view\":{\"id\":\"1070\"}},\"id\":\"1069\",\"type\":\"GlyphRenderer\"},{\"attributes\":{\"line_color\":\"#1f77b3\",\"line_width\":2,\"x\":{\"field\":\"date\"},\"y\":{\"field\":\"value\"}},\"id\":\"1049\",\"type\":\"Line\"},{\"attributes\":{\"data\":{\"Variable\":[\"luv\",\"luv\",\"luv\",\"luv\",\"luv\",\"luv\",\"luv\",\"luv\",\"luv\",\"luv\",\"luv\",\"luv\",\"luv\",\"luv\",\"luv\",\"luv\",\"luv\",\"luv\",\"luv\",\"luv\",\"luv\"],\"date\":[\"2020-09-30\",\"2020-06-30\",\"2020-03-31\",\"2019-12-31\",\"2019-09-30\",\"2019-06-30\",\"2019-03-31\",\"2018-12-31\",\"2018-09-30\",\"2018-06-30\",\"2018-03-31\",\"2017-12-31\",\"2017-09-30\",\"2017-06-30\",\"2017-03-31\",\"2016-12-31\",\"2016-09-30\",\"2016-06-30\",\"2016-03-31\",\"2015-12-31\",\"2015-09-30\"],\"value\":[35605000000,35596000000,26885000000,25895000000,26467000000,26374000000,26459000000,26243000000,26882000000,26465000000,25503000000,25110000000,24249000000,23921000000,23763000000,23286000000,23045000000,22447000000,22241000000,21312000000,21159000000]},\"selected\":{\"id\":\"1102\"},\"selection_policy\":{\"id\":\"1120\"}},\"id\":\"1101\",\"type\":\"ColumnDataSource\"},{\"attributes\":{\"source\":{\"id\":\"1123\"}},\"id\":\"1130\",\"type\":\"CDSView\"},{\"attributes\":{},\"id\":\"1144\",\"type\":\"UnionRenderers\"},{\"attributes\":{\"callback\":null,\"renderers\":[{\"id\":\"1052\"},{\"id\":\"1069\"},{\"id\":\"1087\"},{\"id\":\"1107\"},{\"id\":\"1129\"}],\"tags\":[\"hv_created\"],\"tooltips\":[[\"Variable\",\"@{Variable}\"],[\"date\",\"@{date}\"],[\"value\",\"@{value}\"]]},\"id\":\"1005\",\"type\":\"HoverTool\"},{\"attributes\":{\"format\":\"%.0f\"},\"id\":\"1039\",\"type\":\"PrintfTickFormatter\"},{\"attributes\":{},\"id\":\"1020\",\"type\":\"CategoricalTicker\"},{\"attributes\":{},\"id\":\"1040\",\"type\":\"CategoricalTickFormatter\"},{\"attributes\":{\"label\":{\"value\":\"alk\"},\"renderers\":[{\"id\":\"1069\"}]},\"id\":\"1080\",\"type\":\"LegendItem\"},{\"attributes\":{\"end\":86330300000.0,\"reset_end\":86330300000.0,\"reset_start\":-721300000.0,\"start\":-721300000.0,\"tags\":[[[\"value\",\"value\",null]]]},\"id\":\"1004\",\"type\":\"Range1d\"},{\"attributes\":{},\"id\":\"1082\",\"type\":\"Selection\"},{\"attributes\":{\"data_source\":{\"id\":\"1123\"},\"glyph\":{\"id\":\"1126\"},\"hover_glyph\":null,\"muted_glyph\":{\"id\":\"1128\"},\"nonselection_glyph\":{\"id\":\"1127\"},\"selection_glyph\":null,\"view\":{\"id\":\"1130\"}},\"id\":\"1129\",\"type\":\"GlyphRenderer\"},{\"attributes\":{\"source\":{\"id\":\"1081\"}},\"id\":\"1088\",\"type\":\"CDSView\"},{\"attributes\":{},\"id\":\"1078\",\"type\":\"UnionRenderers\"},{\"attributes\":{},\"id\":\"1102\",\"type\":\"Selection\"},{\"attributes\":{\"data\":{\"Variable\":[\"aal\",\"aal\",\"aal\",\"aal\",\"aal\",\"aal\",\"aal\",\"aal\",\"aal\",\"aal\",\"aal\",\"aal\",\"aal\",\"aal\",\"aal\",\"aal\",\"aal\",\"aal\",\"aal\",\"aal\",\"aal\"],\"date\":[\"2020-09-30\",\"2020-06-30\",\"2020-03-31\",\"2019-12-31\",\"2019-09-30\",\"2019-06-30\",\"2019-03-31\",\"2018-12-31\",\"2018-09-30\",\"2018-06-30\",\"2018-03-31\",\"2017-12-31\",\"2017-09-30\",\"2017-06-30\",\"2017-03-31\",\"2016-12-31\",\"2016-09-30\",\"2016-06-30\",\"2016-03-31\",\"2015-12-31\",\"2015-09-30\"],\"value\":[62773000000,64544000000,58580000000,59995000000,61175000000,61967000000,60787000000,60580000000,52635000000,52622000000,53280000000,51396000000,52401000000,53336000000,52627000000,51274000000,51108000000,51051000000,49909000000,48415000000,48715000000]},\"selected\":{\"id\":\"1047\"},\"selection_policy\":{\"id\":\"1059\"}},\"id\":\"1046\",\"type\":\"ColumnDataSource\"},{\"attributes\":{},\"id\":\"1124\",\"type\":\"Selection\"},{\"attributes\":{\"align\":null,\"below\":[{\"id\":\"1019\"}],\"center\":[{\"id\":\"1021\"},{\"id\":\"1025\"}],\"left\":[{\"id\":\"1022\"}],\"margin\":null,\"min_border_bottom\":10,\"min_border_left\":10,\"min_border_right\":10,\"min_border_top\":10,\"plot_height\":300,\"plot_width\":700,\"renderers\":[{\"id\":\"1052\"},{\"id\":\"1069\"},{\"id\":\"1087\"},{\"id\":\"1107\"},{\"id\":\"1129\"}],\"right\":[{\"id\":\"1061\"}],\"sizing_mode\":\"fixed\",\"title\":{\"id\":\"1011\"},\"toolbar\":{\"id\":\"1032\"},\"x_range\":{\"id\":\"1003\"},\"x_scale\":{\"id\":\"1015\"},\"y_range\":{\"id\":\"1004\"},\"y_scale\":{\"id\":\"1017\"}},\"id\":\"1010\",\"subtype\":\"Figure\",\"type\":\"Plot\"},{\"attributes\":{\"axis\":{\"id\":\"1019\"},\"grid_line_color\":null,\"ticker\":null},\"id\":\"1021\",\"type\":\"Grid\"},{\"attributes\":{\"bottom_units\":\"screen\",\"fill_alpha\":0.5,\"fill_color\":\"lightgrey\",\"left_units\":\"screen\",\"level\":\"overlay\",\"line_alpha\":1.0,\"line_color\":\"black\",\"line_dash\":[4,4],\"line_width\":2,\"right_units\":\"screen\",\"top_units\":\"screen\"},\"id\":\"1031\",\"type\":\"BoxAnnotation\"},{\"attributes\":{},\"id\":\"1047\",\"type\":\"Selection\"},{\"attributes\":{},\"id\":\"1064\",\"type\":\"Selection\"},{\"attributes\":{},\"id\":\"1026\",\"type\":\"SaveTool\"},{\"attributes\":{},\"id\":\"1098\",\"type\":\"UnionRenderers\"},{\"attributes\":{\"children\":[{\"id\":\"1002\"},{\"id\":\"1010\"},{\"id\":\"1282\"}],\"margin\":[0,0,0,0],\"name\":\"Row01655\",\"tags\":[\"embedded\"]},\"id\":\"1001\",\"type\":\"Row\"},{\"attributes\":{\"line_color\":\"#ff7e0e\",\"line_width\":2,\"x\":{\"field\":\"date\"},\"y\":{\"field\":\"value\"}},\"id\":\"1066\",\"type\":\"Line\"},{\"attributes\":{},\"id\":\"1027\",\"type\":\"PanTool\"},{\"attributes\":{\"line_alpha\":0.1,\"line_color\":\"#1f77b3\",\"line_width\":2,\"x\":{\"field\":\"date\"},\"y\":{\"field\":\"value\"}},\"id\":\"1050\",\"type\":\"Line\"},{\"attributes\":{\"line_alpha\":0.2,\"line_color\":\"#9367bc\",\"line_width\":2,\"x\":{\"field\":\"date\"},\"y\":{\"field\":\"value\"}},\"id\":\"1128\",\"type\":\"Line\"}],\"root_ids\":[\"1001\"]},\"title\":\"Bokeh Application\",\"version\":\"2.1.1\"}};\n",
       "  var render_items = [{\"docid\":\"8a5b8b4a-8928-4489-b29c-5fc3ff5bed08\",\"root_ids\":[\"1001\"],\"roots\":{\"1001\":\"f5e5a17b-9170-47b7-b3c2-50d2b0183edd\"}}];\n",
       "  root.Bokeh.embed.embed_items_notebook(docs_json, render_items);\n",
       "  }\n",
       "if (root.Bokeh !== undefined) {\n",
       "    embed_document(root);\n",
       "  } else {\n",
       "    var attempts = 0;\n",
       "    var timer = setInterval(function(root) {\n",
       "      if (root.Bokeh !== undefined) {\n",
       "        clearInterval(timer);\n",
       "        embed_document(root);\n",
       "      } else if (document.readyState == \"complete\") {\n",
       "        attempts++;\n",
       "        if (attempts > 100) {\n",
       "          clearInterval(timer);\n",
       "          console.log(\"Bokeh: ERROR: Unable to run BokehJS code because BokehJS library is missing\");\n",
       "        }\n",
       "      }\n",
       "    }, 10, root)\n",
       "  }\n",
       "})(window);</script>"
      ],
      "text/plain": [
       ":NdOverlay   [Variable]\n",
       "   :Curve   [date]   (value)"
      ]
     },
     "execution_count": 7,
     "metadata": {
      "application/vnd.holoviews_exec.v0+json": {
       "id": "1001"
      }
     },
     "output_type": "execute_result"
    }
   ],
   "source": [
    "#  put them all in one dataframe to easily plot with hvplot\n",
    "data = {'date': aal_tmp['fiscalDateEnding'].array, \n",
    "        'aal': aal['totalAssets'].array, \n",
    "        'alk': alk['totalAssets'].array, \n",
    "        'dal': dal['totalAssets'].array,\n",
    "        'luv': luv['totalAssets'].array,\n",
    "        'ual': ual['totalAssets'].array\n",
    "       }\n",
    "airline_total_assets_dataframe = pd.DataFrame(data=data)\n",
    "airline_total_assets_dataframe.set_index('date', inplace=True)\n",
    "airline_total_assets_dataframe.hvplot.line(x=\"date\", rot=90).opts(\n",
    "    yformatter=\"%.0f\", title=\"Airline Total Assets\"\n",
    ")\n",
    "\n"
   ]
  },
  {
   "cell_type": "code",
   "execution_count": 15,
   "metadata": {},
   "outputs": [],
   "source": [
    "#create CSV from Json for Tech companies\n",
    "\n",
    "symbol_list = [\"AAPL\", \"GOOGL\", \"AMZN\", \"MSFT\", \"FB\"]\n",
    "for symbol in symbol_list:\n",
    "    content = requests.get(url= \"https://www.alphavantage.co/query?\",  params = {\"function\":\"BALANCE_SHEET\", \"symbol\": symbol, \"apikey\": key})\n",
    "    data = content.json()\n",
    "    #data_test=data['quarterlyReports']\n",
    "    df = pd.DataFrame.from_dict(data_test)\n",
    "    df.set_index('fiscalDateEnding', inplace=True)\n",
    "    file_name = f'Data/Tech/{symbol}_quarterly_reports.csv'\n",
    "    df.to_csv(file_name)\n",
    "    "
   ]
  },
  {
   "cell_type": "code",
   "execution_count": 16,
   "metadata": {},
   "outputs": [],
   "source": [
    "# loads Tech companies dataframes\n",
    "aapl = pd.read_csv('Data/Tech/AAPL_quarterly_reports.csv', index_col='fiscalDateEnding', parse_dates=True, infer_datetime_format=True)\n",
    "aapl_tmp = pd.read_csv('Data/Tech/AAPL_quarterly_reports.csv', parse_dates=True, infer_datetime_format=True)\n",
    "amzn = pd.read_csv('Data/Tech/AMZN_quarterly_reports.csv', index_col='fiscalDateEnding', parse_dates=True, infer_datetime_format=True)\n",
    "fb = pd.read_csv('Data/Tech/FB_quarterly_reports.csv', index_col='fiscalDateEnding', parse_dates=True, infer_datetime_format=True)\n",
    "googl = pd.read_csv('Data/Tech/GOOGL_quarterly_reports.csv', index_col='fiscalDateEnding', parse_dates=True, infer_datetime_format=True)\n",
    "msft = pd.read_csv('Data/Tech/MSFT_quarterly_reports.csv', index_col='fiscalDateEnding', parse_dates=True, infer_datetime_format=True)"
   ]
  },
  {
   "cell_type": "code",
   "execution_count": 18,
   "metadata": {},
   "outputs": [
    {
     "data": {
      "application/vnd.holoviews_exec.v0+json": "",
      "text/html": [
       "<div id='1359'>\n",
       "\n",
       "\n",
       "\n",
       "\n",
       "\n",
       "  <div class=\"bk-root\" id=\"a0dda8cb-c334-4c62-9e6c-e6e98de68dd9\" data-root-id=\"1359\"></div>\n",
       "</div>\n",
       "<script type=\"application/javascript\">(function(root) {\n",
       "  function embed_document(root) {\n",
       "  var docs_json = {\"2d1bf6db-4cd6-460a-88ab-d59f75e98945\":{\"roots\":{\"references\":[{\"attributes\":{\"axis\":{\"id\":\"1377\"},\"grid_line_color\":null,\"ticker\":null},\"id\":\"1379\",\"type\":\"Grid\"},{\"attributes\":{},\"id\":\"1460\",\"type\":\"Selection\"},{\"attributes\":{\"data\":{\"Variable\":[\"googl\",\"googl\",\"googl\",\"googl\",\"googl\",\"googl\",\"googl\",\"googl\",\"googl\",\"googl\",\"googl\",\"googl\",\"googl\",\"googl\",\"googl\",\"googl\",\"googl\",\"googl\",\"googl\",\"googl\",\"googl\"],\"date\":[\"2020-09-30\",\"2020-06-30\",\"2020-03-31\",\"2019-12-31\",\"2019-09-30\",\"2019-06-30\",\"2019-03-31\",\"2018-12-31\",\"2018-09-30\",\"2018-06-30\",\"2018-03-31\",\"2017-12-31\",\"2017-09-30\",\"2017-06-30\",\"2017-03-31\",\"2016-12-31\",\"2016-09-30\",\"2016-06-30\",\"2016-03-31\",\"2015-12-31\",\"2015-09-30\"],\"value\":[35605000000,35596000000,26885000000,25895000000,26467000000,26374000000,26459000000,26243000000,26882000000,26465000000,25503000000,25110000000,24249000000,23921000000,23763000000,23286000000,23045000000,22447000000,22241000000,21312000000,21159000000]},\"selected\":{\"id\":\"1460\"},\"selection_policy\":{\"id\":\"1478\"}},\"id\":\"1459\",\"type\":\"ColumnDataSource\"},{\"attributes\":{},\"id\":\"1378\",\"type\":\"CategoricalTicker\"},{\"attributes\":{\"data_source\":{\"id\":\"1459\"},\"glyph\":{\"id\":\"1462\"},\"hover_glyph\":null,\"muted_glyph\":{\"id\":\"1464\"},\"nonselection_glyph\":{\"id\":\"1463\"},\"selection_glyph\":null,\"view\":{\"id\":\"1466\"}},\"id\":\"1465\",\"type\":\"GlyphRenderer\"},{\"attributes\":{\"active_drag\":\"auto\",\"active_inspect\":\"auto\",\"active_multi\":null,\"active_scroll\":\"auto\",\"active_tap\":\"auto\",\"tools\":[{\"id\":\"1363\"},{\"id\":\"1384\"},{\"id\":\"1385\"},{\"id\":\"1386\"},{\"id\":\"1387\"},{\"id\":\"1388\"}]},\"id\":\"1390\",\"type\":\"Toolbar\"},{\"attributes\":{\"source\":{\"id\":\"1419\"}},\"id\":\"1426\",\"type\":\"CDSView\"},{\"attributes\":{},\"id\":\"1381\",\"type\":\"BasicTicker\"},{\"attributes\":{\"axis\":{\"id\":\"1380\"},\"dimension\":1,\"grid_line_color\":null,\"ticker\":null},\"id\":\"1383\",\"type\":\"Grid\"},{\"attributes\":{\"factors\":[\"2020-09-30\",\"2020-06-30\",\"2020-03-31\",\"2019-12-31\",\"2019-09-30\",\"2019-06-30\",\"2019-03-31\",\"2018-12-31\",\"2018-09-30\",\"2018-06-30\",\"2018-03-31\",\"2017-12-31\",\"2017-09-30\",\"2017-06-30\",\"2017-03-31\",\"2016-12-31\",\"2016-09-30\",\"2016-06-30\",\"2016-03-31\",\"2015-12-31\",\"2015-09-30\"],\"tags\":[[[\"date\",\"date\",null]]]},\"id\":\"1361\",\"type\":\"FactorRange\"},{\"attributes\":{\"axis_label\":\"\",\"bounds\":\"auto\",\"formatter\":{\"id\":\"1400\"},\"major_label_orientation\":\"horizontal\",\"ticker\":{\"id\":\"1381\"}},\"id\":\"1380\",\"type\":\"LinearAxis\"},{\"attributes\":{\"data\":{\"Variable\":[\"fb\",\"fb\",\"fb\",\"fb\",\"fb\",\"fb\",\"fb\",\"fb\",\"fb\",\"fb\",\"fb\",\"fb\",\"fb\",\"fb\",\"fb\",\"fb\",\"fb\",\"fb\",\"fb\",\"fb\",\"fb\"],\"date\":[\"2020-09-30\",\"2020-06-30\",\"2020-03-31\",\"2019-12-31\",\"2019-09-30\",\"2019-06-30\",\"2019-03-31\",\"2018-12-31\",\"2018-09-30\",\"2018-06-30\",\"2018-03-31\",\"2017-12-31\",\"2017-09-30\",\"2017-06-30\",\"2017-03-31\",\"2016-12-31\",\"2016-09-30\",\"2016-06-30\",\"2016-03-31\",\"2015-12-31\",\"2015-09-30\"],\"value\":[79076000000,72261000000,68738000000,64532000000,63219000000,62518000000,61841000000,60266000000,55003000000,55796000000,54078000000,53292000000,51928000000,51815000000,51459000000,51261000000,50948000000,51634000000,53342000000,53134000000,53646000000]},\"selected\":{\"id\":\"1439\"},\"selection_policy\":{\"id\":\"1455\"}},\"id\":\"1438\",\"type\":\"ColumnDataSource\"},{\"attributes\":{\"source\":{\"id\":\"1401\"}},\"id\":\"1408\",\"type\":\"CDSView\"},{\"attributes\":{\"source\":{\"id\":\"1482\"}},\"id\":\"1489\",\"type\":\"CDSView\"},{\"attributes\":{\"line_alpha\":0.2,\"line_color\":\"#1f77b3\",\"line_width\":2,\"x\":{\"field\":\"date\"},\"y\":{\"field\":\"value\"}},\"id\":\"1406\",\"type\":\"Line\"},{\"attributes\":{\"line_alpha\":0.1,\"line_color\":\"#9367bc\",\"line_width\":2,\"x\":{\"field\":\"date\"},\"y\":{\"field\":\"value\"}},\"id\":\"1486\",\"type\":\"Line\"},{\"attributes\":{\"label\":{\"value\":\"googl\"},\"renderers\":[{\"id\":\"1465\"}]},\"id\":\"1481\",\"type\":\"LegendItem\"},{\"attributes\":{},\"id\":\"1384\",\"type\":\"SaveTool\"},{\"attributes\":{\"data\":{\"Variable\":[\"amzn\",\"amzn\",\"amzn\",\"amzn\",\"amzn\",\"amzn\",\"amzn\",\"amzn\",\"amzn\",\"amzn\",\"amzn\",\"amzn\",\"amzn\",\"amzn\",\"amzn\",\"amzn\",\"amzn\",\"amzn\",\"amzn\",\"amzn\",\"amzn\"],\"date\":[\"2020-09-30\",\"2020-06-30\",\"2020-03-31\",\"2019-12-31\",\"2019-09-30\",\"2019-06-30\",\"2019-03-31\",\"2018-12-31\",\"2018-09-30\",\"2018-06-30\",\"2018-03-31\",\"2017-12-31\",\"2017-09-30\",\"2017-06-30\",\"2017-03-31\",\"2016-12-31\",\"2016-09-30\",\"2016-06-30\",\"2016-03-31\",\"2015-12-31\",\"2015-09-30\"],\"value\":[14749000000,13998000000,13363000000,12993000000,12983000000,12951000000,12640000000,10912000000,10893000000,11055000000,10848000000,10740000000,10739000000,10720000000,10302000000,9962000000,8699000000,7035000000,6829000000,6533000000,6564000000]},\"selected\":{\"id\":\"1420\"},\"selection_policy\":{\"id\":\"1434\"}},\"id\":\"1419\",\"type\":\"ColumnDataSource\"},{\"attributes\":{\"label\":{\"value\":\"amzn\"},\"renderers\":[{\"id\":\"1425\"}]},\"id\":\"1437\",\"type\":\"LegendItem\"},{\"attributes\":{\"data\":{\"Variable\":[\"aapl\",\"aapl\",\"aapl\",\"aapl\",\"aapl\",\"aapl\",\"aapl\",\"aapl\",\"aapl\",\"aapl\",\"aapl\",\"aapl\",\"aapl\",\"aapl\",\"aapl\",\"aapl\",\"aapl\",\"aapl\",\"aapl\",\"aapl\",\"aapl\"],\"date\":[\"2020-09-30\",\"2020-06-30\",\"2020-03-31\",\"2019-12-31\",\"2019-09-30\",\"2019-06-30\",\"2019-03-31\",\"2018-12-31\",\"2018-09-30\",\"2018-06-30\",\"2018-03-31\",\"2017-12-31\",\"2017-09-30\",\"2017-06-30\",\"2017-03-31\",\"2016-12-31\",\"2016-09-30\",\"2016-06-30\",\"2016-03-31\",\"2015-12-31\",\"2015-09-30\"],\"value\":[62773000000,64544000000,58580000000,59995000000,61175000000,61967000000,60787000000,60580000000,52635000000,52622000000,53280000000,51396000000,52401000000,53336000000,52627000000,51274000000,51108000000,51051000000,49909000000,48415000000,48715000000]},\"selected\":{\"id\":\"1402\"},\"selection_policy\":{\"id\":\"1414\"}},\"id\":\"1401\",\"type\":\"ColumnDataSource\"},{\"attributes\":{},\"id\":\"1420\",\"type\":\"Selection\"},{\"attributes\":{\"line_alpha\":0.2,\"line_color\":\"#d62628\",\"line_width\":2,\"x\":{\"field\":\"date\"},\"y\":{\"field\":\"value\"}},\"id\":\"1464\",\"type\":\"Line\"},{\"attributes\":{},\"id\":\"1483\",\"type\":\"Selection\"},{\"attributes\":{},\"id\":\"1373\",\"type\":\"CategoricalScale\"},{\"attributes\":{\"end\":86330300000.0,\"reset_end\":86330300000.0,\"reset_start\":-721300000.0,\"start\":-721300000.0,\"tags\":[[[\"value\",\"value\",null]]]},\"id\":\"1362\",\"type\":\"Range1d\"},{\"attributes\":{},\"id\":\"1478\",\"type\":\"UnionRenderers\"},{\"attributes\":{\"data_source\":{\"id\":\"1482\"},\"glyph\":{\"id\":\"1485\"},\"hover_glyph\":null,\"muted_glyph\":{\"id\":\"1487\"},\"nonselection_glyph\":{\"id\":\"1486\"},\"selection_glyph\":null,\"view\":{\"id\":\"1489\"}},\"id\":\"1488\",\"type\":\"GlyphRenderer\"},{\"attributes\":{},\"id\":\"1400\",\"type\":\"BasicTickFormatter\"},{\"attributes\":{\"click_policy\":\"mute\",\"items\":[{\"id\":\"1418\"},{\"id\":\"1437\"},{\"id\":\"1458\"},{\"id\":\"1481\"},{\"id\":\"1506\"}],\"location\":[0,0],\"title\":\"Variable\"},\"id\":\"1417\",\"type\":\"Legend\"},{\"attributes\":{\"line_color\":\"#d62628\",\"line_width\":2,\"x\":{\"field\":\"date\"},\"y\":{\"field\":\"value\"}},\"id\":\"1462\",\"type\":\"Line\"},{\"attributes\":{},\"id\":\"1414\",\"type\":\"UnionRenderers\"},{\"attributes\":{},\"id\":\"1439\",\"type\":\"Selection\"},{\"attributes\":{\"line_alpha\":0.1,\"line_color\":\"#d62628\",\"line_width\":2,\"x\":{\"field\":\"date\"},\"y\":{\"field\":\"value\"}},\"id\":\"1463\",\"type\":\"Line\"},{\"attributes\":{\"line_alpha\":0.2,\"line_color\":\"#9367bc\",\"line_width\":2,\"x\":{\"field\":\"date\"},\"y\":{\"field\":\"value\"}},\"id\":\"1487\",\"type\":\"Line\"},{\"attributes\":{},\"id\":\"1388\",\"type\":\"ResetTool\"},{\"attributes\":{},\"id\":\"1398\",\"type\":\"CategoricalTickFormatter\"},{\"attributes\":{\"bottom_units\":\"screen\",\"fill_alpha\":0.5,\"fill_color\":\"lightgrey\",\"left_units\":\"screen\",\"level\":\"overlay\",\"line_alpha\":1.0,\"line_color\":\"black\",\"line_dash\":[4,4],\"line_width\":2,\"right_units\":\"screen\",\"top_units\":\"screen\"},\"id\":\"1389\",\"type\":\"BoxAnnotation\"},{\"attributes\":{\"axis_label\":\"date\",\"bounds\":\"auto\",\"formatter\":{\"id\":\"1398\"},\"major_label_orientation\":\"horizontal\",\"ticker\":{\"id\":\"1378\"}},\"id\":\"1377\",\"type\":\"CategoricalAxis\"},{\"attributes\":{\"text\":\"\",\"text_color\":{\"value\":\"black\"},\"text_font_size\":{\"value\":\"12pt\"}},\"id\":\"1369\",\"type\":\"Title\"},{\"attributes\":{\"line_alpha\":0.1,\"line_color\":\"#2ba02b\",\"line_width\":2,\"x\":{\"field\":\"date\"},\"y\":{\"field\":\"value\"}},\"id\":\"1442\",\"type\":\"Line\"},{\"attributes\":{\"line_alpha\":0.1,\"line_color\":\"#1f77b3\",\"line_width\":2,\"x\":{\"field\":\"date\"},\"y\":{\"field\":\"value\"}},\"id\":\"1405\",\"type\":\"Line\"},{\"attributes\":{},\"id\":\"1375\",\"type\":\"LinearScale\"},{\"attributes\":{\"label\":{\"value\":\"fb\"},\"renderers\":[{\"id\":\"1444\"}]},\"id\":\"1458\",\"type\":\"LegendItem\"},{\"attributes\":{},\"id\":\"1503\",\"type\":\"UnionRenderers\"},{\"attributes\":{\"source\":{\"id\":\"1438\"}},\"id\":\"1445\",\"type\":\"CDSView\"},{\"attributes\":{\"data\":{\"Variable\":[\"msft\",\"msft\",\"msft\",\"msft\",\"msft\",\"msft\",\"msft\",\"msft\",\"msft\",\"msft\",\"msft\",\"msft\",\"msft\",\"msft\",\"msft\",\"msft\",\"msft\",\"msft\",\"msft\",\"msft\",\"msft\"],\"date\":[\"2020-09-30\",\"2020-06-30\",\"2020-03-31\",\"2019-12-31\",\"2019-09-30\",\"2019-06-30\",\"2019-03-31\",\"2018-12-31\",\"2018-09-30\",\"2018-06-30\",\"2018-03-31\",\"2017-12-31\",\"2017-09-30\",\"2017-06-30\",\"2017-03-31\",\"2016-12-31\",\"2016-09-30\",\"2016-06-30\",\"2016-03-31\",\"2015-12-31\",\"2015-09-30\"],\"value\":[62773000000,64544000000,58580000000,59995000000,61175000000,61967000000,60787000000,60580000000,52635000000,52622000000,53280000000,51396000000,52401000000,53336000000,52627000000,51274000000,51108000000,51051000000,49909000000,48415000000,48715000000]},\"selected\":{\"id\":\"1483\"},\"selection_policy\":{\"id\":\"1503\"}},\"id\":\"1482\",\"type\":\"ColumnDataSource\"},{\"attributes\":{\"line_alpha\":0.1,\"line_color\":\"#ff7e0e\",\"line_width\":2,\"x\":{\"field\":\"date\"},\"y\":{\"field\":\"value\"}},\"id\":\"1423\",\"type\":\"Line\"},{\"attributes\":{\"label\":{\"value\":\"aapl\"},\"renderers\":[{\"id\":\"1407\"}]},\"id\":\"1418\",\"type\":\"LegendItem\"},{\"attributes\":{},\"id\":\"1455\",\"type\":\"UnionRenderers\"},{\"attributes\":{\"margin\":[5,5,5,5],\"name\":\"HSpacer02596\",\"sizing_mode\":\"stretch_width\"},\"id\":\"1651\",\"type\":\"Spacer\"},{\"attributes\":{\"data_source\":{\"id\":\"1401\"},\"glyph\":{\"id\":\"1404\"},\"hover_glyph\":null,\"muted_glyph\":{\"id\":\"1406\"},\"nonselection_glyph\":{\"id\":\"1405\"},\"selection_glyph\":null,\"view\":{\"id\":\"1408\"}},\"id\":\"1407\",\"type\":\"GlyphRenderer\"},{\"attributes\":{\"line_alpha\":0.2,\"line_color\":\"#ff7e0e\",\"line_width\":2,\"x\":{\"field\":\"date\"},\"y\":{\"field\":\"value\"}},\"id\":\"1424\",\"type\":\"Line\"},{\"attributes\":{\"line_color\":\"#9367bc\",\"line_width\":2,\"x\":{\"field\":\"date\"},\"y\":{\"field\":\"value\"}},\"id\":\"1485\",\"type\":\"Line\"},{\"attributes\":{\"data_source\":{\"id\":\"1438\"},\"glyph\":{\"id\":\"1441\"},\"hover_glyph\":null,\"muted_glyph\":{\"id\":\"1443\"},\"nonselection_glyph\":{\"id\":\"1442\"},\"selection_glyph\":null,\"view\":{\"id\":\"1445\"}},\"id\":\"1444\",\"type\":\"GlyphRenderer\"},{\"attributes\":{\"line_color\":\"#ff7e0e\",\"line_width\":2,\"x\":{\"field\":\"date\"},\"y\":{\"field\":\"value\"}},\"id\":\"1422\",\"type\":\"Line\"},{\"attributes\":{\"overlay\":{\"id\":\"1389\"}},\"id\":\"1387\",\"type\":\"BoxZoomTool\"},{\"attributes\":{\"children\":[{\"id\":\"1360\"},{\"id\":\"1368\"},{\"id\":\"1651\"}],\"margin\":[0,0,0,0],\"name\":\"Row02591\",\"tags\":[\"embedded\"]},\"id\":\"1359\",\"type\":\"Row\"},{\"attributes\":{\"callback\":null,\"renderers\":[{\"id\":\"1407\"},{\"id\":\"1425\"},{\"id\":\"1444\"},{\"id\":\"1465\"},{\"id\":\"1488\"}],\"tags\":[\"hv_created\"],\"tooltips\":[[\"Variable\",\"@{Variable}\"],[\"date\",\"@{date}\"],[\"value\",\"@{value}\"]]},\"id\":\"1363\",\"type\":\"HoverTool\"},{\"attributes\":{\"line_color\":\"#2ba02b\",\"line_width\":2,\"x\":{\"field\":\"date\"},\"y\":{\"field\":\"value\"}},\"id\":\"1441\",\"type\":\"Line\"},{\"attributes\":{\"data_source\":{\"id\":\"1419\"},\"glyph\":{\"id\":\"1422\"},\"hover_glyph\":null,\"muted_glyph\":{\"id\":\"1424\"},\"nonselection_glyph\":{\"id\":\"1423\"},\"selection_glyph\":null,\"view\":{\"id\":\"1426\"}},\"id\":\"1425\",\"type\":\"GlyphRenderer\"},{\"attributes\":{\"margin\":[5,5,5,5],\"name\":\"HSpacer02595\",\"sizing_mode\":\"stretch_width\"},\"id\":\"1360\",\"type\":\"Spacer\"},{\"attributes\":{\"line_alpha\":0.2,\"line_color\":\"#2ba02b\",\"line_width\":2,\"x\":{\"field\":\"date\"},\"y\":{\"field\":\"value\"}},\"id\":\"1443\",\"type\":\"Line\"},{\"attributes\":{\"align\":null,\"below\":[{\"id\":\"1377\"}],\"center\":[{\"id\":\"1379\"},{\"id\":\"1383\"}],\"left\":[{\"id\":\"1380\"}],\"margin\":null,\"min_border_bottom\":10,\"min_border_left\":10,\"min_border_right\":10,\"min_border_top\":10,\"plot_height\":300,\"plot_width\":700,\"renderers\":[{\"id\":\"1407\"},{\"id\":\"1425\"},{\"id\":\"1444\"},{\"id\":\"1465\"},{\"id\":\"1488\"}],\"right\":[{\"id\":\"1417\"}],\"sizing_mode\":\"fixed\",\"title\":{\"id\":\"1369\"},\"toolbar\":{\"id\":\"1390\"},\"x_range\":{\"id\":\"1361\"},\"x_scale\":{\"id\":\"1373\"},\"y_range\":{\"id\":\"1362\"},\"y_scale\":{\"id\":\"1375\"}},\"id\":\"1368\",\"subtype\":\"Figure\",\"type\":\"Plot\"},{\"attributes\":{\"source\":{\"id\":\"1459\"}},\"id\":\"1466\",\"type\":\"CDSView\"},{\"attributes\":{},\"id\":\"1402\",\"type\":\"Selection\"},{\"attributes\":{\"label\":{\"value\":\"msft\"},\"renderers\":[{\"id\":\"1488\"}]},\"id\":\"1506\",\"type\":\"LegendItem\"},{\"attributes\":{},\"id\":\"1434\",\"type\":\"UnionRenderers\"},{\"attributes\":{\"line_color\":\"#1f77b3\",\"line_width\":2,\"x\":{\"field\":\"date\"},\"y\":{\"field\":\"value\"}},\"id\":\"1404\",\"type\":\"Line\"},{\"attributes\":{},\"id\":\"1385\",\"type\":\"PanTool\"},{\"attributes\":{},\"id\":\"1386\",\"type\":\"WheelZoomTool\"}],\"root_ids\":[\"1359\"]},\"title\":\"Bokeh Application\",\"version\":\"2.1.1\"}};\n",
       "  var render_items = [{\"docid\":\"2d1bf6db-4cd6-460a-88ab-d59f75e98945\",\"root_ids\":[\"1359\"],\"roots\":{\"1359\":\"a0dda8cb-c334-4c62-9e6c-e6e98de68dd9\"}}];\n",
       "  root.Bokeh.embed.embed_items_notebook(docs_json, render_items);\n",
       "  }\n",
       "if (root.Bokeh !== undefined) {\n",
       "    embed_document(root);\n",
       "  } else {\n",
       "    var attempts = 0;\n",
       "    var timer = setInterval(function(root) {\n",
       "      if (root.Bokeh !== undefined) {\n",
       "        clearInterval(timer);\n",
       "        embed_document(root);\n",
       "      } else if (document.readyState == \"complete\") {\n",
       "        attempts++;\n",
       "        if (attempts > 100) {\n",
       "          clearInterval(timer);\n",
       "          console.log(\"Bokeh: ERROR: Unable to run BokehJS code because BokehJS library is missing\");\n",
       "        }\n",
       "      }\n",
       "    }, 10, root)\n",
       "  }\n",
       "})(window);</script>"
      ],
      "text/plain": [
       ":NdOverlay   [Variable]\n",
       "   :Curve   [date]   (value)"
      ]
     },
     "execution_count": 18,
     "metadata": {
      "application/vnd.holoviews_exec.v0+json": {
       "id": "1359"
      }
     },
     "output_type": "execute_result"
    }
   ],
   "source": [
    "# probably a bad way of doing this but we wanna put them all in one dataframe to easily plot with hvplot\n",
    "data = {'date': aal_tmp['fiscalDateEnding'].array, \n",
    "        'aapl': aal['totalAssets'].array, \n",
    "        'amzn': alk['totalAssets'].array, \n",
    "        'fb': dal['totalAssets'].array,\n",
    "        'googl': luv['totalAssets'].array,\n",
    "        'msft': aal['totalAssets'].array\n",
    "       }\n",
    "Tech_total_assets_dataframe = pd.DataFrame(data=data)\n",
    "Tech_total_assets_dataframe.set_index('date', inplace=True)\n",
    "Tech_total_assets_dataframe.hvplot.line()"
   ]
  },
  {
   "cell_type": "code",
   "execution_count": 19,
   "metadata": {},
   "outputs": [
    {
     "name": "stdout",
     "output_type": "stream",
     "text": [
      "KeyError. Trying again in 60 seconds...\n"
     ]
    },
    {
     "ename": "TypeError",
     "evalue": "'Response' object is not subscriptable",
     "output_type": "error",
     "traceback": [
      "\u001b[1;31m---------------------------------------------------------------------------\u001b[0m",
      "\u001b[1;31mKeyError\u001b[0m                                  Traceback (most recent call last)",
      "\u001b[1;32m<ipython-input-19-769358adb337>\u001b[0m in \u001b[0;36m<module>\u001b[1;34m\u001b[0m\n\u001b[0;32m      8\u001b[0m     \u001b[1;32mtry\u001b[0m\u001b[1;33m:\u001b[0m\u001b[1;33m\u001b[0m\u001b[1;33m\u001b[0m\u001b[0m\n\u001b[1;32m----> 9\u001b[1;33m         \u001b[0mstock_price\u001b[0m \u001b[1;33m=\u001b[0m \u001b[0mstock_price\u001b[0m\u001b[1;33m[\u001b[0m\u001b[1;34m'Monthly Adjusted Time Series'\u001b[0m\u001b[1;33m]\u001b[0m\u001b[1;33m\u001b[0m\u001b[1;33m\u001b[0m\u001b[0m\n\u001b[0m\u001b[0;32m     10\u001b[0m     \u001b[1;32mexcept\u001b[0m \u001b[0mKeyError\u001b[0m\u001b[1;33m:\u001b[0m\u001b[1;33m\u001b[0m\u001b[1;33m\u001b[0m\u001b[0m\n",
      "\u001b[1;31mKeyError\u001b[0m: 'Monthly Adjusted Time Series'",
      "\nDuring handling of the above exception, another exception occurred:\n",
      "\u001b[1;31mTypeError\u001b[0m                                 Traceback (most recent call last)",
      "\u001b[1;32m<ipython-input-19-769358adb337>\u001b[0m in \u001b[0;36m<module>\u001b[1;34m\u001b[0m\n\u001b[0;32m     13\u001b[0m         stock_price = requests.get('https://www.alphavantage.co/query?', params={'function':'TIME_SERIES_MONTHLY_ADJUSTED','symbol':symbol,\n\u001b[0;32m     14\u001b[0m                                                                               'apikey':'alphavantage_api_key'})\n\u001b[1;32m---> 15\u001b[1;33m         \u001b[0mstock_price\u001b[0m \u001b[1;33m=\u001b[0m \u001b[0mstock_price\u001b[0m\u001b[1;33m[\u001b[0m\u001b[1;34m'Monthly Adjusted Time Series'\u001b[0m\u001b[1;33m]\u001b[0m\u001b[1;33m\u001b[0m\u001b[1;33m\u001b[0m\u001b[0m\n\u001b[0m\u001b[0;32m     16\u001b[0m     \u001b[0mdate\u001b[0m \u001b[1;33m=\u001b[0m\u001b[1;33m{\u001b[0m\u001b[1;33m}\u001b[0m\u001b[1;33m\u001b[0m\u001b[1;33m\u001b[0m\u001b[0m\n\u001b[0;32m     17\u001b[0m     \u001b[0mdate_list\u001b[0m \u001b[1;33m=\u001b[0m \u001b[1;33m[\u001b[0m\u001b[1;33m]\u001b[0m\u001b[1;33m\u001b[0m\u001b[1;33m\u001b[0m\u001b[0m\n",
      "\u001b[1;31mTypeError\u001b[0m: 'Response' object is not subscriptable"
     ]
    }
   ],
   "source": [
    "symbol_list = [\"AAPL\",\"GOOGL\",\"AMZN\",\"FB\",\"MSFT\"]\n",
    "symbol_list = [\"AAL\",\"UAL\",\"LUV\",\"DAL\",\"AL\"]\n",
    "#CREATE FOR LOOP TO CHNGE JSON INTO CSV FILES\n",
    "for symbol in symbol_list:\n",
    "    stock_price = requests.get('https://www.alphavantage.co/query?', params={'function':'TIME_SERIES_MONTHLY_ADJUSTED','symbol':symbol,\n",
    "                                                                              'apikey':'Alpha_vantage_Api_key'})\n",
    "    stock_price = stock_price.json()\n",
    "    try:\n",
    "        stock_price = stock_price['Monthly Adjusted Time Series']\n",
    "    except KeyError:\n",
    "        print('KeyError. Trying again in 60 seconds...')  \n",
    "        time.sleep(60)\n",
    "        stock_price = requests.get('https://www.alphavantage.co/query?', params={'function':'TIME_SERIES_MONTHLY_ADJUSTED','symbol':symbol,\n",
    "                                                                              'apikey':'alphavantage_api_key'})\n",
    "        stock_price = stock_price['Monthly Adjusted Time Series']\n",
    "    date ={}\n",
    "    date_list = []\n",
    "    close_list =[]\n",
    "    for date in stock_price:\n",
    "        data[date] = stock_price[date]['4. close']\n",
    "        date_list.append(date)\n",
    "        close_list.append(stock_price[date]['4. close'])\n",
    "    data = {'date': date_list, 'close': close_list}\n",
    "    price_df = pd.DataFrame.from_dict(data)\n",
    "    price_df.columns = ['date', 'close']\n",
    "    price_df.set_index('date', inplace=True)\n",
    "    price_df_ascending = price_df.sort_values(by=\"date\", ascending=True)\n",
    "    price_df_average = price_df_ascending.rolling(3).mean() \n",
    "    price_df_average = price_df_ascending.iloc[::3, :].truncate(before = \"2019-03-29\")\n",
    "    final_month = price_df_ascending.iloc[-1] # we wanna append final_month to price_df_average\n",
    "    price_df_average = price_df_average.append(final_month) \n",
    "    file_name = f'Data/Prices/{symbol}.csv'\n",
    "    price_df.to_csv(file_name)\n",
    "    print(price_df_average)\n",
    "    print(f\" {symbol}:\")\n",
    "    print(\"-----\")\n",
    "   \n",
    "    \n",
    "    \n",
    "        \n",
    "  "
   ]
  },
  {
   "cell_type": "code",
   "execution_count": null,
   "metadata": {},
   "outputs": [],
   "source": [
    "# clean data\n"
   ]
  }
 ],
 "metadata": {
  "kernelspec": {
   "display_name": "Python [conda env:alpacaenv] *",
   "language": "python",
   "name": "conda-env-alpacaenv-py"
  },
  "language_info": {
   "codemirror_mode": {
    "name": "ipython",
    "version": 3
   },
   "file_extension": ".py",
   "mimetype": "text/x-python",
   "name": "python",
   "nbconvert_exporter": "python",
   "pygments_lexer": "ipython3",
   "version": "3.7.7"
  }
 },
 "nbformat": 4,
 "nbformat_minor": 4
}
