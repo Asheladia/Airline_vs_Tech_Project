{
 "cells": [
  {
   "cell_type": "code",
   "execution_count": 17,
   "metadata": {},
   "outputs": [
    {
     "data": {
      "text/plain": [
       "True"
      ]
     },
     "execution_count": 17,
     "metadata": {},
     "output_type": "execute_result"
    }
   ],
   "source": [
    "from dotenv import load_dotenv\n",
    "import os\n",
    "import pandas as pd\n",
    "import alpaca_trade_api as tradeapi\n",
    "import requests\n",
    "import json\n",
    "import time\n",
    "load_dotenv(\"alphavantage_api_key.env\")"
   ]
  },
  {
   "cell_type": "code",
   "execution_count": 4,
   "metadata": {},
   "outputs": [],
   "source": []
  },
  {
   "cell_type": "code",
   "execution_count": 32,
   "metadata": {},
   "outputs": [],
   "source": [
    "symbol_list = [\"ALK\", \"UAL\", \"LUV\", \"DAL\", \"AL\"]\n",
    "tech_list = [\"AAPL\", \"GOOGL\", \"AMZN\", \"MSFT\", \"FB\"]\n",
    "\n",
    "for symbol in symbol_list:\n",
    "    content = requests.get(url= \"https://www.alphavantage.co/query?\",  params = {\"function\":\"BALANCE_SHEET\", \"symbol\": symbol, \"apikey\": key})\n",
    "    data = content.json()\n",
    "    data_test=data['quarterlyReports']\n",
    "    df = pd.DataFrame.from_dict(data_test)\n",
    "    df.set_index('fiscalDateEnding', inplace=True)\n",
    "    \n",
    "    file_name = f'Data/Airlines/{symbol}_quarterly_reports.csv'\n",
    "    df.to_csv(file_name)\n"
   ]
  },
  {
   "cell_type": "code",
   "execution_count": 33,
   "metadata": {},
   "outputs": [],
   "source": [
    "symbol_list = [\"AAL\", \"UAL\", \"LUV\", \"DAL\", \"AL\"]\n",
    "tech_list = [\"AAPL\", \"GOOGL\", \"AMZN\", \"MSFT\", \"FB\"]\n",
    "\n",
    "for symbol in symbol_list:\n",
    "    stock_price = requests.get('https://www.alphavantage.co/query?', params={'function':'TIME_SERIES_MONTHLY_ADJUSTED','symbol':symbol,\n",
    "                                                                              'apikey':'Alpha_vantage_Api_key'})\n",
    "    stock_price = stock_price.json()\n",
    "    try:\n",
    "        stock_price = stock_price['Monthly Adjusted Time Series']\n",
    "    except KeyError:\n",
    "        print('KeyError. Trying again in 60 seconds...')  \n",
    "        time.sleep(60)\n",
    "        stock_price = requests.get('https://www.alphavantage.co/query?', params={'function':'TIME_SERIES_MONTHLY_ADJUSTED','symbol':symbol,\n",
    "                                                                              'apikey':'Alpha_vantage_Api_key'})\n",
    "        stock_price = stock_price['Monthly Adjusted Time Series']\n",
    "\n",
    "    data = {}\n",
    "    date_list = []\n",
    "    close_list = []\n",
    "    for date in stock_price:\n",
    "        date_list.append(date)\n",
    "        close_list.append(stock_price[date]['4. close'])\n",
    "    \n",
    "    data = {'date': date_list, 'close': close_list}\n",
    "    price_df = pd.DataFrame.from_dict(data)\n",
    "    \n",
    "    price_df.set_index('date', inplace=True)\n",
    "    file_name = f'Data/Prices/{symbol}.csv'\n",
    "    price_df.to_csv(file_name)"
   ]
  },
  {
   "cell_type": "code",
   "execution_count": 31,
   "metadata": {},
   "outputs": [
    {
     "name": "stdout",
     "output_type": "stream",
     "text": [
      "1\n",
      "AAPL:\n",
      "               close\n",
      "date                \n",
      "2019-03-29  189.9500\n",
      "2019-06-28  197.9200\n",
      "2019-09-30  223.9700\n",
      "2019-12-31  293.6500\n",
      "2020-03-31  254.2900\n",
      "2020-06-30  364.8000\n",
      "2020-09-30  115.8100\n",
      "---\n",
      "close    108.8600\n",
      "Name: 2020-10-30, dtype: object\n"
     ]
    }
   ],
   "source": [
    "symbol_list = [\"AAPL\"]\n",
    "#symbol_list = [\"AAL\", \"UAL\", \"LUV\", \"DAL\", \"AL\"]\n",
    "for symbol in symbol_list:\n",
    "    stock_price = requests.get('https://www.alphavantage.co/query?', params={'function':'TIME_SERIES_MONTHLY_ADJUSTED','symbol':symbol,\n",
    "                                                                              'apikey':'Alpha_vantage_Api_key'})\n",
    "    stock_price = stock_price.json()\n",
    "    try:\n",
    "        stock_price = stock_price['Monthly Adjusted Time Series']\n",
    "    except KeyError:\n",
    "        print('KeyError. Trying again in 60 seconds...')  \n",
    "        time.sleep(60)\n",
    "        stock_price = requests.get('https://www.alphavantage.co/query?', params={'function':'TIME_SERIES_MONTHLY_ADJUSTED','symbol':symbol,\n",
    "                                                                              'apikey':'Alpha_vantage_Api_key'})\n",
    "        stock_price = stock_price['Monthly Adjusted Time Series']\n",
    "    data = {}\n",
    "    date_list = []\n",
    "    close_list = []\n",
    "    for date in stock_price:\n",
    "        data[date] = stock_price[date]['4. close']\n",
    "        date_list.append(date)\n",
    "        close_list.append(stock_price[date]['4. close'])\n",
    "    data = {'date': date_list, 'close': close_list}\n",
    "    price_df = pd.DataFrame.from_dict(data)\n",
    "    price_df.columns = ['date', 'close']\n",
    "    price_df.set_index('date', inplace=True)\n",
    "    price_df_ascending = price_df.sort_values(by=\"date\", ascending=True)\n",
    "    price_df_average = price_df_ascending.rolling(3).mean() \n",
    "    price_df_average = price_df_ascending.iloc[::3, :].truncate(before = \"2019-03-29\")\n",
    "    final_month = price_df_ascending.iloc[-1] # we wanna append final_month to price_df_average\n",
    "    price_df_average.append(final_month) \n",
    "    file_name = f'Data/Prices/{symbol}.csv'\n",
    "    price_df.to_csv(file_name)\n",
    "    print(f'{symbol}:')\n",
    "    print(price_df_average)\n",
    "    print('---')\n",
    "    print(final_month)"
   ]
  },
  {
   "cell_type": "code",
   "execution_count": null,
   "metadata": {},
   "outputs": [],
   "source": []
  }
 ],
 "metadata": {
  "kernelspec": {
   "display_name": "Python 3",
   "language": "python",
   "name": "python3"
  },
  "language_info": {
   "codemirror_mode": {
    "name": "ipython",
    "version": 3
   },
   "file_extension": ".py",
   "mimetype": "text/x-python",
   "name": "python",
   "nbconvert_exporter": "python",
   "pygments_lexer": "ipython3",
   "version": "3.8.3"
  }
 },
 "nbformat": 4,
 "nbformat_minor": 4
}
