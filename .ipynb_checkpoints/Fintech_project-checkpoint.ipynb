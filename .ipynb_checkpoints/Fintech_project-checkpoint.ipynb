{
 "cells": [
  {
   "cell_type": "code",
   "execution_count": 1,
   "metadata": {},
   "outputs": [
    {
     "data": {
      "text/plain": [
       "True"
      ]
     },
     "execution_count": 1,
     "metadata": {},
     "output_type": "execute_result"
    }
   ],
   "source": [
    "from dotenv import load_dotenv\n",
    "import os\n",
    "import pandas as pd\n",
    "import alpaca_trade_api as tradeapi\n",
    "import requests\n",
    "load_dotenv(\"alphavantage_api_key.env\")"
   ]
  },
  {
   "cell_type": "code",
   "execution_count": 2,
   "metadata": {},
   "outputs": [
    {
     "name": "stdout",
     "output_type": "stream",
     "text": [
      "<class 'str'>\n"
     ]
    }
   ],
   "source": [
    "key = os.getenv(\"alphavantage_api_key\")\n",
    "print (type(key))"
   ]
  },
  {
   "cell_type": "code",
   "execution_count": 3,
   "metadata": {},
   "outputs": [],
   "source": [
    "content = requests.get(url= \"https://www.alphavantage.co/query?\",  params = {\"function\":\"BALANCE_SHEET\",\"symbol\":\"AAL\", \"apikey\":key})"
   ]
  },
  {
   "cell_type": "code",
   "execution_count": 4,
   "metadata": {},
   "outputs": [
    {
     "data": {
      "text/plain": [
       "dict_keys(['symbol', 'annualReports', 'quarterlyReports'])"
      ]
     },
     "execution_count": 4,
     "metadata": {},
     "output_type": "execute_result"
    }
   ],
   "source": [
    "content.json().keys()"
   ]
  },
  {
   "cell_type": "code",
   "execution_count": 5,
   "metadata": {},
   "outputs": [
    {
     "data": {
      "text/html": [
       "<div>\n",
       "<style scoped>\n",
       "    .dataframe tbody tr th:only-of-type {\n",
       "        vertical-align: middle;\n",
       "    }\n",
       "\n",
       "    .dataframe tbody tr th {\n",
       "        vertical-align: top;\n",
       "    }\n",
       "\n",
       "    .dataframe thead th {\n",
       "        text-align: right;\n",
       "    }\n",
       "</style>\n",
       "<table border=\"1\" class=\"dataframe\">\n",
       "  <thead>\n",
       "    <tr style=\"text-align: right;\">\n",
       "      <th></th>\n",
       "      <th>fiscalDateEnding</th>\n",
       "      <th>reportedCurrency</th>\n",
       "      <th>totalAssets</th>\n",
       "      <th>intangibleAssets</th>\n",
       "      <th>earningAssets</th>\n",
       "      <th>otherCurrentAssets</th>\n",
       "      <th>totalLiabilities</th>\n",
       "      <th>totalShareholderEquity</th>\n",
       "      <th>deferredLongTermLiabilities</th>\n",
       "      <th>otherCurrentLiabilities</th>\n",
       "      <th>...</th>\n",
       "      <th>otherNonCurrentLiabilities</th>\n",
       "      <th>totalNonCurrentLiabilities</th>\n",
       "      <th>negativeGoodwill</th>\n",
       "      <th>warrants</th>\n",
       "      <th>preferredStockRedeemable</th>\n",
       "      <th>capitalSurplus</th>\n",
       "      <th>liabilitiesAndShareholderEquity</th>\n",
       "      <th>cashAndShortTermInvestments</th>\n",
       "      <th>accumulatedDepreciation</th>\n",
       "      <th>commonStockSharesOutstanding</th>\n",
       "    </tr>\n",
       "  </thead>\n",
       "  <tbody>\n",
       "    <tr>\n",
       "      <th>0</th>\n",
       "      <td>2019-12-31</td>\n",
       "      <td>USD</td>\n",
       "      <td>59995000000</td>\n",
       "      <td>2084000000</td>\n",
       "      <td>None</td>\n",
       "      <td>621000000</td>\n",
       "      <td>60113000000</td>\n",
       "      <td>-118000000</td>\n",
       "      <td>None</td>\n",
       "      <td>17710000000</td>\n",
       "      <td>...</td>\n",
       "      <td>20348000000</td>\n",
       "      <td>41802000000</td>\n",
       "      <td>None</td>\n",
       "      <td>None</td>\n",
       "      <td>None</td>\n",
       "      <td>3945000000</td>\n",
       "      <td>59995000000</td>\n",
       "      <td>3984000000</td>\n",
       "      <td>-18659000000</td>\n",
       "      <td>428202506</td>\n",
       "    </tr>\n",
       "  </tbody>\n",
       "</table>\n",
       "<p>1 rows × 51 columns</p>\n",
       "</div>"
      ],
      "text/plain": [
       "  fiscalDateEnding reportedCurrency  totalAssets intangibleAssets  \\\n",
       "0       2019-12-31              USD  59995000000       2084000000   \n",
       "\n",
       "  earningAssets otherCurrentAssets totalLiabilities totalShareholderEquity  \\\n",
       "0          None          621000000      60113000000             -118000000   \n",
       "\n",
       "  deferredLongTermLiabilities otherCurrentLiabilities  ...  \\\n",
       "0                        None             17710000000  ...   \n",
       "\n",
       "  otherNonCurrentLiabilities totalNonCurrentLiabilities negativeGoodwill  \\\n",
       "0                20348000000                41802000000             None   \n",
       "\n",
       "  warrants preferredStockRedeemable capitalSurplus  \\\n",
       "0     None                     None     3945000000   \n",
       "\n",
       "  liabilitiesAndShareholderEquity cashAndShortTermInvestments  \\\n",
       "0                     59995000000                  3984000000   \n",
       "\n",
       "  accumulatedDepreciation commonStockSharesOutstanding  \n",
       "0            -18659000000                    428202506  \n",
       "\n",
       "[1 rows x 51 columns]"
      ]
     },
     "execution_count": 5,
     "metadata": {},
     "output_type": "execute_result"
    }
   ],
   "source": [
    "AAL_df= content.json()\n",
    "AAL_df =pd.DataFrame.from_dict(AAL_df[\"quarterlyReports\"][2], orient= \"index\").T\n",
    "AAL_df"
   ]
  },
  {
   "cell_type": "code",
   "execution_count": 9,
   "metadata": {},
   "outputs": [
    {
     "data": {
      "text/plain": [
       "dict_keys(['symbol', 'annualReports', 'quarterlyReports'])"
      ]
     },
     "execution_count": 9,
     "metadata": {},
     "output_type": "execute_result"
    }
   ],
   "source": [
    "content = requests.get(url= \"https://www.alphavantage.co/query?\",  params = {\"function\":\"BALANCE_SHEET\",\"symbol\":\"UAL\", \"apikey\":key})\n",
    "\n",
    "content.json().keys()"
   ]
  },
  {
   "cell_type": "code",
   "execution_count": 11,
   "metadata": {},
   "outputs": [
    {
     "data": {
      "text/html": [
       "<div>\n",
       "<style scoped>\n",
       "    .dataframe tbody tr th:only-of-type {\n",
       "        vertical-align: middle;\n",
       "    }\n",
       "\n",
       "    .dataframe tbody tr th {\n",
       "        vertical-align: top;\n",
       "    }\n",
       "\n",
       "    .dataframe thead th {\n",
       "        text-align: right;\n",
       "    }\n",
       "</style>\n",
       "<table border=\"1\" class=\"dataframe\">\n",
       "  <thead>\n",
       "    <tr style=\"text-align: right;\">\n",
       "      <th></th>\n",
       "      <th>fiscalDateEnding</th>\n",
       "      <th>reportedCurrency</th>\n",
       "      <th>totalAssets</th>\n",
       "      <th>intangibleAssets</th>\n",
       "      <th>earningAssets</th>\n",
       "      <th>otherCurrentAssets</th>\n",
       "      <th>totalLiabilities</th>\n",
       "      <th>totalShareholderEquity</th>\n",
       "      <th>deferredLongTermLiabilities</th>\n",
       "      <th>otherCurrentLiabilities</th>\n",
       "      <th>...</th>\n",
       "      <th>otherNonCurrentLiabilities</th>\n",
       "      <th>totalNonCurrentLiabilities</th>\n",
       "      <th>negativeGoodwill</th>\n",
       "      <th>warrants</th>\n",
       "      <th>preferredStockRedeemable</th>\n",
       "      <th>capitalSurplus</th>\n",
       "      <th>liabilitiesAndShareholderEquity</th>\n",
       "      <th>cashAndShortTermInvestments</th>\n",
       "      <th>accumulatedDepreciation</th>\n",
       "      <th>commonStockSharesOutstanding</th>\n",
       "    </tr>\n",
       "  </thead>\n",
       "  <tbody>\n",
       "    <tr>\n",
       "      <th>0</th>\n",
       "      <td>2019-12-31</td>\n",
       "      <td>USD</td>\n",
       "      <td>52611000000</td>\n",
       "      <td>2463000000</td>\n",
       "      <td>None</td>\n",
       "      <td>814000000</td>\n",
       "      <td>33078000000</td>\n",
       "      <td>11531000000</td>\n",
       "      <td>1736000000</td>\n",
       "      <td>8557000000</td>\n",
       "      <td>...</td>\n",
       "      <td>3259000000</td>\n",
       "      <td>18140000000</td>\n",
       "      <td>None</td>\n",
       "      <td>None</td>\n",
       "      <td>None</td>\n",
       "      <td>6129000000</td>\n",
       "      <td>52611000000</td>\n",
       "      <td>4944000000</td>\n",
       "      <td>-14537000000</td>\n",
       "      <td>251216381</td>\n",
       "    </tr>\n",
       "  </tbody>\n",
       "</table>\n",
       "<p>1 rows × 51 columns</p>\n",
       "</div>"
      ],
      "text/plain": [
       "  fiscalDateEnding reportedCurrency  totalAssets intangibleAssets  \\\n",
       "0       2019-12-31              USD  52611000000       2463000000   \n",
       "\n",
       "  earningAssets otherCurrentAssets totalLiabilities totalShareholderEquity  \\\n",
       "0          None          814000000      33078000000            11531000000   \n",
       "\n",
       "  deferredLongTermLiabilities otherCurrentLiabilities  ...  \\\n",
       "0                  1736000000              8557000000  ...   \n",
       "\n",
       "  otherNonCurrentLiabilities totalNonCurrentLiabilities negativeGoodwill  \\\n",
       "0                 3259000000                18140000000             None   \n",
       "\n",
       "  warrants preferredStockRedeemable capitalSurplus  \\\n",
       "0     None                     None     6129000000   \n",
       "\n",
       "  liabilitiesAndShareholderEquity cashAndShortTermInvestments  \\\n",
       "0                     52611000000                  4944000000   \n",
       "\n",
       "  accumulatedDepreciation commonStockSharesOutstanding  \n",
       "0            -14537000000                    251216381  \n",
       "\n",
       "[1 rows x 51 columns]"
      ]
     },
     "execution_count": 11,
     "metadata": {},
     "output_type": "execute_result"
    }
   ],
   "source": [
    "UAL_df= content.json()\n",
    "UAL_df =pd.DataFrame.from_dict(UAL_df[\"quarterlyReports\"][2], orient= \"index\").T\n",
    "UAL_df"
   ]
  },
  {
   "cell_type": "code",
   "execution_count": null,
   "metadata": {},
   "outputs": [],
   "source": [
    "content.content\n"
   ]
  },
  {
   "cell_type": "code",
   "execution_count": 21,
   "metadata": {},
   "outputs": [
    {
     "data": {
      "text/plain": [
       "dict_keys(['Error Message'])"
      ]
     },
     "execution_count": 21,
     "metadata": {},
     "output_type": "execute_result"
    }
   ],
   "source": [
    "content.json().keys()"
   ]
  },
  {
   "cell_type": "code",
   "execution_count": 12,
   "metadata": {},
   "outputs": [],
   "source": [
    "content = requests.get(url= \"https://www.alphavantage.co/query?\",  params = {\"function\":\"BALANCE_SHEET\",\"symbol\":\"LUV\", \"apikey\":key})"
   ]
  },
  {
   "cell_type": "code",
   "execution_count": 13,
   "metadata": {},
   "outputs": [
    {
     "data": {
      "text/html": [
       "<div>\n",
       "<style scoped>\n",
       "    .dataframe tbody tr th:only-of-type {\n",
       "        vertical-align: middle;\n",
       "    }\n",
       "\n",
       "    .dataframe tbody tr th {\n",
       "        vertical-align: top;\n",
       "    }\n",
       "\n",
       "    .dataframe thead th {\n",
       "        text-align: right;\n",
       "    }\n",
       "</style>\n",
       "<table border=\"1\" class=\"dataframe\">\n",
       "  <thead>\n",
       "    <tr style=\"text-align: right;\">\n",
       "      <th></th>\n",
       "      <th>fiscalDateEnding</th>\n",
       "      <th>reportedCurrency</th>\n",
       "      <th>totalAssets</th>\n",
       "      <th>intangibleAssets</th>\n",
       "      <th>earningAssets</th>\n",
       "      <th>otherCurrentAssets</th>\n",
       "      <th>totalLiabilities</th>\n",
       "      <th>totalShareholderEquity</th>\n",
       "      <th>deferredLongTermLiabilities</th>\n",
       "      <th>otherCurrentLiabilities</th>\n",
       "      <th>...</th>\n",
       "      <th>otherNonCurrentLiabilities</th>\n",
       "      <th>totalNonCurrentLiabilities</th>\n",
       "      <th>negativeGoodwill</th>\n",
       "      <th>warrants</th>\n",
       "      <th>preferredStockRedeemable</th>\n",
       "      <th>capitalSurplus</th>\n",
       "      <th>liabilitiesAndShareholderEquity</th>\n",
       "      <th>cashAndShortTermInvestments</th>\n",
       "      <th>accumulatedDepreciation</th>\n",
       "      <th>commonStockSharesOutstanding</th>\n",
       "    </tr>\n",
       "  </thead>\n",
       "  <tbody>\n",
       "    <tr>\n",
       "      <th>0</th>\n",
       "      <td>2019-12-31</td>\n",
       "      <td>USD</td>\n",
       "      <td>25895000000</td>\n",
       "      <td>296000000</td>\n",
       "      <td>None</td>\n",
       "      <td>287000000</td>\n",
       "      <td>15085000000</td>\n",
       "      <td>9832000000</td>\n",
       "      <td>3417000000</td>\n",
       "      <td>4810000000</td>\n",
       "      <td>...</td>\n",
       "      <td>870000000</td>\n",
       "      <td>6133000000</td>\n",
       "      <td>None</td>\n",
       "      <td>None</td>\n",
       "      <td>None</td>\n",
       "      <td>1581000000</td>\n",
       "      <td>25895000000</td>\n",
       "      <td>4072000000</td>\n",
       "      <td>-10688000000</td>\n",
       "      <td>539000000</td>\n",
       "    </tr>\n",
       "  </tbody>\n",
       "</table>\n",
       "<p>1 rows × 51 columns</p>\n",
       "</div>"
      ],
      "text/plain": [
       "  fiscalDateEnding reportedCurrency  totalAssets intangibleAssets  \\\n",
       "0       2019-12-31              USD  25895000000        296000000   \n",
       "\n",
       "  earningAssets otherCurrentAssets totalLiabilities totalShareholderEquity  \\\n",
       "0          None          287000000      15085000000             9832000000   \n",
       "\n",
       "  deferredLongTermLiabilities otherCurrentLiabilities  ...  \\\n",
       "0                  3417000000              4810000000  ...   \n",
       "\n",
       "  otherNonCurrentLiabilities totalNonCurrentLiabilities negativeGoodwill  \\\n",
       "0                  870000000                 6133000000             None   \n",
       "\n",
       "  warrants preferredStockRedeemable capitalSurplus  \\\n",
       "0     None                     None     1581000000   \n",
       "\n",
       "  liabilitiesAndShareholderEquity cashAndShortTermInvestments  \\\n",
       "0                     25895000000                  4072000000   \n",
       "\n",
       "  accumulatedDepreciation commonStockSharesOutstanding  \n",
       "0            -10688000000                    539000000  \n",
       "\n",
       "[1 rows x 51 columns]"
      ]
     },
     "execution_count": 13,
     "metadata": {},
     "output_type": "execute_result"
    }
   ],
   "source": [
    "LUV_df= content.json()\n",
    "LUV_df =pd.DataFrame.from_dict(LUV_df[\"quarterlyReports\"][2], orient= \"index\").T\n",
    "LUV_df"
   ]
  },
  {
   "cell_type": "code",
   "execution_count": 15,
   "metadata": {},
   "outputs": [],
   "source": [
    "content = requests.get(url= \"https://www.alphavantage.co/query?\",  params = {\"function\":\"BALANCE_SHEET\",\"symbol\":\"DAL\", \"apikey\":key})"
   ]
  },
  {
   "cell_type": "code",
   "execution_count": 16,
   "metadata": {},
   "outputs": [
    {
     "data": {
      "text/html": [
       "<div>\n",
       "<style scoped>\n",
       "    .dataframe tbody tr th:only-of-type {\n",
       "        vertical-align: middle;\n",
       "    }\n",
       "\n",
       "    .dataframe tbody tr th {\n",
       "        vertical-align: top;\n",
       "    }\n",
       "\n",
       "    .dataframe thead th {\n",
       "        text-align: right;\n",
       "    }\n",
       "</style>\n",
       "<table border=\"1\" class=\"dataframe\">\n",
       "  <thead>\n",
       "    <tr style=\"text-align: right;\">\n",
       "      <th></th>\n",
       "      <th>fiscalDateEnding</th>\n",
       "      <th>reportedCurrency</th>\n",
       "      <th>totalAssets</th>\n",
       "      <th>intangibleAssets</th>\n",
       "      <th>earningAssets</th>\n",
       "      <th>otherCurrentAssets</th>\n",
       "      <th>totalLiabilities</th>\n",
       "      <th>totalShareholderEquity</th>\n",
       "      <th>deferredLongTermLiabilities</th>\n",
       "      <th>otherCurrentLiabilities</th>\n",
       "      <th>...</th>\n",
       "      <th>otherNonCurrentLiabilities</th>\n",
       "      <th>totalNonCurrentLiabilities</th>\n",
       "      <th>negativeGoodwill</th>\n",
       "      <th>warrants</th>\n",
       "      <th>preferredStockRedeemable</th>\n",
       "      <th>capitalSurplus</th>\n",
       "      <th>liabilitiesAndShareholderEquity</th>\n",
       "      <th>cashAndShortTermInvestments</th>\n",
       "      <th>accumulatedDepreciation</th>\n",
       "      <th>commonStockSharesOutstanding</th>\n",
       "    </tr>\n",
       "  </thead>\n",
       "  <tbody>\n",
       "    <tr>\n",
       "      <th>0</th>\n",
       "      <td>2020-03-31</td>\n",
       "      <td>USD</td>\n",
       "      <td>68738000000</td>\n",
       "      <td>6019000000</td>\n",
       "      <td>None</td>\n",
       "      <td>1054000000</td>\n",
       "      <td>54429000000</td>\n",
       "      <td>14309000000</td>\n",
       "      <td>1502000000</td>\n",
       "      <td>11802000000</td>\n",
       "      <td>...</td>\n",
       "      <td>20873000000</td>\n",
       "      <td>35037000000</td>\n",
       "      <td>None</td>\n",
       "      <td>None</td>\n",
       "      <td>None</td>\n",
       "      <td>11054000000</td>\n",
       "      <td>68738000000</td>\n",
       "      <td>5967000000</td>\n",
       "      <td>None</td>\n",
       "      <td>637000000</td>\n",
       "    </tr>\n",
       "  </tbody>\n",
       "</table>\n",
       "<p>1 rows × 51 columns</p>\n",
       "</div>"
      ],
      "text/plain": [
       "  fiscalDateEnding reportedCurrency  totalAssets intangibleAssets  \\\n",
       "0       2020-03-31              USD  68738000000       6019000000   \n",
       "\n",
       "  earningAssets otherCurrentAssets totalLiabilities totalShareholderEquity  \\\n",
       "0          None         1054000000      54429000000            14309000000   \n",
       "\n",
       "  deferredLongTermLiabilities otherCurrentLiabilities  ...  \\\n",
       "0                  1502000000             11802000000  ...   \n",
       "\n",
       "  otherNonCurrentLiabilities totalNonCurrentLiabilities negativeGoodwill  \\\n",
       "0                20873000000                35037000000             None   \n",
       "\n",
       "  warrants preferredStockRedeemable capitalSurplus  \\\n",
       "0     None                     None    11054000000   \n",
       "\n",
       "  liabilitiesAndShareholderEquity cashAndShortTermInvestments  \\\n",
       "0                     68738000000                  5967000000   \n",
       "\n",
       "  accumulatedDepreciation commonStockSharesOutstanding  \n",
       "0                    None                    637000000  \n",
       "\n",
       "[1 rows x 51 columns]"
      ]
     },
     "execution_count": 16,
     "metadata": {},
     "output_type": "execute_result"
    }
   ],
   "source": [
    "DAL_df= content.json()\n",
    "DAL_df =pd.DataFrame.from_dict(DAL_df[\"quarterlyReports\"][2], orient= \"index\").T\n",
    "DAL_df"
   ]
  },
  {
   "cell_type": "code",
   "execution_count": 17,
   "metadata": {},
   "outputs": [],
   "source": [
    "content = requests.get(url= \"https://www.alphavantage.co/query?\",  params = {\"function\":\"BALANCE_SHEET\",\"symbol\":\"ALK\", \"apikey\":key})"
   ]
  },
  {
   "cell_type": "code",
   "execution_count": 18,
   "metadata": {},
   "outputs": [
    {
     "data": {
      "text/html": [
       "<div>\n",
       "<style scoped>\n",
       "    .dataframe tbody tr th:only-of-type {\n",
       "        vertical-align: middle;\n",
       "    }\n",
       "\n",
       "    .dataframe tbody tr th {\n",
       "        vertical-align: top;\n",
       "    }\n",
       "\n",
       "    .dataframe thead th {\n",
       "        text-align: right;\n",
       "    }\n",
       "</style>\n",
       "<table border=\"1\" class=\"dataframe\">\n",
       "  <thead>\n",
       "    <tr style=\"text-align: right;\">\n",
       "      <th></th>\n",
       "      <th>fiscalDateEnding</th>\n",
       "      <th>reportedCurrency</th>\n",
       "      <th>totalAssets</th>\n",
       "      <th>intangibleAssets</th>\n",
       "      <th>earningAssets</th>\n",
       "      <th>otherCurrentAssets</th>\n",
       "      <th>totalLiabilities</th>\n",
       "      <th>totalShareholderEquity</th>\n",
       "      <th>deferredLongTermLiabilities</th>\n",
       "      <th>otherCurrentLiabilities</th>\n",
       "      <th>...</th>\n",
       "      <th>otherNonCurrentLiabilities</th>\n",
       "      <th>totalNonCurrentLiabilities</th>\n",
       "      <th>negativeGoodwill</th>\n",
       "      <th>warrants</th>\n",
       "      <th>preferredStockRedeemable</th>\n",
       "      <th>capitalSurplus</th>\n",
       "      <th>liabilitiesAndShareholderEquity</th>\n",
       "      <th>cashAndShortTermInvestments</th>\n",
       "      <th>accumulatedDepreciation</th>\n",
       "      <th>commonStockSharesOutstanding</th>\n",
       "    </tr>\n",
       "  </thead>\n",
       "  <tbody>\n",
       "    <tr>\n",
       "      <th>0</th>\n",
       "      <td>2019-12-31</td>\n",
       "      <td>USD</td>\n",
       "      <td>12993000000</td>\n",
       "      <td>122000000</td>\n",
       "      <td>None</td>\n",
       "      <td>516000000</td>\n",
       "      <td>8662000000</td>\n",
       "      <td>4331000000</td>\n",
       "      <td>None</td>\n",
       "      <td>1797000000</td>\n",
       "      <td>...</td>\n",
       "      <td>232000000</td>\n",
       "      <td>5461000000</td>\n",
       "      <td>None</td>\n",
       "      <td>None</td>\n",
       "      <td>None</td>\n",
       "      <td>305000000</td>\n",
       "      <td>None</td>\n",
       "      <td>1521000000</td>\n",
       "      <td>None</td>\n",
       "      <td>124000000</td>\n",
       "    </tr>\n",
       "  </tbody>\n",
       "</table>\n",
       "<p>1 rows × 51 columns</p>\n",
       "</div>"
      ],
      "text/plain": [
       "  fiscalDateEnding reportedCurrency  totalAssets intangibleAssets  \\\n",
       "0       2019-12-31              USD  12993000000        122000000   \n",
       "\n",
       "  earningAssets otherCurrentAssets totalLiabilities totalShareholderEquity  \\\n",
       "0          None          516000000       8662000000             4331000000   \n",
       "\n",
       "  deferredLongTermLiabilities otherCurrentLiabilities  ...  \\\n",
       "0                        None              1797000000  ...   \n",
       "\n",
       "  otherNonCurrentLiabilities totalNonCurrentLiabilities negativeGoodwill  \\\n",
       "0                  232000000                 5461000000             None   \n",
       "\n",
       "  warrants preferredStockRedeemable capitalSurplus  \\\n",
       "0     None                     None      305000000   \n",
       "\n",
       "  liabilitiesAndShareholderEquity cashAndShortTermInvestments  \\\n",
       "0                            None                  1521000000   \n",
       "\n",
       "  accumulatedDepreciation commonStockSharesOutstanding  \n",
       "0                    None                    124000000  \n",
       "\n",
       "[1 rows x 51 columns]"
      ]
     },
     "execution_count": 18,
     "metadata": {},
     "output_type": "execute_result"
    }
   ],
   "source": [
    "ALK_df= content.json()\n",
    "ALK_df =pd.DataFrame.from_dict(ALK_df[\"quarterlyReports\"][2], orient= \"index\").T\n",
    "ALK_df"
   ]
  },
  {
   "cell_type": "code",
   "execution_count": null,
   "metadata": {},
   "outputs": [],
   "source": []
  }
 ],
 "metadata": {
  "kernelspec": {
   "display_name": "Python [conda env:alpacaenv] *",
   "language": "python",
   "name": "conda-env-alpacaenv-py"
  },
  "language_info": {
   "codemirror_mode": {
    "name": "ipython",
    "version": 3
   },
   "file_extension": ".py",
   "mimetype": "text/x-python",
   "name": "python",
   "nbconvert_exporter": "python",
   "pygments_lexer": "ipython3",
   "version": "3.7.7"
  }
 },
 "nbformat": 4,
 "nbformat_minor": 4
}
