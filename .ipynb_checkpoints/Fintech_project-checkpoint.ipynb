{
 "cells": [
  {
   "cell_type": "code",
   "execution_count": 22,
   "metadata": {},
   "outputs": [],
   "source": [
    "from dotenv import load_dotenv\n",
    "import os\n",
    "import pandas as pd\n",
    "import alpaca_trade_api as tradeapi\n",
    "import numpy as np\n",
    "import hvplot.pandas\n",
    "import requests\n",
    "load_dotenv(\"alphavantage_api_key.env\")\n",
    "import pandas as pd\n",
    "import time"
   ]
  },
  {
   "cell_type": "code",
   "execution_count": 23,
   "metadata": {},
   "outputs": [
    {
     "name": "stdout",
     "output_type": "stream",
     "text": [
      "<class 'str'>\n"
     ]
    }
   ],
   "source": [
    "key = os.getenv(\"alphavantage_api_key\")\n",
    "print (type(key))"
   ]
  },
  {
   "cell_type": "code",
   "execution_count": 24,
   "metadata": {},
   "outputs": [
    {
     "data": {
      "text/plain": [
       "'C:\\\\Users\\\\mshel\\\\Desktop\\\\Fintech_Project_1'"
      ]
     },
     "execution_count": 24,
     "metadata": {},
     "output_type": "execute_result"
    }
   ],
   "source": [
    "os.getcwd()"
   ]
  },
  {
   "cell_type": "code",
   "execution_count": 25,
   "metadata": {},
   "outputs": [],
   "source": [
    "#pull data and create CSV from Json for Tech companies\n",
    "\n",
    "symbol_list = [\"AAL\", \"UAL\", \"LUV\", \"DAL\", \"AL\"]\n",
    "for symbol in symbol_list:\n",
    "    content = requests.get(url= \"https://www.alphavantage.co/query?\",  params = {\"function\":\"BALANCE_SHEET\", \"symbol\": symbol, \"apikey\": key})\n",
    "    data = content.json()\n",
    "    data_test=data['quarterlyReports']\n",
    "    df = pd.DataFrame.from_dict(data_test)\n",
    "    df.set_index('fiscalDateEnding', inplace=True)\n",
    "    file_name = f'Data/Airlines/{symbol}_quarterly_reports.csv'\n",
    "    df.to_csv(file_name)"
   ]
  },
  {
   "cell_type": "code",
   "execution_count": 26,
   "metadata": {},
   "outputs": [],
   "source": [
    "# loads airline dataframes\n",
    "aal = pd.read_csv('Data/Airlines/AAL_quarterly_reports.csv', index_col='fiscalDateEnding', parse_dates=True, infer_datetime_format=True)\n",
    "aal_tmp = pd.read_csv('Data/Airlines/AAL_quarterly_reports.csv', parse_dates=True, infer_datetime_format=True)\n",
    "al = pd.read_csv('Data/Airlines/AL_quarterly_reports.csv', index_col='fiscalDateEnding', parse_dates=True, infer_datetime_format=True)\n",
    "dal = pd.read_csv('Data/Airlines/DAL_quarterly_reports.csv', index_col='fiscalDateEnding', parse_dates=True, infer_datetime_format=True)\n",
    "luv = pd.read_csv('Data/Airlines/LUV_quarterly_reports.csv', index_col='fiscalDateEnding', parse_dates=True, infer_datetime_format=True)\n",
    "aal = pd.read_csv('Data/Airlines/UAL_quarterly_reports.csv', index_col='fiscalDateEnding', parse_dates=True, infer_datetime_format=True)"
   ]
  },
  {
   "cell_type": "code",
   "execution_count": 27,
   "metadata": {},
   "outputs": [
    {
     "data": {
      "application/vnd.holoviews_exec.v0+json": "",
      "text/html": [
       "<div id='2389'>\n",
       "\n",
       "\n",
       "\n",
       "\n",
       "\n",
       "  <div class=\"bk-root\" id=\"86be68db-e9e1-4659-bc19-b2729429518d\" data-root-id=\"2389\"></div>\n",
       "</div>\n",
       "<script type=\"application/javascript\">(function(root) {\n",
       "  function embed_document(root) {\n",
       "  var docs_json = {\"82a17018-ffbb-42e4-8a49-1cd564c0eceb\":{\"roots\":{\"references\":[{\"attributes\":{\"data_source\":{\"id\":\"2448\"},\"glyph\":{\"id\":\"2451\"},\"hover_glyph\":null,\"muted_glyph\":{\"id\":\"2453\"},\"nonselection_glyph\":{\"id\":\"2452\"},\"selection_glyph\":null,\"view\":{\"id\":\"2455\"}},\"id\":\"2454\",\"type\":\"GlyphRenderer\"},{\"attributes\":{},\"id\":\"2417\",\"type\":\"ResetTool\"},{\"attributes\":{},\"id\":\"2431\",\"type\":\"Selection\"},{\"attributes\":{\"callback\":null,\"renderers\":[{\"id\":\"2436\"},{\"id\":\"2454\"},{\"id\":\"2473\"},{\"id\":\"2494\"}],\"tags\":[\"hv_created\"],\"tooltips\":[[\"Variable\",\"@{Variable}\"],[\"date\",\"@{date}\"],[\"value\",\"@{value}\"]]},\"id\":\"2393\",\"type\":\"HoverTool\"},{\"attributes\":{},\"id\":\"2449\",\"type\":\"Selection\"},{\"attributes\":{\"data_source\":{\"id\":\"2430\"},\"glyph\":{\"id\":\"2433\"},\"hover_glyph\":null,\"muted_glyph\":{\"id\":\"2435\"},\"nonselection_glyph\":{\"id\":\"2434\"},\"selection_glyph\":null,\"view\":{\"id\":\"2437\"}},\"id\":\"2436\",\"type\":\"GlyphRenderer\"},{\"attributes\":{\"line_alpha\":0.2,\"line_color\":\"#ff7e0e\",\"line_width\":2,\"x\":{\"field\":\"date\"},\"y\":{\"field\":\"value\"}},\"id\":\"2453\",\"type\":\"Line\"},{\"attributes\":{\"label\":{\"value\":\"luv\"},\"renderers\":[{\"id\":\"2494\"}]},\"id\":\"2510\",\"type\":\"LegendItem\"},{\"attributes\":{},\"id\":\"2407\",\"type\":\"CategoricalTicker\"},{\"attributes\":{\"line_alpha\":0.1,\"line_color\":\"#ff7e0e\",\"line_width\":2,\"x\":{\"field\":\"date\"},\"y\":{\"field\":\"value\"}},\"id\":\"2452\",\"type\":\"Line\"},{\"attributes\":{\"margin\":[5,5,5,5],\"name\":\"HSpacer05017\",\"sizing_mode\":\"stretch_width\"},\"id\":\"2390\",\"type\":\"Spacer\"},{\"attributes\":{\"line_alpha\":0.2,\"line_color\":\"#1f77b3\",\"line_width\":2,\"x\":{\"field\":\"date\"},\"y\":{\"field\":\"value\"}},\"id\":\"2435\",\"type\":\"Line\"},{\"attributes\":{\"bottom_units\":\"screen\",\"fill_alpha\":0.5,\"fill_color\":\"lightgrey\",\"left_units\":\"screen\",\"level\":\"overlay\",\"line_alpha\":1.0,\"line_color\":\"black\",\"line_dash\":[4,4],\"line_width\":2,\"right_units\":\"screen\",\"top_units\":\"screen\"},\"id\":\"2418\",\"type\":\"BoxAnnotation\"},{\"attributes\":{},\"id\":\"2410\",\"type\":\"BasicTicker\"},{\"attributes\":{},\"id\":\"2464\",\"type\":\"UnionRenderers\"},{\"attributes\":{\"data\":{\"Variable\":[\"luv\",\"luv\",\"luv\",\"luv\",\"luv\",\"luv\",\"luv\",\"luv\",\"luv\",\"luv\",\"luv\",\"luv\",\"luv\",\"luv\",\"luv\",\"luv\",\"luv\",\"luv\",\"luv\",\"luv\",\"luv\"],\"date\":[\"2020-06-30\",\"2020-03-31\",\"2019-12-31\",\"2019-09-30\",\"2019-06-30\",\"2019-03-31\",\"2018-12-31\",\"2018-09-30\",\"2018-06-30\",\"2018-03-31\",\"2017-12-31\",\"2017-09-30\",\"2017-06-30\",\"2017-03-31\",\"2016-12-31\",\"2016-09-30\",\"2016-06-30\",\"2016-03-31\",\"2015-12-31\",\"2015-09-30\",\"2015-06-30\"],\"value\":[35605000000,35596000000,26885000000,25895000000,26467000000,26374000000,26459000000,26243000000,26882000000,26465000000,25503000000,25110000000,24249000000,23921000000,23763000000,23286000000,23045000000,22447000000,22241000000,21312000000,21159000000]},\"selected\":{\"id\":\"2489\"},\"selection_policy\":{\"id\":\"2508\"}},\"id\":\"2488\",\"type\":\"ColumnDataSource\"},{\"attributes\":{\"label\":{\"value\":\"al\"},\"renderers\":[{\"id\":\"2454\"}]},\"id\":\"2466\",\"type\":\"LegendItem\"},{\"attributes\":{\"axis_label\":\"\",\"bounds\":\"auto\",\"formatter\":{\"id\":\"2428\"},\"major_label_orientation\":\"horizontal\",\"ticker\":{\"id\":\"2410\"}},\"id\":\"2409\",\"type\":\"LinearAxis\"},{\"attributes\":{\"line_alpha\":0.1,\"line_color\":\"#1f77b3\",\"line_width\":2,\"x\":{\"field\":\"date\"},\"y\":{\"field\":\"value\"}},\"id\":\"2434\",\"type\":\"Line\"},{\"attributes\":{\"data_source\":{\"id\":\"2467\"},\"glyph\":{\"id\":\"2470\"},\"hover_glyph\":null,\"muted_glyph\":{\"id\":\"2472\"},\"nonselection_glyph\":{\"id\":\"2471\"},\"selection_glyph\":null,\"view\":{\"id\":\"2474\"}},\"id\":\"2473\",\"type\":\"GlyphRenderer\"},{\"attributes\":{\"axis_label\":\"date\",\"bounds\":\"auto\",\"formatter\":{\"id\":\"2426\"},\"major_label_orientation\":\"horizontal\",\"ticker\":{\"id\":\"2407\"}},\"id\":\"2406\",\"type\":\"CategoricalAxis\"},{\"attributes\":{\"line_color\":\"#ff7e0e\",\"line_width\":2,\"x\":{\"field\":\"date\"},\"y\":{\"field\":\"value\"}},\"id\":\"2451\",\"type\":\"Line\"},{\"attributes\":{\"source\":{\"id\":\"2448\"}},\"id\":\"2455\",\"type\":\"CDSView\"},{\"attributes\":{\"data\":{\"Variable\":[\"dal\",\"dal\",\"dal\",\"dal\",\"dal\",\"dal\",\"dal\",\"dal\",\"dal\",\"dal\",\"dal\",\"dal\",\"dal\",\"dal\",\"dal\",\"dal\",\"dal\",\"dal\",\"dal\",\"dal\",\"dal\"],\"date\":[\"2020-06-30\",\"2020-03-31\",\"2019-12-31\",\"2019-09-30\",\"2019-06-30\",\"2019-03-31\",\"2018-12-31\",\"2018-09-30\",\"2018-06-30\",\"2018-03-31\",\"2017-12-31\",\"2017-09-30\",\"2017-06-30\",\"2017-03-31\",\"2016-12-31\",\"2016-09-30\",\"2016-06-30\",\"2016-03-31\",\"2015-12-31\",\"2015-09-30\",\"2015-06-30\"],\"value\":[79076000000,72261000000,68738000000,64532000000,63219000000,62518000000,61841000000,60266000000,55003000000,55796000000,54078000000,53292000000,51928000000,51815000000,51459000000,51261000000,50948000000,51634000000,53342000000,53134000000,53646000000]},\"selected\":{\"id\":\"2468\"},\"selection_policy\":{\"id\":\"2485\"}},\"id\":\"2467\",\"type\":\"ColumnDataSource\"},{\"attributes\":{\"line_color\":\"#d62628\",\"line_width\":2,\"x\":{\"field\":\"date\"},\"y\":{\"field\":\"value\"}},\"id\":\"2491\",\"type\":\"Line\"},{\"attributes\":{\"end\":85816979400.0,\"reset_end\":85816979400.0,\"reset_start\":4925226600.0,\"start\":4925226600.0,\"tags\":[[[\"value\",\"value\",null]]]},\"id\":\"2392\",\"type\":\"Range1d\"},{\"attributes\":{\"line_color\":\"#1f77b3\",\"line_width\":2,\"x\":{\"field\":\"date\"},\"y\":{\"field\":\"value\"}},\"id\":\"2433\",\"type\":\"Line\"},{\"attributes\":{},\"id\":\"2426\",\"type\":\"CategoricalTickFormatter\"},{\"attributes\":{\"align\":null,\"below\":[{\"id\":\"2406\"}],\"center\":[{\"id\":\"2408\"},{\"id\":\"2412\"}],\"left\":[{\"id\":\"2409\"}],\"margin\":null,\"min_border_bottom\":10,\"min_border_left\":10,\"min_border_right\":10,\"min_border_top\":10,\"plot_height\":300,\"plot_width\":700,\"renderers\":[{\"id\":\"2436\"},{\"id\":\"2454\"},{\"id\":\"2473\"},{\"id\":\"2494\"}],\"right\":[{\"id\":\"2446\"}],\"sizing_mode\":\"fixed\",\"title\":{\"id\":\"2398\"},\"toolbar\":{\"id\":\"2419\"},\"x_range\":{\"id\":\"2391\"},\"x_scale\":{\"id\":\"2402\"},\"y_range\":{\"id\":\"2392\"},\"y_scale\":{\"id\":\"2404\"}},\"id\":\"2397\",\"subtype\":\"Figure\",\"type\":\"Plot\"},{\"attributes\":{},\"id\":\"2489\",\"type\":\"Selection\"},{\"attributes\":{},\"id\":\"2404\",\"type\":\"LinearScale\"},{\"attributes\":{},\"id\":\"2468\",\"type\":\"Selection\"},{\"attributes\":{},\"id\":\"2485\",\"type\":\"UnionRenderers\"},{\"attributes\":{},\"id\":\"2508\",\"type\":\"UnionRenderers\"},{\"attributes\":{\"data\":{\"Variable\":[\"al\",\"al\",\"al\",\"al\",\"al\",\"al\",\"al\",\"al\",\"al\",\"al\",\"al\",\"al\",\"al\",\"al\",\"al\",\"al\",\"al\",\"al\",\"al\",\"al\",\"al\"],\"date\":[\"2020-06-30\",\"2020-03-31\",\"2019-12-31\",\"2019-09-30\",\"2019-06-30\",\"2019-03-31\",\"2018-12-31\",\"2018-09-30\",\"2018-06-30\",\"2018-03-31\",\"2017-12-31\",\"2017-09-30\",\"2017-06-30\",\"2017-03-31\",\"2016-12-31\",\"2016-09-30\",\"2016-06-30\",\"2016-03-31\",\"2015-12-31\",\"2015-09-30\",\"2015-06-30\"],\"value\":[22993720000,22682345000,21709155000,21609701000,20484348000,19178935000,18481808000,17567303000,17255447000,15944846000,15614164000,14901647000,14861397000,14477040000,13975616000,13680907000,13340170000,12783410000,12355098000,11911694000,11666206000]},\"selected\":{\"id\":\"2449\"},\"selection_policy\":{\"id\":\"2464\"}},\"id\":\"2448\",\"type\":\"ColumnDataSource\"},{\"attributes\":{\"line_alpha\":0.1,\"line_color\":\"#2ba02b\",\"line_width\":2,\"x\":{\"field\":\"date\"},\"y\":{\"field\":\"value\"}},\"id\":\"2471\",\"type\":\"Line\"},{\"attributes\":{\"source\":{\"id\":\"2467\"}},\"id\":\"2474\",\"type\":\"CDSView\"},{\"attributes\":{\"data_source\":{\"id\":\"2488\"},\"glyph\":{\"id\":\"2491\"},\"hover_glyph\":null,\"muted_glyph\":{\"id\":\"2493\"},\"nonselection_glyph\":{\"id\":\"2492\"},\"selection_glyph\":null,\"view\":{\"id\":\"2495\"}},\"id\":\"2494\",\"type\":\"GlyphRenderer\"},{\"attributes\":{\"line_alpha\":0.2,\"line_color\":\"#2ba02b\",\"line_width\":2,\"x\":{\"field\":\"date\"},\"y\":{\"field\":\"value\"}},\"id\":\"2472\",\"type\":\"Line\"},{\"attributes\":{\"line_alpha\":0.1,\"line_color\":\"#d62628\",\"line_width\":2,\"x\":{\"field\":\"date\"},\"y\":{\"field\":\"value\"}},\"id\":\"2492\",\"type\":\"Line\"},{\"attributes\":{},\"id\":\"2444\",\"type\":\"UnionRenderers\"},{\"attributes\":{\"axis\":{\"id\":\"2409\"},\"dimension\":1,\"grid_line_color\":null,\"ticker\":null},\"id\":\"2412\",\"type\":\"Grid\"},{\"attributes\":{\"source\":{\"id\":\"2430\"}},\"id\":\"2437\",\"type\":\"CDSView\"},{\"attributes\":{\"factors\":[\"2020-06-30\",\"2020-03-31\",\"2019-12-31\",\"2019-09-30\",\"2019-06-30\",\"2019-03-31\",\"2018-12-31\",\"2018-09-30\",\"2018-06-30\",\"2018-03-31\",\"2017-12-31\",\"2017-09-30\",\"2017-06-30\",\"2017-03-31\",\"2016-12-31\",\"2016-09-30\",\"2016-06-30\",\"2016-03-31\",\"2015-12-31\",\"2015-09-30\",\"2015-06-30\"],\"tags\":[[[\"date\",\"date\",null]]]},\"id\":\"2391\",\"type\":\"FactorRange\"},{\"attributes\":{},\"id\":\"2414\",\"type\":\"PanTool\"},{\"attributes\":{\"source\":{\"id\":\"2488\"}},\"id\":\"2495\",\"type\":\"CDSView\"},{\"attributes\":{\"line_alpha\":0.2,\"line_color\":\"#d62628\",\"line_width\":2,\"x\":{\"field\":\"date\"},\"y\":{\"field\":\"value\"}},\"id\":\"2493\",\"type\":\"Line\"},{\"attributes\":{\"overlay\":{\"id\":\"2418\"}},\"id\":\"2416\",\"type\":\"BoxZoomTool\"},{\"attributes\":{\"label\":{\"value\":\"aal\"},\"renderers\":[{\"id\":\"2436\"}]},\"id\":\"2447\",\"type\":\"LegendItem\"},{\"attributes\":{\"label\":{\"value\":\"dal\"},\"renderers\":[{\"id\":\"2473\"}]},\"id\":\"2487\",\"type\":\"LegendItem\"},{\"attributes\":{},\"id\":\"2428\",\"type\":\"BasicTickFormatter\"},{\"attributes\":{\"children\":[{\"id\":\"2390\"},{\"id\":\"2397\"},{\"id\":\"2637\"}],\"margin\":[0,0,0,0],\"name\":\"Row05013\",\"tags\":[\"embedded\"]},\"id\":\"2389\",\"type\":\"Row\"},{\"attributes\":{},\"id\":\"2402\",\"type\":\"CategoricalScale\"},{\"attributes\":{\"data\":{\"Variable\":[\"aal\",\"aal\",\"aal\",\"aal\",\"aal\",\"aal\",\"aal\",\"aal\",\"aal\",\"aal\",\"aal\",\"aal\",\"aal\",\"aal\",\"aal\",\"aal\",\"aal\",\"aal\",\"aal\",\"aal\",\"aal\"],\"date\":[\"2020-06-30\",\"2020-03-31\",\"2019-12-31\",\"2019-09-30\",\"2019-06-30\",\"2019-03-31\",\"2018-12-31\",\"2018-09-30\",\"2018-06-30\",\"2018-03-31\",\"2017-12-31\",\"2017-09-30\",\"2017-06-30\",\"2017-03-31\",\"2016-12-31\",\"2016-09-30\",\"2016-06-30\",\"2016-03-31\",\"2015-12-31\",\"2015-09-30\",\"2015-06-30\"],\"value\":[54901000000,53055000000,52611000000,52199000000,52150000000,50639000000,44792000000,44837000000,44691000000,44018000000,42326000000,42565000000,42307000000,41445000000,40140000000,40327000000,40476000000,40373000000,40861000000,41869000000,39367000000]},\"selected\":{\"id\":\"2431\"},\"selection_policy\":{\"id\":\"2444\"}},\"id\":\"2430\",\"type\":\"ColumnDataSource\"},{\"attributes\":{\"line_color\":\"#2ba02b\",\"line_width\":2,\"x\":{\"field\":\"date\"},\"y\":{\"field\":\"value\"}},\"id\":\"2470\",\"type\":\"Line\"},{\"attributes\":{\"active_drag\":\"auto\",\"active_inspect\":\"auto\",\"active_multi\":null,\"active_scroll\":\"auto\",\"active_tap\":\"auto\",\"tools\":[{\"id\":\"2393\"},{\"id\":\"2413\"},{\"id\":\"2414\"},{\"id\":\"2415\"},{\"id\":\"2416\"},{\"id\":\"2417\"}]},\"id\":\"2419\",\"type\":\"Toolbar\"},{\"attributes\":{\"text\":\"\",\"text_color\":{\"value\":\"black\"},\"text_font_size\":{\"value\":\"12pt\"}},\"id\":\"2398\",\"type\":\"Title\"},{\"attributes\":{\"click_policy\":\"mute\",\"items\":[{\"id\":\"2447\"},{\"id\":\"2466\"},{\"id\":\"2487\"},{\"id\":\"2510\"}],\"location\":[0,0],\"title\":\"Variable\"},\"id\":\"2446\",\"type\":\"Legend\"},{\"attributes\":{},\"id\":\"2413\",\"type\":\"SaveTool\"},{\"attributes\":{},\"id\":\"2415\",\"type\":\"WheelZoomTool\"},{\"attributes\":{\"axis\":{\"id\":\"2406\"},\"grid_line_color\":null,\"ticker\":null},\"id\":\"2408\",\"type\":\"Grid\"},{\"attributes\":{\"margin\":[5,5,5,5],\"name\":\"HSpacer05018\",\"sizing_mode\":\"stretch_width\"},\"id\":\"2637\",\"type\":\"Spacer\"}],\"root_ids\":[\"2389\"]},\"title\":\"Bokeh Application\",\"version\":\"2.1.1\"}};\n",
       "  var render_items = [{\"docid\":\"82a17018-ffbb-42e4-8a49-1cd564c0eceb\",\"root_ids\":[\"2389\"],\"roots\":{\"2389\":\"86be68db-e9e1-4659-bc19-b2729429518d\"}}];\n",
       "  root.Bokeh.embed.embed_items_notebook(docs_json, render_items);\n",
       "  }\n",
       "if (root.Bokeh !== undefined) {\n",
       "    embed_document(root);\n",
       "  } else {\n",
       "    var attempts = 0;\n",
       "    var timer = setInterval(function(root) {\n",
       "      if (root.Bokeh !== undefined) {\n",
       "        clearInterval(timer);\n",
       "        embed_document(root);\n",
       "      } else if (document.readyState == \"complete\") {\n",
       "        attempts++;\n",
       "        if (attempts > 100) {\n",
       "          clearInterval(timer);\n",
       "          console.log(\"Bokeh: ERROR: Unable to run BokehJS code because BokehJS library is missing\");\n",
       "        }\n",
       "      }\n",
       "    }, 10, root)\n",
       "  }\n",
       "})(window);</script>"
      ],
      "text/plain": [
       ":NdOverlay   [Variable]\n",
       "   :Curve   [date]   (value)"
      ]
     },
     "execution_count": 27,
     "metadata": {
      "application/vnd.holoviews_exec.v0+json": {
       "id": "2389"
      }
     },
     "output_type": "execute_result"
    }
   ],
   "source": [
    "# probably a bad way of doing this but we wanna put them all in one dataframe to easily plot with hvplot\n",
    "data = {'date': aal_tmp['fiscalDateEnding'].array, \n",
    "        'aal': aal['totalAssets'].array, \n",
    "        'al': al['totalAssets'].array, \n",
    "        'dal': dal['totalAssets'].array,\n",
    "        'luv': luv['totalAssets'].array,\n",
    "        'aal': aal['totalAssets'].array\n",
    "       }\n",
    "airline_total_assets_dataframe = pd.DataFrame(data=data)\n",
    "airline_total_assets_dataframe.set_index('date', inplace=True)\n",
    "airline_total_assets_dataframe.hvplot.line()"
   ]
  },
  {
   "cell_type": "code",
   "execution_count": 28,
   "metadata": {},
   "outputs": [],
   "source": [
    "#create CSV from Json for Tech companies\n",
    "\n",
    "symbol_list = [\"AAPL\", \"GOOGL\", \"AMZN\", \"MSFT\", \"FB\"]\n",
    "for symbol in symbol_list:\n",
    "    content = requests.get(url= \"https://www.alphavantage.co/query?\",  params = {\"function\":\"BALANCE_SHEET\", \"symbol\": symbol, \"apikey\": key})\n",
    "    data = content.json()\n",
    "    data_test=data['quarterlyReports']\n",
    "    df = pd.DataFrame.from_dict(data_test)\n",
    "    df.set_index('fiscalDateEnding', inplace=True)\n",
    "    file_name = f'Data/Tech/{symbol}_quarterly_reports.csv'\n",
    "    df.to_csv(file_name)"
   ]
  },
  {
   "cell_type": "code",
   "execution_count": 29,
   "metadata": {},
   "outputs": [],
   "source": [
    "# loads airline dataframes\n",
    "aapl = pd.read_csv('Data/Tech/AAPL_quarterly_reports.csv', index_col='fiscalDateEnding', parse_dates=True, infer_datetime_format=True)\n",
    "aapl_tmp = pd.read_csv('Data/Tech/AAPL_quarterly_reports.csv', parse_dates=True, infer_datetime_format=True)\n",
    "amzn = pd.read_csv('Data/Tech/AMZN_quarterly_reports.csv', index_col='fiscalDateEnding', parse_dates=True, infer_datetime_format=True)\n",
    "fb = pd.read_csv('Data/Tech/FB_quarterly_reports.csv', index_col='fiscalDateEnding', parse_dates=True, infer_datetime_format=True)\n",
    "googl = pd.read_csv('Data/Tech/GOOGL_quarterly_reports.csv', index_col='fiscalDateEnding', parse_dates=True, infer_datetime_format=True)\n",
    "msft = pd.read_csv('Data/Tech/MSFT_quarterly_reports.csv', index_col='fiscalDateEnding', parse_dates=True, infer_datetime_format=True)"
   ]
  },
  {
   "cell_type": "code",
   "execution_count": 30,
   "metadata": {},
   "outputs": [
    {
     "data": {
      "application/vnd.holoviews_exec.v0+json": "",
      "text/html": [
       "<div id='2709'>\n",
       "\n",
       "\n",
       "\n",
       "\n",
       "\n",
       "  <div class=\"bk-root\" id=\"bdbefc1b-e41d-4f2c-885b-e89616054223\" data-root-id=\"2709\"></div>\n",
       "</div>\n",
       "<script type=\"application/javascript\">(function(root) {\n",
       "  function embed_document(root) {\n",
       "  var docs_json = {\"d801752e-ad07-4085-a5b6-2c8d6cc25e32\":{\"roots\":{\"references\":[{\"attributes\":{\"line_alpha\":0.1,\"line_color\":\"#2ba02b\",\"line_width\":2,\"x\":{\"field\":\"date\"},\"y\":{\"field\":\"value\"}},\"id\":\"2792\",\"type\":\"Line\"},{\"attributes\":{\"line_color\":\"#2ba02b\",\"line_width\":2,\"x\":{\"field\":\"date\"},\"y\":{\"field\":\"value\"}},\"id\":\"2791\",\"type\":\"Line\"},{\"attributes\":{\"align\":null,\"below\":[{\"id\":\"2727\"}],\"center\":[{\"id\":\"2729\"},{\"id\":\"2733\"}],\"left\":[{\"id\":\"2730\"}],\"margin\":null,\"min_border_bottom\":10,\"min_border_left\":10,\"min_border_right\":10,\"min_border_top\":10,\"plot_height\":300,\"plot_width\":700,\"renderers\":[{\"id\":\"2757\"},{\"id\":\"2775\"},{\"id\":\"2794\"},{\"id\":\"2815\"},{\"id\":\"2838\"}],\"right\":[{\"id\":\"2767\"}],\"sizing_mode\":\"fixed\",\"title\":{\"id\":\"2719\"},\"toolbar\":{\"id\":\"2740\"},\"x_range\":{\"id\":\"2711\"},\"x_scale\":{\"id\":\"2723\"},\"y_range\":{\"id\":\"2712\"},\"y_scale\":{\"id\":\"2725\"}},\"id\":\"2718\",\"subtype\":\"Figure\",\"type\":\"Plot\"},{\"attributes\":{},\"id\":\"2765\",\"type\":\"UnionRenderers\"},{\"attributes\":{\"label\":{\"value\":\"aapl\"},\"renderers\":[{\"id\":\"2757\"}]},\"id\":\"2768\",\"type\":\"LegendItem\"},{\"attributes\":{\"label\":{\"value\":\"amzn\"},\"renderers\":[{\"id\":\"2775\"}]},\"id\":\"2787\",\"type\":\"LegendItem\"},{\"attributes\":{\"factors\":[\"2020-06-30\",\"2020-03-31\",\"2019-12-31\",\"2019-09-30\",\"2019-06-30\",\"2019-03-31\",\"2018-12-31\",\"2018-09-30\",\"2018-06-30\",\"2018-03-31\",\"2017-12-31\",\"2017-09-30\",\"2017-06-30\",\"2017-03-31\",\"2016-12-31\",\"2016-09-30\",\"2016-06-30\",\"2016-03-31\",\"2015-12-31\",\"2015-09-30\",\"2015-06-30\"],\"tags\":[[[\"date\",\"date\",null]]]},\"id\":\"2711\",\"type\":\"FactorRange\"},{\"attributes\":{\"source\":{\"id\":\"2809\"}},\"id\":\"2816\",\"type\":\"CDSView\"},{\"attributes\":{\"data\":{\"Variable\":[\"googl\",\"googl\",\"googl\",\"googl\",\"googl\",\"googl\",\"googl\",\"googl\",\"googl\",\"googl\",\"googl\",\"googl\",\"googl\",\"googl\",\"googl\",\"googl\",\"googl\",\"googl\",\"googl\",\"googl\",\"googl\"],\"date\":[\"2020-06-30\",\"2020-03-31\",\"2019-12-31\",\"2019-09-30\",\"2019-06-30\",\"2019-03-31\",\"2018-12-31\",\"2018-09-30\",\"2018-06-30\",\"2018-03-31\",\"2017-12-31\",\"2017-09-30\",\"2017-06-30\",\"2017-03-31\",\"2016-12-31\",\"2016-09-30\",\"2016-06-30\",\"2016-03-31\",\"2015-12-31\",\"2015-09-30\",\"2015-06-30\"],\"value\":[35605000000,35596000000,26885000000,25895000000,26467000000,26374000000,26459000000,26243000000,26882000000,26465000000,25503000000,25110000000,24249000000,23921000000,23763000000,23286000000,23045000000,22447000000,22241000000,21312000000,21159000000]},\"selected\":{\"id\":\"2810\"},\"selection_policy\":{\"id\":\"2829\"}},\"id\":\"2809\",\"type\":\"ColumnDataSource\"},{\"attributes\":{},\"id\":\"2829\",\"type\":\"UnionRenderers\"},{\"attributes\":{\"bottom_units\":\"screen\",\"fill_alpha\":0.5,\"fill_color\":\"lightgrey\",\"left_units\":\"screen\",\"level\":\"overlay\",\"line_alpha\":1.0,\"line_color\":\"black\",\"line_dash\":[4,4],\"line_width\":2,\"right_units\":\"screen\",\"top_units\":\"screen\"},\"id\":\"2739\",\"type\":\"BoxAnnotation\"},{\"attributes\":{\"data_source\":{\"id\":\"2769\"},\"glyph\":{\"id\":\"2772\"},\"hover_glyph\":null,\"muted_glyph\":{\"id\":\"2774\"},\"nonselection_glyph\":{\"id\":\"2773\"},\"selection_glyph\":null,\"view\":{\"id\":\"2776\"}},\"id\":\"2775\",\"type\":\"GlyphRenderer\"},{\"attributes\":{},\"id\":\"2747\",\"type\":\"CategoricalTickFormatter\"},{\"attributes\":{\"line_alpha\":0.1,\"line_color\":\"#ff7e0e\",\"line_width\":2,\"x\":{\"field\":\"date\"},\"y\":{\"field\":\"value\"}},\"id\":\"2773\",\"type\":\"Line\"},{\"attributes\":{},\"id\":\"2734\",\"type\":\"SaveTool\"},{\"attributes\":{},\"id\":\"2785\",\"type\":\"UnionRenderers\"},{\"attributes\":{\"click_policy\":\"mute\",\"items\":[{\"id\":\"2768\"},{\"id\":\"2787\"},{\"id\":\"2808\"},{\"id\":\"2831\"},{\"id\":\"2856\"}],\"location\":[0,0],\"title\":\"Variable\"},\"id\":\"2767\",\"type\":\"Legend\"},{\"attributes\":{\"axis\":{\"id\":\"2730\"},\"dimension\":1,\"grid_line_color\":null,\"ticker\":null},\"id\":\"2733\",\"type\":\"Grid\"},{\"attributes\":{\"end\":85816979400.0,\"reset_end\":85816979400.0,\"reset_start\":4925226600.0,\"start\":4925226600.0,\"tags\":[[[\"value\",\"value\",null]]]},\"id\":\"2712\",\"type\":\"Range1d\"},{\"attributes\":{\"data\":{\"Variable\":[\"fb\",\"fb\",\"fb\",\"fb\",\"fb\",\"fb\",\"fb\",\"fb\",\"fb\",\"fb\",\"fb\",\"fb\",\"fb\",\"fb\",\"fb\",\"fb\",\"fb\",\"fb\",\"fb\",\"fb\",\"fb\"],\"date\":[\"2020-06-30\",\"2020-03-31\",\"2019-12-31\",\"2019-09-30\",\"2019-06-30\",\"2019-03-31\",\"2018-12-31\",\"2018-09-30\",\"2018-06-30\",\"2018-03-31\",\"2017-12-31\",\"2017-09-30\",\"2017-06-30\",\"2017-03-31\",\"2016-12-31\",\"2016-09-30\",\"2016-06-30\",\"2016-03-31\",\"2015-12-31\",\"2015-09-30\",\"2015-06-30\"],\"value\":[79076000000,72261000000,68738000000,64532000000,63219000000,62518000000,61841000000,60266000000,55003000000,55796000000,54078000000,53292000000,51928000000,51815000000,51459000000,51261000000,50948000000,51634000000,53342000000,53134000000,53646000000]},\"selected\":{\"id\":\"2789\"},\"selection_policy\":{\"id\":\"2806\"}},\"id\":\"2788\",\"type\":\"ColumnDataSource\"},{\"attributes\":{},\"id\":\"2810\",\"type\":\"Selection\"},{\"attributes\":{},\"id\":\"2725\",\"type\":\"LinearScale\"},{\"attributes\":{\"label\":{\"value\":\"googl\"},\"renderers\":[{\"id\":\"2815\"}]},\"id\":\"2831\",\"type\":\"LegendItem\"},{\"attributes\":{\"line_color\":\"#d62628\",\"line_width\":2,\"x\":{\"field\":\"date\"},\"y\":{\"field\":\"value\"}},\"id\":\"2812\",\"type\":\"Line\"},{\"attributes\":{\"data\":{\"Variable\":[\"aapl\",\"aapl\",\"aapl\",\"aapl\",\"aapl\",\"aapl\",\"aapl\",\"aapl\",\"aapl\",\"aapl\",\"aapl\",\"aapl\",\"aapl\",\"aapl\",\"aapl\",\"aapl\",\"aapl\",\"aapl\",\"aapl\",\"aapl\",\"aapl\"],\"date\":[\"2020-06-30\",\"2020-03-31\",\"2019-12-31\",\"2019-09-30\",\"2019-06-30\",\"2019-03-31\",\"2018-12-31\",\"2018-09-30\",\"2018-06-30\",\"2018-03-31\",\"2017-12-31\",\"2017-09-30\",\"2017-06-30\",\"2017-03-31\",\"2016-12-31\",\"2016-09-30\",\"2016-06-30\",\"2016-03-31\",\"2015-12-31\",\"2015-09-30\",\"2015-06-30\"],\"value\":[54901000000,53055000000,52611000000,52199000000,52150000000,50639000000,44792000000,44837000000,44691000000,44018000000,42326000000,42565000000,42307000000,41445000000,40140000000,40327000000,40476000000,40373000000,40861000000,41869000000,39367000000]},\"selected\":{\"id\":\"2752\"},\"selection_policy\":{\"id\":\"2765\"}},\"id\":\"2751\",\"type\":\"ColumnDataSource\"},{\"attributes\":{\"data_source\":{\"id\":\"2809\"},\"glyph\":{\"id\":\"2812\"},\"hover_glyph\":null,\"muted_glyph\":{\"id\":\"2814\"},\"nonselection_glyph\":{\"id\":\"2813\"},\"selection_glyph\":null,\"view\":{\"id\":\"2816\"}},\"id\":\"2815\",\"type\":\"GlyphRenderer\"},{\"attributes\":{},\"id\":\"2723\",\"type\":\"CategoricalScale\"},{\"attributes\":{},\"id\":\"2752\",\"type\":\"Selection\"},{\"attributes\":{\"data\":{\"Variable\":[\"amzn\",\"amzn\",\"amzn\",\"amzn\",\"amzn\",\"amzn\",\"amzn\",\"amzn\",\"amzn\",\"amzn\",\"amzn\",\"amzn\",\"amzn\",\"amzn\",\"amzn\",\"amzn\",\"amzn\",\"amzn\",\"amzn\",\"amzn\",\"amzn\"],\"date\":[\"2020-06-30\",\"2020-03-31\",\"2019-12-31\",\"2019-09-30\",\"2019-06-30\",\"2019-03-31\",\"2018-12-31\",\"2018-09-30\",\"2018-06-30\",\"2018-03-31\",\"2017-12-31\",\"2017-09-30\",\"2017-06-30\",\"2017-03-31\",\"2016-12-31\",\"2016-09-30\",\"2016-06-30\",\"2016-03-31\",\"2015-12-31\",\"2015-09-30\",\"2015-06-30\"],\"value\":[22993720000,22682345000,21709155000,21609701000,20484348000,19178935000,18481808000,17567303000,17255447000,15944846000,15614164000,14901647000,14861397000,14477040000,13975616000,13680907000,13340170000,12783410000,12355098000,11911694000,11666206000]},\"selected\":{\"id\":\"2770\"},\"selection_policy\":{\"id\":\"2785\"}},\"id\":\"2769\",\"type\":\"ColumnDataSource\"},{\"attributes\":{\"children\":[{\"id\":\"2710\"},{\"id\":\"2718\"},{\"id\":\"3001\"}],\"margin\":[0,0,0,0],\"name\":\"Row05812\",\"tags\":[\"embedded\"]},\"id\":\"2709\",\"type\":\"Row\"},{\"attributes\":{\"source\":{\"id\":\"2832\"}},\"id\":\"2839\",\"type\":\"CDSView\"},{\"attributes\":{\"line_alpha\":0.1,\"line_color\":\"#d62628\",\"line_width\":2,\"x\":{\"field\":\"date\"},\"y\":{\"field\":\"value\"}},\"id\":\"2813\",\"type\":\"Line\"},{\"attributes\":{\"line_alpha\":0.2,\"line_color\":\"#d62628\",\"line_width\":2,\"x\":{\"field\":\"date\"},\"y\":{\"field\":\"value\"}},\"id\":\"2814\",\"type\":\"Line\"},{\"attributes\":{\"label\":{\"value\":\"fb\"},\"renderers\":[{\"id\":\"2794\"}]},\"id\":\"2808\",\"type\":\"LegendItem\"},{\"attributes\":{\"label\":{\"value\":\"msft\"},\"renderers\":[{\"id\":\"2838\"}]},\"id\":\"2856\",\"type\":\"LegendItem\"},{\"attributes\":{},\"id\":\"2789\",\"type\":\"Selection\"},{\"attributes\":{\"source\":{\"id\":\"2788\"}},\"id\":\"2795\",\"type\":\"CDSView\"},{\"attributes\":{\"data\":{\"Variable\":[\"msft\",\"msft\",\"msft\",\"msft\",\"msft\",\"msft\",\"msft\",\"msft\",\"msft\",\"msft\",\"msft\",\"msft\",\"msft\",\"msft\",\"msft\",\"msft\",\"msft\",\"msft\",\"msft\",\"msft\",\"msft\"],\"date\":[\"2020-06-30\",\"2020-03-31\",\"2019-12-31\",\"2019-09-30\",\"2019-06-30\",\"2019-03-31\",\"2018-12-31\",\"2018-09-30\",\"2018-06-30\",\"2018-03-31\",\"2017-12-31\",\"2017-09-30\",\"2017-06-30\",\"2017-03-31\",\"2016-12-31\",\"2016-09-30\",\"2016-06-30\",\"2016-03-31\",\"2015-12-31\",\"2015-09-30\",\"2015-06-30\"],\"value\":[54901000000,53055000000,52611000000,52199000000,52150000000,50639000000,44792000000,44837000000,44691000000,44018000000,42326000000,42565000000,42307000000,41445000000,40140000000,40327000000,40476000000,40373000000,40861000000,41869000000,39367000000]},\"selected\":{\"id\":\"2833\"},\"selection_policy\":{\"id\":\"2854\"}},\"id\":\"2832\",\"type\":\"ColumnDataSource\"},{\"attributes\":{},\"id\":\"2806\",\"type\":\"UnionRenderers\"},{\"attributes\":{},\"id\":\"2854\",\"type\":\"UnionRenderers\"},{\"attributes\":{\"data_source\":{\"id\":\"2751\"},\"glyph\":{\"id\":\"2754\"},\"hover_glyph\":null,\"muted_glyph\":{\"id\":\"2756\"},\"nonselection_glyph\":{\"id\":\"2755\"},\"selection_glyph\":null,\"view\":{\"id\":\"2758\"}},\"id\":\"2757\",\"type\":\"GlyphRenderer\"},{\"attributes\":{},\"id\":\"2833\",\"type\":\"Selection\"},{\"attributes\":{\"overlay\":{\"id\":\"2739\"}},\"id\":\"2737\",\"type\":\"BoxZoomTool\"},{\"attributes\":{\"text\":\"\",\"text_color\":{\"value\":\"black\"},\"text_font_size\":{\"value\":\"12pt\"}},\"id\":\"2719\",\"type\":\"Title\"},{\"attributes\":{\"line_alpha\":0.2,\"line_color\":\"#1f77b3\",\"line_width\":2,\"x\":{\"field\":\"date\"},\"y\":{\"field\":\"value\"}},\"id\":\"2756\",\"type\":\"Line\"},{\"attributes\":{\"line_color\":\"#1f77b3\",\"line_width\":2,\"x\":{\"field\":\"date\"},\"y\":{\"field\":\"value\"}},\"id\":\"2754\",\"type\":\"Line\"},{\"attributes\":{},\"id\":\"2770\",\"type\":\"Selection\"},{\"attributes\":{\"axis_label\":\"date\",\"bounds\":\"auto\",\"formatter\":{\"id\":\"2747\"},\"major_label_orientation\":\"horizontal\",\"ticker\":{\"id\":\"2728\"}},\"id\":\"2727\",\"type\":\"CategoricalAxis\"},{\"attributes\":{\"line_alpha\":0.1,\"line_color\":\"#1f77b3\",\"line_width\":2,\"x\":{\"field\":\"date\"},\"y\":{\"field\":\"value\"}},\"id\":\"2755\",\"type\":\"Line\"},{\"attributes\":{\"margin\":[5,5,5,5],\"name\":\"HSpacer05817\",\"sizing_mode\":\"stretch_width\"},\"id\":\"3001\",\"type\":\"Spacer\"},{\"attributes\":{\"line_alpha\":0.2,\"line_color\":\"#ff7e0e\",\"line_width\":2,\"x\":{\"field\":\"date\"},\"y\":{\"field\":\"value\"}},\"id\":\"2774\",\"type\":\"Line\"},{\"attributes\":{\"source\":{\"id\":\"2769\"}},\"id\":\"2776\",\"type\":\"CDSView\"},{\"attributes\":{},\"id\":\"2738\",\"type\":\"ResetTool\"},{\"attributes\":{\"source\":{\"id\":\"2751\"}},\"id\":\"2758\",\"type\":\"CDSView\"},{\"attributes\":{\"line_alpha\":0.1,\"line_color\":\"#9367bc\",\"line_width\":2,\"x\":{\"field\":\"date\"},\"y\":{\"field\":\"value\"}},\"id\":\"2836\",\"type\":\"Line\"},{\"attributes\":{\"line_alpha\":0.2,\"line_color\":\"#2ba02b\",\"line_width\":2,\"x\":{\"field\":\"date\"},\"y\":{\"field\":\"value\"}},\"id\":\"2793\",\"type\":\"Line\"},{\"attributes\":{\"data_source\":{\"id\":\"2788\"},\"glyph\":{\"id\":\"2791\"},\"hover_glyph\":null,\"muted_glyph\":{\"id\":\"2793\"},\"nonselection_glyph\":{\"id\":\"2792\"},\"selection_glyph\":null,\"view\":{\"id\":\"2795\"}},\"id\":\"2794\",\"type\":\"GlyphRenderer\"},{\"attributes\":{\"margin\":[5,5,5,5],\"name\":\"HSpacer05816\",\"sizing_mode\":\"stretch_width\"},\"id\":\"2710\",\"type\":\"Spacer\"},{\"attributes\":{\"line_color\":\"#9367bc\",\"line_width\":2,\"x\":{\"field\":\"date\"},\"y\":{\"field\":\"value\"}},\"id\":\"2835\",\"type\":\"Line\"},{\"attributes\":{},\"id\":\"2736\",\"type\":\"WheelZoomTool\"},{\"attributes\":{},\"id\":\"2731\",\"type\":\"BasicTicker\"},{\"attributes\":{\"axis_label\":\"\",\"bounds\":\"auto\",\"formatter\":{\"id\":\"2749\"},\"major_label_orientation\":\"horizontal\",\"ticker\":{\"id\":\"2731\"}},\"id\":\"2730\",\"type\":\"LinearAxis\"},{\"attributes\":{\"active_drag\":\"auto\",\"active_inspect\":\"auto\",\"active_multi\":null,\"active_scroll\":\"auto\",\"active_tap\":\"auto\",\"tools\":[{\"id\":\"2713\"},{\"id\":\"2734\"},{\"id\":\"2735\"},{\"id\":\"2736\"},{\"id\":\"2737\"},{\"id\":\"2738\"}]},\"id\":\"2740\",\"type\":\"Toolbar\"},{\"attributes\":{},\"id\":\"2735\",\"type\":\"PanTool\"},{\"attributes\":{},\"id\":\"2749\",\"type\":\"BasicTickFormatter\"},{\"attributes\":{},\"id\":\"2728\",\"type\":\"CategoricalTicker\"},{\"attributes\":{\"axis\":{\"id\":\"2727\"},\"grid_line_color\":null,\"ticker\":null},\"id\":\"2729\",\"type\":\"Grid\"},{\"attributes\":{\"line_color\":\"#ff7e0e\",\"line_width\":2,\"x\":{\"field\":\"date\"},\"y\":{\"field\":\"value\"}},\"id\":\"2772\",\"type\":\"Line\"},{\"attributes\":{\"callback\":null,\"renderers\":[{\"id\":\"2757\"},{\"id\":\"2775\"},{\"id\":\"2794\"},{\"id\":\"2815\"},{\"id\":\"2838\"}],\"tags\":[\"hv_created\"],\"tooltips\":[[\"Variable\",\"@{Variable}\"],[\"date\",\"@{date}\"],[\"value\",\"@{value}\"]]},\"id\":\"2713\",\"type\":\"HoverTool\"},{\"attributes\":{\"line_alpha\":0.2,\"line_color\":\"#9367bc\",\"line_width\":2,\"x\":{\"field\":\"date\"},\"y\":{\"field\":\"value\"}},\"id\":\"2837\",\"type\":\"Line\"},{\"attributes\":{\"data_source\":{\"id\":\"2832\"},\"glyph\":{\"id\":\"2835\"},\"hover_glyph\":null,\"muted_glyph\":{\"id\":\"2837\"},\"nonselection_glyph\":{\"id\":\"2836\"},\"selection_glyph\":null,\"view\":{\"id\":\"2839\"}},\"id\":\"2838\",\"type\":\"GlyphRenderer\"}],\"root_ids\":[\"2709\"]},\"title\":\"Bokeh Application\",\"version\":\"2.1.1\"}};\n",
       "  var render_items = [{\"docid\":\"d801752e-ad07-4085-a5b6-2c8d6cc25e32\",\"root_ids\":[\"2709\"],\"roots\":{\"2709\":\"bdbefc1b-e41d-4f2c-885b-e89616054223\"}}];\n",
       "  root.Bokeh.embed.embed_items_notebook(docs_json, render_items);\n",
       "  }\n",
       "if (root.Bokeh !== undefined) {\n",
       "    embed_document(root);\n",
       "  } else {\n",
       "    var attempts = 0;\n",
       "    var timer = setInterval(function(root) {\n",
       "      if (root.Bokeh !== undefined) {\n",
       "        clearInterval(timer);\n",
       "        embed_document(root);\n",
       "      } else if (document.readyState == \"complete\") {\n",
       "        attempts++;\n",
       "        if (attempts > 100) {\n",
       "          clearInterval(timer);\n",
       "          console.log(\"Bokeh: ERROR: Unable to run BokehJS code because BokehJS library is missing\");\n",
       "        }\n",
       "      }\n",
       "    }, 10, root)\n",
       "  }\n",
       "})(window);</script>"
      ],
      "text/plain": [
       ":NdOverlay   [Variable]\n",
       "   :Curve   [date]   (value)"
      ]
     },
     "execution_count": 30,
     "metadata": {
      "application/vnd.holoviews_exec.v0+json": {
       "id": "2709"
      }
     },
     "output_type": "execute_result"
    }
   ],
   "source": [
    "# probably a bad way of doing this but we wanna put them all in one dataframe to easily plot with hvplot\n",
    "data = {'date': aal_tmp['fiscalDateEnding'].array, \n",
    "        'aapl': aal['totalAssets'].array, \n",
    "        'amzn': al['totalAssets'].array, \n",
    "        'fb': dal['totalAssets'].array,\n",
    "        'googl': luv['totalAssets'].array,\n",
    "        'msft': aal['totalAssets'].array\n",
    "       }\n",
    "Tech_total_assets_dataframe = pd.DataFrame(data=data)\n",
    "Tech_total_assets_dataframe.set_index('date', inplace=True)\n",
    "Tech_total_assets_dataframe.hvplot.line()"
   ]
  },
  {
   "cell_type": "code",
   "execution_count": 31,
   "metadata": {},
   "outputs": [
    {
     "name": "stdout",
     "output_type": "stream",
     "text": [
      "KeyError. Trying again in 60 seconds...\n"
     ]
    },
    {
     "ename": "TypeError",
     "evalue": "'Response' object is not subscriptable",
     "output_type": "error",
     "traceback": [
      "\u001b[1;31m---------------------------------------------------------------------------\u001b[0m",
      "\u001b[1;31mKeyError\u001b[0m                                  Traceback (most recent call last)",
      "\u001b[1;32m<ipython-input-31-0c8f5dbec5f7>\u001b[0m in \u001b[0;36m<module>\u001b[1;34m\u001b[0m\n\u001b[0;32m      5\u001b[0m     \u001b[1;32mtry\u001b[0m\u001b[1;33m:\u001b[0m\u001b[1;33m\u001b[0m\u001b[1;33m\u001b[0m\u001b[0m\n\u001b[1;32m----> 6\u001b[1;33m         \u001b[0mstock_price\u001b[0m \u001b[1;33m=\u001b[0m \u001b[0mstock_price\u001b[0m\u001b[1;33m[\u001b[0m\u001b[1;34m'Monthly Adjusted Time Series'\u001b[0m\u001b[1;33m]\u001b[0m\u001b[1;33m\u001b[0m\u001b[1;33m\u001b[0m\u001b[0m\n\u001b[0m\u001b[0;32m      7\u001b[0m     \u001b[1;32mexcept\u001b[0m \u001b[0mKeyError\u001b[0m\u001b[1;33m:\u001b[0m\u001b[1;33m\u001b[0m\u001b[1;33m\u001b[0m\u001b[0m\n",
      "\u001b[1;31mKeyError\u001b[0m: 'Monthly Adjusted Time Series'",
      "\nDuring handling of the above exception, another exception occurred:\n",
      "\u001b[1;31mTypeError\u001b[0m                                 Traceback (most recent call last)",
      "\u001b[1;32m<ipython-input-31-0c8f5dbec5f7>\u001b[0m in \u001b[0;36m<module>\u001b[1;34m\u001b[0m\n\u001b[0;32m     10\u001b[0m         stock_price = requests.get('https://www.alphavantage.co/query?', params={'function':'TIME_SERIES_MONTHLY_ADJUSTED','symbol':symbol,\n\u001b[0;32m     11\u001b[0m                                                                               'apikey':'Alpha_vantage_Api_key'})\n\u001b[1;32m---> 12\u001b[1;33m         \u001b[0mstock_price\u001b[0m \u001b[1;33m=\u001b[0m \u001b[0mstock_price\u001b[0m\u001b[1;33m[\u001b[0m\u001b[1;34m'Monthly Adjusted Time Series'\u001b[0m\u001b[1;33m]\u001b[0m\u001b[1;33m\u001b[0m\u001b[1;33m\u001b[0m\u001b[0m\n\u001b[0m",
      "\u001b[1;31mTypeError\u001b[0m: 'Response' object is not subscriptable"
     ]
    }
   ],
   "source": []
  },
  {
   "cell_type": "code",
   "execution_count": null,
   "metadata": {},
   "outputs": [],
   "source": [
    "symbol_list = [\"AAPL\",\"GOOGL\",\"AMZN\",\"FB\",\"MSFT\"]\n",
    "symbol_list = [\"AAL\",\"UAL\",\"LUV\",\"DAL\",\"AL\"]\n",
    "#CREATE FOR LOOP TO CHNGE JSON INTO CSV FILES\n",
    "for symbol in symbol_list:\n",
    "    stock_price = requests.get('https://www.alphavantage.co/query?', params={'function':'TIME_SERIES_MONTHLY_ADJUSTED','symbol':symbol,\n",
    "                                                                              'apikey':'Alpha_vantage_Api_key'})\n",
    "    stock_price = stock_price.json()\n",
    "    try:\n",
    "        stock_price = stock_price['Monthly Adjusted Time Series']\n",
    "    except KeyError:\n",
    "        print('KeyError. Trying again in 60 seconds...')  \n",
    "        time.sleep(60)\n",
    "        stock_price = requests.get('https://www.alphavantage.co/query?', params={'function':'TIME_SERIES_MONTHLY_ADJUSTED','symbol':symbol,\n",
    "                                                                              'apikey':'Alpha_vantage_Api_key'})\n",
    "        stock_price = stock_price['Monthly Adjusted Time Series']\n",
    "    date ={}\n",
    "    date_list = []\n",
    "    close_list =[]\n",
    "    for date in stock_price:\n",
    "        data[date] = stock_price[date][\"4. close\"]\n",
    "        date_list.append(date)\n",
    "        close_list.append(stock_price[date][\"4. close\"])\n",
    "    data = {\"date\": date_list, \"close\": close_list}\n",
    "    price_df = pd.DataFrame.from_dict(data)\n",
    "    price_df.columns = [\"date\", \"close\"]\n",
    "    price_df.set_index(\"date\", inplace=True)\n",
    "    price_df = price_df.rolling(3).mean()\n",
    "    print(price_df)\n",
    "    file_name = f\"Data/Prices/{symbol}.csv\"\n",
    "    price_df.to_csv(file_name)\n",
    "        \n",
    "    "
   ]
  },
  {
   "cell_type": "code",
   "execution_count": null,
   "metadata": {
    "jupyter": {
     "source_hidden": true
    }
   },
   "outputs": [],
   "source": [
    "df_AAPL_price = Stock_Price_AAPL.json()\n",
    "df_AAPL_price\n"
   ]
  },
  {
   "cell_type": "code",
   "execution_count": null,
   "metadata": {},
   "outputs": [],
   "source": [
    "for symbol in symbol_list:\n",
    "    stock_price = requests.get('https://www.alphavantage.co/query?', params={'function':'TIME_SERIES_MONTHLY_ADJUSTED','symbol':symbol,\n",
    "                                                                              'apikey':'Alpha_vantage_Api_key'})\n",
    "    stock_price = stock_price.json()\n",
    "    try:\n",
    "        stock_price = stock_price['Monthly Adjusted Time Series']\n",
    "    except KeyError:\n",
    "        print('KeyError. Trying again in 60 seconds...')  \n",
    "        time.sleep(60)\n",
    "        stock_price = requests.get('https://www.alphavantage.co/query?', params={'function':'TIME_SERIES_MONTHLY_ADJUSTED','symbol':symbol,\n",
    "                                                                              'apikey':'Alpha_vantage_Api_key'})\n",
    "        stock_price = stock_price['Monthly Adjusted Time Series']"
   ]
  },
  {
   "cell_type": "code",
   "execution_count": 32,
   "metadata": {},
   "outputs": [
    {
     "ename": "TypeError",
     "evalue": "cannot handle this type -> object",
     "output_type": "error",
     "traceback": [
      "\u001b[1;31m---------------------------------------------------------------------------\u001b[0m",
      "\u001b[1;31mValueError\u001b[0m                                Traceback (most recent call last)",
      "\u001b[1;32m~\\anaconda3\\envs\\alpacaenv\\lib\\site-packages\\pandas\\core\\window.py\u001b[0m in \u001b[0;36m_prep_values\u001b[1;34m(self, values, kill_inf)\u001b[0m\n\u001b[0;32m    210\u001b[0m             \u001b[1;32mtry\u001b[0m\u001b[1;33m:\u001b[0m\u001b[1;33m\u001b[0m\u001b[1;33m\u001b[0m\u001b[0m\n\u001b[1;32m--> 211\u001b[1;33m                 \u001b[0mvalues\u001b[0m \u001b[1;33m=\u001b[0m \u001b[0mensure_float64\u001b[0m\u001b[1;33m(\u001b[0m\u001b[0mvalues\u001b[0m\u001b[1;33m)\u001b[0m\u001b[1;33m\u001b[0m\u001b[1;33m\u001b[0m\u001b[0m\n\u001b[0m\u001b[0;32m    212\u001b[0m             \u001b[1;32mexcept\u001b[0m \u001b[1;33m(\u001b[0m\u001b[0mValueError\u001b[0m\u001b[1;33m,\u001b[0m \u001b[0mTypeError\u001b[0m\u001b[1;33m)\u001b[0m\u001b[1;33m:\u001b[0m\u001b[1;33m\u001b[0m\u001b[1;33m\u001b[0m\u001b[0m\n",
      "\u001b[1;32mpandas/_libs/algos_common_helper.pxi\u001b[0m in \u001b[0;36mpandas._libs.algos.ensure_float64\u001b[1;34m()\u001b[0m\n",
      "\u001b[1;31mValueError\u001b[0m: could not convert string to float: 'None'",
      "\nDuring handling of the above exception, another exception occurred:\n",
      "\u001b[1;31mTypeError\u001b[0m                                 Traceback (most recent call last)",
      "\u001b[1;32m<ipython-input-32-814051c6d74c>\u001b[0m in \u001b[0;36m<module>\u001b[1;34m\u001b[0m\n\u001b[1;32m----> 1\u001b[1;33m \u001b[0mdf\u001b[0m \u001b[1;33m=\u001b[0m \u001b[0mdf\u001b[0m\u001b[1;33m.\u001b[0m\u001b[0mrolling\u001b[0m\u001b[1;33m(\u001b[0m\u001b[1;36m3\u001b[0m\u001b[1;33m)\u001b[0m\u001b[1;33m.\u001b[0m\u001b[0mmean\u001b[0m\u001b[1;33m(\u001b[0m\u001b[1;33m)\u001b[0m\u001b[1;33m\u001b[0m\u001b[1;33m\u001b[0m\u001b[0m\n\u001b[0m",
      "\u001b[1;32m~\\anaconda3\\envs\\alpacaenv\\lib\\site-packages\\pandas\\core\\window.py\u001b[0m in \u001b[0;36mmean\u001b[1;34m(self, *args, **kwargs)\u001b[0m\n\u001b[0;32m   1726\u001b[0m     \u001b[1;32mdef\u001b[0m \u001b[0mmean\u001b[0m\u001b[1;33m(\u001b[0m\u001b[0mself\u001b[0m\u001b[1;33m,\u001b[0m \u001b[1;33m*\u001b[0m\u001b[0margs\u001b[0m\u001b[1;33m,\u001b[0m \u001b[1;33m**\u001b[0m\u001b[0mkwargs\u001b[0m\u001b[1;33m)\u001b[0m\u001b[1;33m:\u001b[0m\u001b[1;33m\u001b[0m\u001b[1;33m\u001b[0m\u001b[0m\n\u001b[0;32m   1727\u001b[0m         \u001b[0mnv\u001b[0m\u001b[1;33m.\u001b[0m\u001b[0mvalidate_rolling_func\u001b[0m\u001b[1;33m(\u001b[0m\u001b[1;34m'mean'\u001b[0m\u001b[1;33m,\u001b[0m \u001b[0margs\u001b[0m\u001b[1;33m,\u001b[0m \u001b[0mkwargs\u001b[0m\u001b[1;33m)\u001b[0m\u001b[1;33m\u001b[0m\u001b[1;33m\u001b[0m\u001b[0m\n\u001b[1;32m-> 1728\u001b[1;33m         \u001b[1;32mreturn\u001b[0m \u001b[0msuper\u001b[0m\u001b[1;33m(\u001b[0m\u001b[0mRolling\u001b[0m\u001b[1;33m,\u001b[0m \u001b[0mself\u001b[0m\u001b[1;33m)\u001b[0m\u001b[1;33m.\u001b[0m\u001b[0mmean\u001b[0m\u001b[1;33m(\u001b[0m\u001b[1;33m*\u001b[0m\u001b[0margs\u001b[0m\u001b[1;33m,\u001b[0m \u001b[1;33m**\u001b[0m\u001b[0mkwargs\u001b[0m\u001b[1;33m)\u001b[0m\u001b[1;33m\u001b[0m\u001b[1;33m\u001b[0m\u001b[0m\n\u001b[0m\u001b[0;32m   1729\u001b[0m \u001b[1;33m\u001b[0m\u001b[0m\n\u001b[0;32m   1730\u001b[0m     \u001b[1;33m@\u001b[0m\u001b[0mSubstitution\u001b[0m\u001b[1;33m(\u001b[0m\u001b[0mname\u001b[0m\u001b[1;33m=\u001b[0m\u001b[1;34m'rolling'\u001b[0m\u001b[1;33m)\u001b[0m\u001b[1;33m\u001b[0m\u001b[1;33m\u001b[0m\u001b[0m\n",
      "\u001b[1;32m~\\anaconda3\\envs\\alpacaenv\\lib\\site-packages\\pandas\\core\\window.py\u001b[0m in \u001b[0;36mmean\u001b[1;34m(self, *args, **kwargs)\u001b[0m\n\u001b[0;32m   1070\u001b[0m     \u001b[1;32mdef\u001b[0m \u001b[0mmean\u001b[0m\u001b[1;33m(\u001b[0m\u001b[0mself\u001b[0m\u001b[1;33m,\u001b[0m \u001b[1;33m*\u001b[0m\u001b[0margs\u001b[0m\u001b[1;33m,\u001b[0m \u001b[1;33m**\u001b[0m\u001b[0mkwargs\u001b[0m\u001b[1;33m)\u001b[0m\u001b[1;33m:\u001b[0m\u001b[1;33m\u001b[0m\u001b[1;33m\u001b[0m\u001b[0m\n\u001b[0;32m   1071\u001b[0m         \u001b[0mnv\u001b[0m\u001b[1;33m.\u001b[0m\u001b[0mvalidate_window_func\u001b[0m\u001b[1;33m(\u001b[0m\u001b[1;34m'mean'\u001b[0m\u001b[1;33m,\u001b[0m \u001b[0margs\u001b[0m\u001b[1;33m,\u001b[0m \u001b[0mkwargs\u001b[0m\u001b[1;33m)\u001b[0m\u001b[1;33m\u001b[0m\u001b[1;33m\u001b[0m\u001b[0m\n\u001b[1;32m-> 1072\u001b[1;33m         \u001b[1;32mreturn\u001b[0m \u001b[0mself\u001b[0m\u001b[1;33m.\u001b[0m\u001b[0m_apply\u001b[0m\u001b[1;33m(\u001b[0m\u001b[1;34m'roll_mean'\u001b[0m\u001b[1;33m,\u001b[0m \u001b[1;34m'mean'\u001b[0m\u001b[1;33m,\u001b[0m \u001b[1;33m**\u001b[0m\u001b[0mkwargs\u001b[0m\u001b[1;33m)\u001b[0m\u001b[1;33m\u001b[0m\u001b[1;33m\u001b[0m\u001b[0m\n\u001b[0m\u001b[0;32m   1073\u001b[0m \u001b[1;33m\u001b[0m\u001b[0m\n\u001b[0;32m   1074\u001b[0m     _shared_docs['median'] = dedent(\"\"\"\n",
      "\u001b[1;32m~\\anaconda3\\envs\\alpacaenv\\lib\\site-packages\\pandas\\core\\window.py\u001b[0m in \u001b[0;36m_apply\u001b[1;34m(self, func, name, window, center, check_minp, **kwargs)\u001b[0m\n\u001b[0;32m    839\u001b[0m         \u001b[0mresults\u001b[0m \u001b[1;33m=\u001b[0m \u001b[1;33m[\u001b[0m\u001b[1;33m]\u001b[0m\u001b[1;33m\u001b[0m\u001b[1;33m\u001b[0m\u001b[0m\n\u001b[0;32m    840\u001b[0m         \u001b[1;32mfor\u001b[0m \u001b[0mb\u001b[0m \u001b[1;32min\u001b[0m \u001b[0mblocks\u001b[0m\u001b[1;33m:\u001b[0m\u001b[1;33m\u001b[0m\u001b[1;33m\u001b[0m\u001b[0m\n\u001b[1;32m--> 841\u001b[1;33m             \u001b[0mvalues\u001b[0m \u001b[1;33m=\u001b[0m \u001b[0mself\u001b[0m\u001b[1;33m.\u001b[0m\u001b[0m_prep_values\u001b[0m\u001b[1;33m(\u001b[0m\u001b[0mb\u001b[0m\u001b[1;33m.\u001b[0m\u001b[0mvalues\u001b[0m\u001b[1;33m)\u001b[0m\u001b[1;33m\u001b[0m\u001b[1;33m\u001b[0m\u001b[0m\n\u001b[0m\u001b[0;32m    842\u001b[0m \u001b[1;33m\u001b[0m\u001b[0m\n\u001b[0;32m    843\u001b[0m             \u001b[1;32mif\u001b[0m \u001b[0mvalues\u001b[0m\u001b[1;33m.\u001b[0m\u001b[0msize\u001b[0m \u001b[1;33m==\u001b[0m \u001b[1;36m0\u001b[0m\u001b[1;33m:\u001b[0m\u001b[1;33m\u001b[0m\u001b[1;33m\u001b[0m\u001b[0m\n",
      "\u001b[1;32m~\\anaconda3\\envs\\alpacaenv\\lib\\site-packages\\pandas\\core\\window.py\u001b[0m in \u001b[0;36m_prep_values\u001b[1;34m(self, values, kill_inf)\u001b[0m\n\u001b[0;32m    212\u001b[0m             \u001b[1;32mexcept\u001b[0m \u001b[1;33m(\u001b[0m\u001b[0mValueError\u001b[0m\u001b[1;33m,\u001b[0m \u001b[0mTypeError\u001b[0m\u001b[1;33m)\u001b[0m\u001b[1;33m:\u001b[0m\u001b[1;33m\u001b[0m\u001b[1;33m\u001b[0m\u001b[0m\n\u001b[0;32m    213\u001b[0m                 raise TypeError(\"cannot handle this type -> {0}\"\n\u001b[1;32m--> 214\u001b[1;33m                                 \"\".format(values.dtype))\n\u001b[0m\u001b[0;32m    215\u001b[0m \u001b[1;33m\u001b[0m\u001b[0m\n\u001b[0;32m    216\u001b[0m         \u001b[1;32mif\u001b[0m \u001b[0mkill_inf\u001b[0m\u001b[1;33m:\u001b[0m\u001b[1;33m\u001b[0m\u001b[1;33m\u001b[0m\u001b[0m\n",
      "\u001b[1;31mTypeError\u001b[0m: cannot handle this type -> object"
     ]
    }
   ],
   "source": [
    "df = df.rolling(3).mean() "
   ]
  },
  {
   "cell_type": "code",
   "execution_count": null,
   "metadata": {},
   "outputs": [],
   "source": []
  }
 ],
 "metadata": {
  "kernelspec": {
   "display_name": "Python [conda env:alpacaenv] *",
   "language": "python",
   "name": "conda-env-alpacaenv-py"
  },
  "language_info": {
   "codemirror_mode": {
    "name": "ipython",
    "version": 3
   },
   "file_extension": ".py",
   "mimetype": "text/x-python",
   "name": "python",
   "nbconvert_exporter": "python",
   "pygments_lexer": "ipython3",
   "version": "3.7.7"
  }
 },
 "nbformat": 4,
 "nbformat_minor": 4
}
