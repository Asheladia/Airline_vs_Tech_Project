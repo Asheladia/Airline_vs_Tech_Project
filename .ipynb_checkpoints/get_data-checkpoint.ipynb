{
 "cells": [
  {
   "cell_type": "code",
   "execution_count": 1,
   "metadata": {},
   "outputs": [
    {
     "data": {
      "text/plain": [
       "True"
      ]
     },
     "execution_count": 1,
     "metadata": {},
     "output_type": "execute_result"
    }
   ],
   "source": [
    "from dotenv import load_dotenv\n",
    "import os\n",
    "import pandas as pd\n",
    "import altair as alt\n",
    "import alpaca_trade_api as tradeapi\n",
    "import requests\n",
    "import json\n",
    "import time\n",
    "load_dotenv(dotenv_path=\"alphavantage_api_key.env\")"
   ]
  },
  {
   "cell_type": "code",
   "execution_count": 2,
   "metadata": {},
   "outputs": [],
   "source": [
    "key = os.getenv(\"alphavantage\")"
   ]
  },
  {
   "cell_type": "code",
   "execution_count": 3,
   "metadata": {},
   "outputs": [],
   "source": [
    "# tickers to gather data for\n",
    "# separated by industry\n",
    "airline_list = [\"ALK\", \"UAL\", \"LUV\", \"DAL\", \"AL\"]\n",
    "tech_list = [\"AAPL\", \"GOOGL\", \"AMZN\", \"MSFT\", \"FB\"]\n",
    "\n",
    "for symbol in tech_list:\n",
    "    # makes request to alphavantage to get fundamental data\n",
    "    content = requests.get(url= \"https://www.alphavantage.co/query?\",  params = {\"function\":\"BALANCE_SHEET\", \"symbol\": symbol, \"apikey\": key})\n",
    "    data = content.json()\n",
    "    # alphavantage only allows 5 api requests per minute. if we get a keyerror, we have exceeded this limit \n",
    "    # and must wait to try again\n",
    "    #print (data['quarterlyReports'],data['symbol'])\n",
    "    try:\n",
    "        data_test=data['quarterlyReports']\n",
    "    except KeyError:\n",
    "        print('KeyError. Trying again in 60 seconds...')  \n",
    "        time.sleep(60)\n",
    "        content = requests.get(url= \"https://www.alphavantage.co/query?\",  params = {\"function\":\"BALANCE_SHEET\", \"symbol\": symbol, \"apikey\": key})\n",
    "        data_test=data['quarterlyReports']\n",
    "    # convert request json to dataframe\n",
    "    df = pd.DataFrame.from_dict(data_test)\n",
    "    df.set_index('fiscalDateEnding', inplace=True)\n",
    "    file_name = f'Data/Airlines/{symbol}_quarterly_reports.csv'\n",
    "    df.to_csv(file_name)\n",
    "    "
   ]
  },
  {
   "cell_type": "code",
   "execution_count": 4,
   "metadata": {},
   "outputs": [
    {
     "name": "stdout",
     "output_type": "stream",
     "text": [
      "ALK\n",
      "UAL\n",
      "LUV\n",
      "DAL\n",
      "AAL\n"
     ]
    }
   ],
   "source": [
    "airline_list = [\"ALK\", \"UAL\", \"LUV\", \"DAL\", \"AAL\"]\n",
    "for s in airline_list:\n",
    "    content = requests.get(url= \"https://www.alphavantage.co/query?\",  params = {\"function\":\"BALANCE_SHEET\", \"symbol\": s, \"apikey\": key})\n",
    "    json = content.json()\n",
    "    if json['quarterlyReports']:\n",
    "        print(s)\n",
    "    "
   ]
  },
  {
   "cell_type": "code",
   "execution_count": 5,
   "metadata": {},
   "outputs": [],
   "source": [
    "   # tickers to gather data for\n",
    "# separated by industry\n",
    "airline_list = [\"ALK\", \"UAL\", \"LUV\", \"DAL\", \"AAL\"]\n",
    "tech_list = [\"AAPL\", \"GOOGL\", \"AMZN\", \"MSFT\", \"FB\"]\n",
    "\n",
    "for symbol in airline_list:\n",
    "    # makes request to alphavantage to get fundamental data\n",
    "    content = requests.get(url= \"https://www.alphavantage.co/query?\",  params = {\"function\":\"BALANCE_SHEET\", \"symbol\": symbol, \"apikey\": key})\n",
    "    data = content.json()\n",
    "    # alphavantage only allows 5 api requests per minute. if we get a keyerror, we have exceeded this limit \n",
    "    # and must wait to try again\n",
    "    #print (data)\n",
    "  #  try:\n",
    "   #     data_test=data['quarterlyReports']\n",
    "   # except KeyError:\n",
    "     #   print('KeyError. Trying again in 60 seconds...')  \n",
    "      #  time.sleep(60)\n",
    "      #  content = requests.get(url= \"https://www.alphavantage.co/query?\",  params = {\"function\":\"BALANCE_SHEET\", \"symbol\": symbol, \"apikey\": key})\n",
    "       # data_test=data['quarterlyReports']\n",
    "    # convert request json to dataframe\n",
    "    data_test = data['quarterlyReports']\n",
    "    df = pd.DataFrame.from_dict(data_test)\n",
    "    df.set_index('fiscalDateEnding', inplace=True)\n",
    "    file_name = f'Data/Airlines/{symbol}_quarterly_reports.csv'\n",
    "    df.to_csv(file_name)\n",
    "    "
   ]
  },
  {
   "cell_type": "code",
   "execution_count": null,
   "metadata": {},
   "outputs": [],
   "source": [
    "   # tickers to gather data for\n",
    "# separated by industry\n",
    "airline_list = [\"ALK\", \"UAL\", \"LUV\", \"DAL\", \"AL\"]\n",
    "tech_list = [\"AAPL\", \"GOOGL\", \"AMZN\", \"MSFT\", \"FB\"]\n",
    "\n",
    "for symbol in tech_list:\n",
    "    # makes request to alphavantage to get fundamental data\n",
    "    content = requests.get(url= \"https://www.alphavantage.co/query?\",  params = {\"function\":\"BALANCE_SHEET\", \"symbol\": symbol, \"apikey\": key})\n",
    "    data = content.json()\n",
    "    # alphavantage only allows 5 api requests per minute. if we get a keyerror, we have exceeded this limit \n",
    "    # and must wait to try again\n",
    "   \n",
    "   # try:\n",
    "     #   data_test=data['quarterlyReports']\n",
    "   # except KeyError:\n",
    "     #   print('KeyError. Trying again in 60 seconds...')  \n",
    "       # time.sleep(60)\n",
    "       # content = requests.get(url= \"https://www.alphavantage.co/query?\",  params = {\"function\":\"BALANCE_SHEET\", \"symbol\": symbol, \"apikey\": key})\n",
    "        #data_test=data['quarterlyReports']\n",
    "    # convert request json to dataframe\n",
    "    data_test = data['quarterlyReports']\n",
    "    df = pd.DataFrame.from_dict(data_test)\n",
    "    df.set_index('fiscalDateEnding', inplace=True)\n",
    "    file_name = f'Data/Airlines/{symbol}_quarterly_reports.csv'\n",
    "    df.to_csv(file_name)\n"
   ]
  },
  {
   "cell_type": "code",
   "execution_count": null,
   "metadata": {},
   "outputs": [],
   "source": [
    "symbol_list = [\"AAL\", \"UAL\", \"LUV\", \"DAL\", \"AL\", \"AAPL\", \"GOOGL\", \"AMZN\", \"MSFT\", \"FB\"]\n",
    "counter = 1;\n",
    "# gets stock data from alphavantage\n",
    "for symbol in symbol_list:\n",
    "    if counter == 5:\n",
    "        time.sleep(65)\n",
    "    stock_price = requests.get('https://www.alphavantage.co/query?', params={'function':'TIME_SERIES_MONTHLY_ADJUSTED','symbol':symbol,\n",
    "                                                                              \"apikey\": key})\n",
    "    stock_price = stock_price.json()\n",
    "#    try:\n",
    "#        stock_price = stock_price[\"Monthly Adjusted Time Series\"]\n",
    "#    except KeyError:\n",
    " #       print('KeyError. Trying again in 60 seconds...', stock_price)  \n",
    "       # time.sleep(60)\n",
    "       # stock_price = requests.get('https://www.alphavantage.co/query?', params={'function':'TIME_SERIES_MONTHLY_ADJUSTED','symbol':symbol,\n",
    "        #                                                                      'apikey':'Alpha_vantage_Api_key'})\n",
    "        #stock_price = stock_price['Monthly Adjusted Time Series']\n",
    "    \n",
    "    data = {}\n",
    "    date_list = []\n",
    "    close_list = []\n",
    "  \n",
    "\n",
    "    for date in  stock_price[\"Monthly Adjusted Time Series\"]:\n",
    "        data[date] = stock_price[\"Monthly Adjusted Time Series\"][date]['4. close']\n",
    "        date_list.append(date)\n",
    "        close_list.append( stock_price[\"Monthly Adjusted Time Series\"][date]['4. close'])\n",
    "    data = {'date': date_list, 'close': close_list}\n",
    "    price_df = pd.DataFrame.from_dict(data)\n",
    "    price_df.columns = [\"date\", \"close\"]\n",
    "    price_df.set_index('date', inplace=True)\n",
    "    price_df_ascending = price_df.sort_values(by =\"date\", ascending=True)\n",
    "    price_df_average = price_df_ascending.rolling(3).mean()\n",
    "    price_df_average = price_df_ascending.iloc[::3,:].truncate(before = \"2019-03-29\")\n",
    "    final_month = price_df_ascending.iloc[-1]\n",
    "    price_df_average = price_df_average.append(final_month)\n",
    "            \n",
    "    file_name = f'Data/Prices/{symbol}.csv'\n",
    "    price_df.to_csv(file_name)\n",
    "    \n",
    "    print(price_df_average)\n",
    "    print(f'Data/Prices/{symbol}.csv')\n",
    "    print (\"-------\")\n",
    "    "
   ]
  },
  {
   "cell_type": "code",
   "execution_count": 16,
   "metadata": {},
   "outputs": [
    {
     "name": "stdout",
     "output_type": "stream",
     "text": [
      "AAPL:\n",
      "               close\n",
      "date                \n",
      "2019-03-29  189.9500\n",
      "2019-06-28  197.9200\n",
      "2019-09-30  223.9700\n",
      "2019-12-31  293.6500\n",
      "2020-03-31  254.2900\n",
      "2020-06-30  364.8000\n",
      "2020-09-30  115.8100\n",
      "---\n",
      "close    119.0300\n",
      "Name: 2020-11-05, dtype: object\n"
     ]
    }
   ],
   "source": [
    "symbol_list = [\"AAPL\"]\n",
    "#symbol_list = [\"AAL\", \"UAL\", \"LUV\", \"DAL\", \"AL\"]\n",
    "for symbol in symbol_list:\n",
    "    stock_price = requests.get('https://www.alphavantage.co/query?', params={'function':'TIME_SERIES_MONTHLY_ADJUSTED','symbol':symbol,\n",
    "                                                                              'apikey':'Alpha_vantage_Api_key'})\n",
    "    stock_price = stock_price.json()\n",
    "    try:\n",
    "        stock_price = stock_price['Monthly Adjusted Time Series']\n",
    "    except KeyError:\n",
    "        print('KeyError. Trying again in 60 seconds...')  \n",
    "        time.sleep(60)\n",
    "        stock_price = requests.get('https://www.alphavantage.co/query?', params={'function':'TIME_SERIES_MONTHLY_ADJUSTED','symbol':symbol,\n",
    "                                                                              'apikey':'Alpha_vantage_Api_key'})\n",
    "        stock_price = stock_price['Monthly Adjusted Time Series']\n",
    "    data = {}\n",
    "    date_list = []\n",
    "    close_list = []\n",
    "    for date in stock_price:\n",
    "        data[date] = stock_price[date]['4. close']\n",
    "        date_list.append(date)\n",
    "        close_list.append(stock_price[date]['4. close'])\n",
    "    data = {'date': date_list, 'close': close_list}\n",
    "    price_df = pd.DataFrame.from_dict(data)\n",
    "    price_df.columns = ['date', 'close']\n",
    "    price_df.set_index('date', inplace=True)\n",
    "    price_df_ascending = price_df.sort_values(by=\"date\", ascending=True)\n",
    "    price_df_average = price_df_ascending.rolling(3).mean() \n",
    "    price_df_average = price_df_ascending.iloc[::3, :].truncate(before = \"2019-03-29\")\n",
    "    final_month = price_df_ascending.iloc[-1] # we wanna append final_month to price_df_average\n",
    "    price_df_average.append(final_month) \n",
    "    file_name = f'Data/Prices/{symbol}.csv'\n",
    "    price_df.to_csv(file_name)\n",
    "    print(f'{symbol}:')\n",
    "    print(price_df_average)\n",
    "    print('---')\n",
    "    print(final_month)"
   ]
  },
  {
   "cell_type": "code",
   "execution_count": null,
   "metadata": {},
   "outputs": [],
   "source": []
  }
 ],
 "metadata": {
  "kernelspec": {
   "display_name": "Python 3",
   "language": "python",
   "name": "python3"
  },
  "language_info": {
   "codemirror_mode": {
    "name": "ipython",
    "version": 3
   },
   "file_extension": ".py",
   "mimetype": "text/x-python",
   "name": "python",
   "nbconvert_exporter": "python",
   "pygments_lexer": "ipython3",
   "version": "3.7.7"
  }
 },
 "nbformat": 4,
 "nbformat_minor": 4
}
